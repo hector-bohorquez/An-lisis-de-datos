{
 "cells": [
  {
   "cell_type": "code",
   "execution_count": 1,
   "id": "e2939019",
   "metadata": {
    "executionInfo": {
     "elapsed": 245,
     "status": "ok",
     "timestamp": 1645054594191,
     "user": {
      "displayName": "Héctor Bohórquez",
      "photoUrl": "https://lh3.googleusercontent.com/a/default-user=s64",
      "userId": "17891335524386264163"
     },
     "user_tz": 300
    },
    "id": "e2939019"
   },
   "outputs": [
    {
     "data": {
      "text/html": [
       "        <script type=\"text/javascript\">\n",
       "        window.PlotlyConfig = {MathJaxConfig: 'local'};\n",
       "        if (window.MathJax) {MathJax.Hub.Config({SVG: {font: \"STIX-Web\"}});}\n",
       "        if (typeof require !== 'undefined') {\n",
       "        require.undef(\"plotly\");\n",
       "        requirejs.config({\n",
       "            paths: {\n",
       "                'plotly': ['https://cdn.plot.ly/plotly-2.9.0.min']\n",
       "            }\n",
       "        });\n",
       "        require(['plotly'], function(Plotly) {\n",
       "            window._Plotly = Plotly;\n",
       "        });\n",
       "        }\n",
       "        </script>\n",
       "        "
      ]
     },
     "metadata": {},
     "output_type": "display_data"
    },
    {
     "data": {
      "text/html": [
       "        <script type=\"text/javascript\">\n",
       "        window.PlotlyConfig = {MathJaxConfig: 'local'};\n",
       "        if (window.MathJax) {MathJax.Hub.Config({SVG: {font: \"STIX-Web\"}});}\n",
       "        if (typeof require !== 'undefined') {\n",
       "        require.undef(\"plotly\");\n",
       "        requirejs.config({\n",
       "            paths: {\n",
       "                'plotly': ['https://cdn.plot.ly/plotly-2.9.0.min']\n",
       "            }\n",
       "        });\n",
       "        require(['plotly'], function(Plotly) {\n",
       "            window._Plotly = Plotly;\n",
       "        });\n",
       "        }\n",
       "        </script>\n",
       "        "
      ]
     },
     "metadata": {},
     "output_type": "display_data"
    }
   ],
   "source": [
    "import pandas as pd\n",
    "import numpy as np\n",
    "import cufflinks as cf\n",
    "from IPython.display import display,HTML\n",
    "cf.set_config_file(sharing='public',theme='ggplot',offline=True)"
   ]
  },
  {
   "cell_type": "code",
   "execution_count": 2,
   "id": "d9c24384",
   "metadata": {
    "colab": {
     "base_uri": "https://localhost:8080/",
     "height": 328
    },
    "executionInfo": {
     "elapsed": 291,
     "status": "error",
     "timestamp": 1645054596591,
     "user": {
      "displayName": "Héctor Bohórquez",
      "photoUrl": "https://lh3.googleusercontent.com/a/default-user=s64",
      "userId": "17891335524386264163"
     },
     "user_tz": 300
    },
    "id": "d9c24384",
    "outputId": "6a825385-5181-444f-e147-4cf6dfda6daa"
   },
   "outputs": [
    {
     "data": {
      "text/html": [
       "<div>\n",
       "<style scoped>\n",
       "    .dataframe tbody tr th:only-of-type {\n",
       "        vertical-align: middle;\n",
       "    }\n",
       "\n",
       "    .dataframe tbody tr th {\n",
       "        vertical-align: top;\n",
       "    }\n",
       "\n",
       "    .dataframe thead th {\n",
       "        text-align: right;\n",
       "    }\n",
       "</style>\n",
       "<table border=\"1\" class=\"dataframe\">\n",
       "  <thead>\n",
       "    <tr style=\"text-align: right;\">\n",
       "      <th></th>\n",
       "      <th>CODDEPTO</th>\n",
       "      <th>DEPARTAMENTO</th>\n",
       "      <th>CODMPIO</th>\n",
       "      <th>MUNICIPIO</th>\n",
       "      <th>2001</th>\n",
       "      <th>2002</th>\n",
       "      <th>2003</th>\n",
       "      <th>2004</th>\n",
       "      <th>2005</th>\n",
       "      <th>2006</th>\n",
       "      <th>...</th>\n",
       "      <th>2011</th>\n",
       "      <th>2012</th>\n",
       "      <th>2013</th>\n",
       "      <th>2014</th>\n",
       "      <th>2015</th>\n",
       "      <th>2016</th>\n",
       "      <th>2017</th>\n",
       "      <th>2018</th>\n",
       "      <th>2019</th>\n",
       "      <th>2020</th>\n",
       "    </tr>\n",
       "  </thead>\n",
       "  <tbody>\n",
       "    <tr>\n",
       "      <th>0</th>\n",
       "      <td>91</td>\n",
       "      <td>AMAZONAS</td>\n",
       "      <td>91263</td>\n",
       "      <td>EL ENCANTO (Cor. Departamental)</td>\n",
       "      <td>191.82</td>\n",
       "      <td>264.00</td>\n",
       "      <td>164.00</td>\n",
       "      <td>270.00</td>\n",
       "      <td>382.00</td>\n",
       "      <td>233.00</td>\n",
       "      <td>...</td>\n",
       "      <td>35.00</td>\n",
       "      <td>16.00</td>\n",
       "      <td>8.00</td>\n",
       "      <td>20.00</td>\n",
       "      <td>11.77</td>\n",
       "      <td>12.65</td>\n",
       "      <td>8.04</td>\n",
       "      <td>4.12</td>\n",
       "      <td>2.52</td>\n",
       "      <td>0.0</td>\n",
       "    </tr>\n",
       "    <tr>\n",
       "      <th>1</th>\n",
       "      <td>91</td>\n",
       "      <td>AMAZONAS</td>\n",
       "      <td>91405</td>\n",
       "      <td>LA CHORRERA (Cor. Departamental)</td>\n",
       "      <td>65.00</td>\n",
       "      <td>236.00</td>\n",
       "      <td>209.00</td>\n",
       "      <td>271.00</td>\n",
       "      <td>257.00</td>\n",
       "      <td>223.00</td>\n",
       "      <td>...</td>\n",
       "      <td>36.00</td>\n",
       "      <td>22.00</td>\n",
       "      <td>25.00</td>\n",
       "      <td>51.00</td>\n",
       "      <td>13.61</td>\n",
       "      <td>14.09</td>\n",
       "      <td>18.20</td>\n",
       "      <td>6.04</td>\n",
       "      <td>3.16</td>\n",
       "      <td>0.0</td>\n",
       "    </tr>\n",
       "    <tr>\n",
       "      <th>2</th>\n",
       "      <td>91</td>\n",
       "      <td>AMAZONAS</td>\n",
       "      <td>91407</td>\n",
       "      <td>LA PEDRERA (Cor. Departamental)</td>\n",
       "      <td>- 0</td>\n",
       "      <td>- 0</td>\n",
       "      <td>- 0</td>\n",
       "      <td>- 0</td>\n",
       "      <td>- 0</td>\n",
       "      <td>- 0</td>\n",
       "      <td>...</td>\n",
       "      <td>- 0</td>\n",
       "      <td>1.00</td>\n",
       "      <td>- 0</td>\n",
       "      <td>- 0</td>\n",
       "      <td>- 0</td>\n",
       "      <td>- 0</td>\n",
       "      <td>- 0</td>\n",
       "      <td>- 0</td>\n",
       "      <td>- 0</td>\n",
       "      <td>0.0</td>\n",
       "    </tr>\n",
       "    <tr>\n",
       "      <th>3</th>\n",
       "      <td>91</td>\n",
       "      <td>AMAZONAS</td>\n",
       "      <td>91430</td>\n",
       "      <td>LA VICTORIA (Pacoa) (Cor. Departamental)</td>\n",
       "      <td>- 0</td>\n",
       "      <td>- 0</td>\n",
       "      <td>- 0</td>\n",
       "      <td>- 0</td>\n",
       "      <td>- 0</td>\n",
       "      <td>- 0</td>\n",
       "      <td>...</td>\n",
       "      <td>- 0</td>\n",
       "      <td>- 0</td>\n",
       "      <td>- 0</td>\n",
       "      <td>- 0</td>\n",
       "      <td>- 0</td>\n",
       "      <td>- 0</td>\n",
       "      <td>- 0</td>\n",
       "      <td>- 0</td>\n",
       "      <td>- 0</td>\n",
       "      <td>0.0</td>\n",
       "    </tr>\n",
       "    <tr>\n",
       "      <th>4</th>\n",
       "      <td>91</td>\n",
       "      <td>AMAZONAS</td>\n",
       "      <td>91460</td>\n",
       "      <td>MIRITÍ-PARANÁ (Campoamor) (Cor. Departamental)</td>\n",
       "      <td>6.00</td>\n",
       "      <td>43.00</td>\n",
       "      <td>36.18</td>\n",
       "      <td>30.00</td>\n",
       "      <td>12.00</td>\n",
       "      <td>4.00</td>\n",
       "      <td>...</td>\n",
       "      <td>- 0</td>\n",
       "      <td>5.00</td>\n",
       "      <td>- 0</td>\n",
       "      <td>- 0</td>\n",
       "      <td>- 0</td>\n",
       "      <td>- 0</td>\n",
       "      <td>- 0</td>\n",
       "      <td>- 0</td>\n",
       "      <td>- 0</td>\n",
       "      <td>0.0</td>\n",
       "    </tr>\n",
       "  </tbody>\n",
       "</table>\n",
       "<p>5 rows × 24 columns</p>\n",
       "</div>"
      ],
      "text/plain": [
       "   CODDEPTO DEPARTAMENTO  CODMPIO  \\\n",
       "0        91     AMAZONAS    91263   \n",
       "1        91     AMAZONAS    91405   \n",
       "2        91     AMAZONAS    91407   \n",
       "3        91     AMAZONAS    91430   \n",
       "4        91     AMAZONAS    91460   \n",
       "\n",
       "                                        MUNICIPIO    2001    2002    2003  \\\n",
       "0                 EL ENCANTO (Cor. Departamental)  191.82  264.00  164.00   \n",
       "1                LA CHORRERA (Cor. Departamental)   65.00  236.00  209.00   \n",
       "2                 LA PEDRERA (Cor. Departamental)     - 0     - 0     - 0   \n",
       "3        LA VICTORIA (Pacoa) (Cor. Departamental)     - 0     - 0     - 0   \n",
       "4  MIRITÍ-PARANÁ (Campoamor) (Cor. Departamental)    6.00   43.00   36.18   \n",
       "\n",
       "     2004    2005    2006  ...   2011   2012   2013   2014   2015   2016  \\\n",
       "0  270.00  382.00  233.00  ...  35.00  16.00   8.00  20.00  11.77  12.65   \n",
       "1  271.00  257.00  223.00  ...  36.00  22.00  25.00  51.00  13.61  14.09   \n",
       "2     - 0     - 0     - 0  ...    - 0   1.00    - 0    - 0    - 0    - 0   \n",
       "3     - 0     - 0     - 0  ...    - 0    - 0    - 0    - 0    - 0    - 0   \n",
       "4   30.00   12.00    4.00  ...    - 0   5.00    - 0    - 0    - 0    - 0   \n",
       "\n",
       "    2017  2018  2019 2020  \n",
       "0   8.04  4.12  2.52  0.0  \n",
       "1  18.20  6.04  3.16  0.0  \n",
       "2    - 0   - 0   - 0  0.0  \n",
       "3    - 0   - 0   - 0  0.0  \n",
       "4    - 0   - 0   - 0  0.0  \n",
       "\n",
       "[5 rows x 24 columns]"
      ]
     },
     "execution_count": 2,
     "metadata": {},
     "output_type": "execute_result"
    }
   ],
   "source": [
    "datos = pd.read_csv(\"cultivosDeCoca.csv\")\n",
    "datos.head()"
   ]
  },
  {
   "cell_type": "code",
   "execution_count": 3,
   "id": "6d993b2e",
   "metadata": {},
   "outputs": [
    {
     "data": {
      "text/html": [
       "<div>\n",
       "<style scoped>\n",
       "    .dataframe tbody tr th:only-of-type {\n",
       "        vertical-align: middle;\n",
       "    }\n",
       "\n",
       "    .dataframe tbody tr th {\n",
       "        vertical-align: top;\n",
       "    }\n",
       "\n",
       "    .dataframe thead th {\n",
       "        text-align: right;\n",
       "    }\n",
       "</style>\n",
       "<table border=\"1\" class=\"dataframe\">\n",
       "  <thead>\n",
       "    <tr style=\"text-align: right;\">\n",
       "      <th></th>\n",
       "      <th>CODDEPTO</th>\n",
       "      <th>CODMPIO</th>\n",
       "      <th>2020</th>\n",
       "    </tr>\n",
       "  </thead>\n",
       "  <tbody>\n",
       "    <tr>\n",
       "      <th>count</th>\n",
       "      <td>317.000000</td>\n",
       "      <td>317.000000</td>\n",
       "      <td>317.000000</td>\n",
       "    </tr>\n",
       "    <tr>\n",
       "      <th>mean</th>\n",
       "      <td>39.167192</td>\n",
       "      <td>39614.208202</td>\n",
       "      <td>450.422618</td>\n",
       "    </tr>\n",
       "    <tr>\n",
       "      <th>std</th>\n",
       "      <td>28.855168</td>\n",
       "      <td>28841.708594</td>\n",
       "      <td>1500.313687</td>\n",
       "    </tr>\n",
       "    <tr>\n",
       "      <th>min</th>\n",
       "      <td>5.000000</td>\n",
       "      <td>5031.000000</td>\n",
       "      <td>0.000000</td>\n",
       "    </tr>\n",
       "    <tr>\n",
       "      <th>25%</th>\n",
       "      <td>17.000000</td>\n",
       "      <td>17433.000000</td>\n",
       "      <td>0.000000</td>\n",
       "    </tr>\n",
       "    <tr>\n",
       "      <th>50%</th>\n",
       "      <td>27.000000</td>\n",
       "      <td>27425.000000</td>\n",
       "      <td>4.160000</td>\n",
       "    </tr>\n",
       "    <tr>\n",
       "      <th>75%</th>\n",
       "      <td>54.000000</td>\n",
       "      <td>54670.000000</td>\n",
       "      <td>202.480000</td>\n",
       "    </tr>\n",
       "    <tr>\n",
       "      <th>max</th>\n",
       "      <td>99.000000</td>\n",
       "      <td>99773.000000</td>\n",
       "      <td>19333.880000</td>\n",
       "    </tr>\n",
       "  </tbody>\n",
       "</table>\n",
       "</div>"
      ],
      "text/plain": [
       "         CODDEPTO       CODMPIO          2020\n",
       "count  317.000000    317.000000    317.000000\n",
       "mean    39.167192  39614.208202    450.422618\n",
       "std     28.855168  28841.708594   1500.313687\n",
       "min      5.000000   5031.000000      0.000000\n",
       "25%     17.000000  17433.000000      0.000000\n",
       "50%     27.000000  27425.000000      4.160000\n",
       "75%     54.000000  54670.000000    202.480000\n",
       "max     99.000000  99773.000000  19333.880000"
      ]
     },
     "execution_count": 3,
     "metadata": {},
     "output_type": "execute_result"
    }
   ],
   "source": [
    "datos.describe()"
   ]
  },
  {
   "cell_type": "code",
   "execution_count": 4,
   "id": "82ca9fdd",
   "metadata": {
    "executionInfo": {
     "elapsed": 7,
     "status": "aborted",
     "timestamp": 1645054165456,
     "user": {
      "displayName": "Héctor Bohórquez",
      "photoUrl": "https://lh3.googleusercontent.com/a/default-user=s64",
      "userId": "17891335524386264163"
     },
     "user_tz": 300
    },
    "id": "82ca9fdd"
   },
   "outputs": [
    {
     "data": {
      "text/plain": [
       "7608"
      ]
     },
     "execution_count": 4,
     "metadata": {},
     "output_type": "execute_result"
    }
   ],
   "source": [
    "datos.size"
   ]
  },
  {
   "cell_type": "code",
   "execution_count": 5,
   "id": "9d02ab20",
   "metadata": {
    "executionInfo": {
     "elapsed": 375,
     "status": "aborted",
     "timestamp": 1645054165455,
     "user": {
      "displayName": "Héctor Bohórquez",
      "photoUrl": "https://lh3.googleusercontent.com/a/default-user=s64",
      "userId": "17891335524386264163"
     },
     "user_tz": 300
    },
    "id": "9d02ab20"
   },
   "outputs": [
    {
     "data": {
      "text/plain": [
       "(317, 24)"
      ]
     },
     "execution_count": 5,
     "metadata": {},
     "output_type": "execute_result"
    }
   ],
   "source": [
    "datos.shape"
   ]
  },
  {
   "cell_type": "code",
   "execution_count": 6,
   "id": "53c495e8",
   "metadata": {},
   "outputs": [
    {
     "data": {
      "text/plain": [
       "RangeIndex(start=0, stop=317, step=1)"
      ]
     },
     "execution_count": 6,
     "metadata": {},
     "output_type": "execute_result"
    }
   ],
   "source": [
    "datos.index"
   ]
  },
  {
   "cell_type": "code",
   "execution_count": 7,
   "id": "d8e575cc",
   "metadata": {},
   "outputs": [
    {
     "data": {
      "text/plain": [
       "Index(['CODDEPTO', 'DEPARTAMENTO', 'CODMPIO', 'MUNICIPIO', '2001', '2002',\n",
       "       '2003', '2004', '2005', '2006', '2007', '2008', '2009', '2010', '2011',\n",
       "       '2012', '2013', '2014', '2015', '2016', '2017', '2018', '2019', '2020'],\n",
       "      dtype='object')"
      ]
     },
     "execution_count": 7,
     "metadata": {},
     "output_type": "execute_result"
    }
   ],
   "source": [
    "datos.columns "
   ]
  },
  {
   "cell_type": "code",
   "execution_count": 8,
   "id": "451e8bda",
   "metadata": {
    "executionInfo": {
     "elapsed": 8,
     "status": "aborted",
     "timestamp": 1645054165457,
     "user": {
      "displayName": "Héctor Bohórquez",
      "photoUrl": "https://lh3.googleusercontent.com/a/default-user=s64",
      "userId": "17891335524386264163"
     },
     "user_tz": 300
    },
    "id": "451e8bda"
   },
   "outputs": [
    {
     "data": {
      "text/plain": [
       "CODDEPTO          int64\n",
       "DEPARTAMENTO     object\n",
       "CODMPIO           int64\n",
       "MUNICIPIO        object\n",
       "2001             object\n",
       "2002             object\n",
       "2003             object\n",
       "2004             object\n",
       "2005             object\n",
       "2006             object\n",
       "2007             object\n",
       "2008             object\n",
       "2009             object\n",
       "2010             object\n",
       "2011             object\n",
       "2012             object\n",
       "2013             object\n",
       "2014             object\n",
       "2015             object\n",
       "2016             object\n",
       "2017             object\n",
       "2018             object\n",
       "2019             object\n",
       "2020            float64\n",
       "dtype: object"
      ]
     },
     "execution_count": 8,
     "metadata": {},
     "output_type": "execute_result"
    }
   ],
   "source": [
    "datos.dtypes"
   ]
  },
  {
   "cell_type": "code",
   "execution_count": 9,
   "id": "ec6963cb",
   "metadata": {
    "executionInfo": {
     "elapsed": 8,
     "status": "aborted",
     "timestamp": 1645054165458,
     "user": {
      "displayName": "Héctor Bohórquez",
      "photoUrl": "https://lh3.googleusercontent.com/a/default-user=s64",
      "userId": "17891335524386264163"
     },
     "user_tz": 300
    },
    "id": "ec6963cb"
   },
   "outputs": [
    {
     "name": "stdout",
     "output_type": "stream",
     "text": [
      "<class 'pandas.core.frame.DataFrame'>\n",
      "RangeIndex: 317 entries, 0 to 316\n",
      "Data columns (total 24 columns):\n",
      " #   Column        Non-Null Count  Dtype  \n",
      "---  ------        --------------  -----  \n",
      " 0   CODDEPTO      317 non-null    int64  \n",
      " 1   DEPARTAMENTO  317 non-null    object \n",
      " 2   CODMPIO       317 non-null    int64  \n",
      " 3   MUNICIPIO     317 non-null    object \n",
      " 4   2001          133 non-null    float64\n",
      " 5   2002          146 non-null    float64\n",
      " 6   2003          168 non-null    float64\n",
      " 7   2004          169 non-null    float64\n",
      " 8   2005          166 non-null    float64\n",
      " 9   2006          179 non-null    float64\n",
      " 10  2007          166 non-null    float64\n",
      " 11  2008          180 non-null    float64\n",
      " 12  2009          199 non-null    float64\n",
      " 13  2010          190 non-null    float64\n",
      " 14  2011          185 non-null    float64\n",
      " 15  2012          202 non-null    float64\n",
      " 16  2013          191 non-null    float64\n",
      " 17  2014          179 non-null    float64\n",
      " 18  2015          165 non-null    float64\n",
      " 19  2016          143 non-null    float64\n",
      " 20  2017          140 non-null    float64\n",
      " 21  2018          146 non-null    float64\n",
      " 22  2019          138 non-null    float64\n",
      " 23  2020          317 non-null    float64\n",
      "dtypes: float64(20), int64(2), object(2)\n",
      "memory usage: 59.6+ KB\n"
     ]
    }
   ],
   "source": [
    "datos['2001'] = pd.to_numeric(datos['2001'],errors = 'coerce')\n",
    "datos['2002'] = pd.to_numeric(datos['2002'],errors = 'coerce')\n",
    "datos['2003'] = pd.to_numeric(datos['2003'],errors = 'coerce')\n",
    "datos['2004'] = pd.to_numeric(datos['2004'],errors = 'coerce')\n",
    "datos['2005'] = pd.to_numeric(datos['2005'],errors = 'coerce')\n",
    "datos['2006'] = pd.to_numeric(datos['2006'],errors = 'coerce')\n",
    "datos['2007'] = pd.to_numeric(datos['2007'],errors = 'coerce')\n",
    "datos['2008'] = pd.to_numeric(datos['2008'],errors = 'coerce')\n",
    "datos['2009'] = pd.to_numeric(datos['2009'],errors = 'coerce')\n",
    "datos['2010'] = pd.to_numeric(datos['2010'],errors = 'coerce')\n",
    "datos['2011'] = pd.to_numeric(datos['2011'],errors = 'coerce')\n",
    "datos['2012'] = pd.to_numeric(datos['2012'],errors = 'coerce')\n",
    "datos['2013'] = pd.to_numeric(datos['2013'],errors = 'coerce')\n",
    "datos['2014'] = pd.to_numeric(datos['2014'],errors = 'coerce')\n",
    "datos['2015'] = pd.to_numeric(datos['2015'],errors = 'coerce')\n",
    "datos['2016'] = pd.to_numeric(datos['2016'],errors = 'coerce')\n",
    "datos['2017'] = pd.to_numeric(datos['2017'],errors = 'coerce')\n",
    "datos['2018'] = pd.to_numeric(datos['2018'],errors = 'coerce')\n",
    "datos['2019'] = pd.to_numeric(datos['2019'],errors = 'coerce')\n",
    "datos.info()"
   ]
  },
  {
   "cell_type": "code",
   "execution_count": 10,
   "id": "80da1850",
   "metadata": {
    "executionInfo": {
     "elapsed": 9,
     "status": "aborted",
     "timestamp": 1645054165459,
     "user": {
      "displayName": "Héctor Bohórquez",
      "photoUrl": "https://lh3.googleusercontent.com/a/default-user=s64",
      "userId": "17891335524386264163"
     },
     "user_tz": 300
    },
    "id": "80da1850"
   },
   "outputs": [
    {
     "data": {
      "text/plain": [
       "CODDEPTO          0\n",
       "DEPARTAMENTO      0\n",
       "CODMPIO           0\n",
       "MUNICIPIO         0\n",
       "2001            184\n",
       "2002            171\n",
       "2003            149\n",
       "2004            148\n",
       "2005            151\n",
       "2006            138\n",
       "2007            151\n",
       "2008            137\n",
       "2009            118\n",
       "2010            127\n",
       "2011            132\n",
       "2012            115\n",
       "2013            126\n",
       "2014            138\n",
       "2015            152\n",
       "2016            174\n",
       "2017            177\n",
       "2018            171\n",
       "2019            179\n",
       "2020              0\n",
       "dtype: int64"
      ]
     },
     "execution_count": 10,
     "metadata": {},
     "output_type": "execute_result"
    }
   ],
   "source": [
    "datos.isna().sum()"
   ]
  },
  {
   "cell_type": "code",
   "execution_count": 11,
   "id": "af87df33",
   "metadata": {
    "executionInfo": {
     "elapsed": 9,
     "status": "aborted",
     "timestamp": 1645054165459,
     "user": {
      "displayName": "Héctor Bohórquez",
      "photoUrl": "https://lh3.googleusercontent.com/a/default-user=s64",
      "userId": "17891335524386264163"
     },
     "user_tz": 300
    },
    "id": "af87df33"
   },
   "outputs": [
    {
     "data": {
      "text/html": [
       "<div>\n",
       "<style scoped>\n",
       "    .dataframe tbody tr th:only-of-type {\n",
       "        vertical-align: middle;\n",
       "    }\n",
       "\n",
       "    .dataframe tbody tr th {\n",
       "        vertical-align: top;\n",
       "    }\n",
       "\n",
       "    .dataframe thead th {\n",
       "        text-align: right;\n",
       "    }\n",
       "</style>\n",
       "<table border=\"1\" class=\"dataframe\">\n",
       "  <thead>\n",
       "    <tr style=\"text-align: right;\">\n",
       "      <th></th>\n",
       "      <th>CODDEPTO</th>\n",
       "      <th>DEPARTAMENTO</th>\n",
       "      <th>CODMPIO</th>\n",
       "      <th>MUNICIPIO</th>\n",
       "      <th>2001</th>\n",
       "      <th>2002</th>\n",
       "      <th>2003</th>\n",
       "      <th>2004</th>\n",
       "      <th>2005</th>\n",
       "      <th>2006</th>\n",
       "      <th>...</th>\n",
       "      <th>2011</th>\n",
       "      <th>2012</th>\n",
       "      <th>2013</th>\n",
       "      <th>2014</th>\n",
       "      <th>2015</th>\n",
       "      <th>2016</th>\n",
       "      <th>2017</th>\n",
       "      <th>2018</th>\n",
       "      <th>2019</th>\n",
       "      <th>2020</th>\n",
       "    </tr>\n",
       "  </thead>\n",
       "  <tbody>\n",
       "    <tr>\n",
       "      <th>0</th>\n",
       "      <td>91</td>\n",
       "      <td>AMAZONAS</td>\n",
       "      <td>91263</td>\n",
       "      <td>EL ENCANTO (Cor. Departamental)</td>\n",
       "      <td>191.82</td>\n",
       "      <td>264.0</td>\n",
       "      <td>164.00</td>\n",
       "      <td>270.00</td>\n",
       "      <td>382.0</td>\n",
       "      <td>233.0</td>\n",
       "      <td>...</td>\n",
       "      <td>35.0</td>\n",
       "      <td>16.0</td>\n",
       "      <td>8.0</td>\n",
       "      <td>20.0</td>\n",
       "      <td>11.77</td>\n",
       "      <td>12.65</td>\n",
       "      <td>8.04</td>\n",
       "      <td>4.12</td>\n",
       "      <td>2.52</td>\n",
       "      <td>0.00</td>\n",
       "    </tr>\n",
       "    <tr>\n",
       "      <th>1</th>\n",
       "      <td>91</td>\n",
       "      <td>AMAZONAS</td>\n",
       "      <td>91405</td>\n",
       "      <td>LA CHORRERA (Cor. Departamental)</td>\n",
       "      <td>65.00</td>\n",
       "      <td>236.0</td>\n",
       "      <td>209.00</td>\n",
       "      <td>271.00</td>\n",
       "      <td>257.0</td>\n",
       "      <td>223.0</td>\n",
       "      <td>...</td>\n",
       "      <td>36.0</td>\n",
       "      <td>22.0</td>\n",
       "      <td>25.0</td>\n",
       "      <td>51.0</td>\n",
       "      <td>13.61</td>\n",
       "      <td>14.09</td>\n",
       "      <td>18.20</td>\n",
       "      <td>6.04</td>\n",
       "      <td>3.16</td>\n",
       "      <td>0.00</td>\n",
       "    </tr>\n",
       "    <tr>\n",
       "      <th>2</th>\n",
       "      <td>91</td>\n",
       "      <td>AMAZONAS</td>\n",
       "      <td>91407</td>\n",
       "      <td>LA PEDRERA (Cor. Departamental)</td>\n",
       "      <td>0.00</td>\n",
       "      <td>0.0</td>\n",
       "      <td>0.00</td>\n",
       "      <td>0.00</td>\n",
       "      <td>0.0</td>\n",
       "      <td>0.0</td>\n",
       "      <td>...</td>\n",
       "      <td>0.0</td>\n",
       "      <td>1.0</td>\n",
       "      <td>0.0</td>\n",
       "      <td>0.0</td>\n",
       "      <td>0.00</td>\n",
       "      <td>0.00</td>\n",
       "      <td>0.00</td>\n",
       "      <td>0.00</td>\n",
       "      <td>0.00</td>\n",
       "      <td>0.00</td>\n",
       "    </tr>\n",
       "    <tr>\n",
       "      <th>3</th>\n",
       "      <td>91</td>\n",
       "      <td>AMAZONAS</td>\n",
       "      <td>91430</td>\n",
       "      <td>LA VICTORIA (Pacoa) (Cor. Departamental)</td>\n",
       "      <td>0.00</td>\n",
       "      <td>0.0</td>\n",
       "      <td>0.00</td>\n",
       "      <td>0.00</td>\n",
       "      <td>0.0</td>\n",
       "      <td>0.0</td>\n",
       "      <td>...</td>\n",
       "      <td>0.0</td>\n",
       "      <td>0.0</td>\n",
       "      <td>0.0</td>\n",
       "      <td>0.0</td>\n",
       "      <td>0.00</td>\n",
       "      <td>0.00</td>\n",
       "      <td>0.00</td>\n",
       "      <td>0.00</td>\n",
       "      <td>0.00</td>\n",
       "      <td>0.00</td>\n",
       "    </tr>\n",
       "    <tr>\n",
       "      <th>4</th>\n",
       "      <td>91</td>\n",
       "      <td>AMAZONAS</td>\n",
       "      <td>91460</td>\n",
       "      <td>MIRITÍ-PARANÁ (Campoamor) (Cor. Departamental)</td>\n",
       "      <td>6.00</td>\n",
       "      <td>43.0</td>\n",
       "      <td>36.18</td>\n",
       "      <td>30.00</td>\n",
       "      <td>12.0</td>\n",
       "      <td>4.0</td>\n",
       "      <td>...</td>\n",
       "      <td>0.0</td>\n",
       "      <td>5.0</td>\n",
       "      <td>0.0</td>\n",
       "      <td>0.0</td>\n",
       "      <td>0.00</td>\n",
       "      <td>0.00</td>\n",
       "      <td>0.00</td>\n",
       "      <td>0.00</td>\n",
       "      <td>0.00</td>\n",
       "      <td>0.00</td>\n",
       "    </tr>\n",
       "    <tr>\n",
       "      <th>...</th>\n",
       "      <td>...</td>\n",
       "      <td>...</td>\n",
       "      <td>...</td>\n",
       "      <td>...</td>\n",
       "      <td>...</td>\n",
       "      <td>...</td>\n",
       "      <td>...</td>\n",
       "      <td>...</td>\n",
       "      <td>...</td>\n",
       "      <td>...</td>\n",
       "      <td>...</td>\n",
       "      <td>...</td>\n",
       "      <td>...</td>\n",
       "      <td>...</td>\n",
       "      <td>...</td>\n",
       "      <td>...</td>\n",
       "      <td>...</td>\n",
       "      <td>...</td>\n",
       "      <td>...</td>\n",
       "      <td>...</td>\n",
       "      <td>...</td>\n",
       "    </tr>\n",
       "    <tr>\n",
       "      <th>312</th>\n",
       "      <td>97</td>\n",
       "      <td>VAUPÉS</td>\n",
       "      <td>97666</td>\n",
       "      <td>TARAIRA</td>\n",
       "      <td>0.00</td>\n",
       "      <td>0.0</td>\n",
       "      <td>0.00</td>\n",
       "      <td>0.00</td>\n",
       "      <td>0.0</td>\n",
       "      <td>0.0</td>\n",
       "      <td>...</td>\n",
       "      <td>5.0</td>\n",
       "      <td>1.0</td>\n",
       "      <td>0.0</td>\n",
       "      <td>0.0</td>\n",
       "      <td>0.00</td>\n",
       "      <td>0.00</td>\n",
       "      <td>0.00</td>\n",
       "      <td>0.00</td>\n",
       "      <td>0.00</td>\n",
       "      <td>0.00</td>\n",
       "    </tr>\n",
       "    <tr>\n",
       "      <th>313</th>\n",
       "      <td>97</td>\n",
       "      <td>VAUPÉS</td>\n",
       "      <td>97889</td>\n",
       "      <td>YAVARATÉ (Cor. Departamental)</td>\n",
       "      <td>1.00</td>\n",
       "      <td>14.0</td>\n",
       "      <td>57.00</td>\n",
       "      <td>23.69</td>\n",
       "      <td>1.0</td>\n",
       "      <td>0.0</td>\n",
       "      <td>...</td>\n",
       "      <td>0.0</td>\n",
       "      <td>2.0</td>\n",
       "      <td>1.0</td>\n",
       "      <td>0.0</td>\n",
       "      <td>0.00</td>\n",
       "      <td>0.00</td>\n",
       "      <td>0.00</td>\n",
       "      <td>0.00</td>\n",
       "      <td>0.00</td>\n",
       "      <td>0.00</td>\n",
       "    </tr>\n",
       "    <tr>\n",
       "      <th>314</th>\n",
       "      <td>99</td>\n",
       "      <td>VICHADA</td>\n",
       "      <td>99773</td>\n",
       "      <td>CUMARIBO</td>\n",
       "      <td>0.00</td>\n",
       "      <td>0.0</td>\n",
       "      <td>0.00</td>\n",
       "      <td>0.00</td>\n",
       "      <td>0.0</td>\n",
       "      <td>0.0</td>\n",
       "      <td>...</td>\n",
       "      <td>0.0</td>\n",
       "      <td>0.0</td>\n",
       "      <td>710.0</td>\n",
       "      <td>507.0</td>\n",
       "      <td>683.14</td>\n",
       "      <td>699.19</td>\n",
       "      <td>652.72</td>\n",
       "      <td>549.97</td>\n",
       "      <td>245.30</td>\n",
       "      <td>120.98</td>\n",
       "    </tr>\n",
       "    <tr>\n",
       "      <th>315</th>\n",
       "      <td>99</td>\n",
       "      <td>VICHADA</td>\n",
       "      <td>99524</td>\n",
       "      <td>LA PRIMAVERA</td>\n",
       "      <td>122.70</td>\n",
       "      <td>63.0</td>\n",
       "      <td>60.00</td>\n",
       "      <td>63.00</td>\n",
       "      <td>227.0</td>\n",
       "      <td>53.0</td>\n",
       "      <td>...</td>\n",
       "      <td>30.0</td>\n",
       "      <td>8.0</td>\n",
       "      <td>3.0</td>\n",
       "      <td>4.0</td>\n",
       "      <td>0.00</td>\n",
       "      <td>0.00</td>\n",
       "      <td>0.00</td>\n",
       "      <td>0.00</td>\n",
       "      <td>0.00</td>\n",
       "      <td>0.00</td>\n",
       "    </tr>\n",
       "    <tr>\n",
       "      <th>316</th>\n",
       "      <td>99</td>\n",
       "      <td>VICHADA</td>\n",
       "      <td>99624</td>\n",
       "      <td>SANTA ROSALÍA</td>\n",
       "      <td>0.00</td>\n",
       "      <td>0.0</td>\n",
       "      <td>0.00</td>\n",
       "      <td>0.00</td>\n",
       "      <td>0.0</td>\n",
       "      <td>0.0</td>\n",
       "      <td>...</td>\n",
       "      <td>0.0</td>\n",
       "      <td>0.0</td>\n",
       "      <td>0.0</td>\n",
       "      <td>0.0</td>\n",
       "      <td>0.00</td>\n",
       "      <td>0.00</td>\n",
       "      <td>0.00</td>\n",
       "      <td>0.00</td>\n",
       "      <td>0.00</td>\n",
       "      <td>0.00</td>\n",
       "    </tr>\n",
       "  </tbody>\n",
       "</table>\n",
       "<p>317 rows × 24 columns</p>\n",
       "</div>"
      ],
      "text/plain": [
       "     CODDEPTO DEPARTAMENTO  CODMPIO  \\\n",
       "0          91     AMAZONAS    91263   \n",
       "1          91     AMAZONAS    91405   \n",
       "2          91     AMAZONAS    91407   \n",
       "3          91     AMAZONAS    91430   \n",
       "4          91     AMAZONAS    91460   \n",
       "..        ...          ...      ...   \n",
       "312        97       VAUPÉS    97666   \n",
       "313        97       VAUPÉS    97889   \n",
       "314        99      VICHADA    99773   \n",
       "315        99      VICHADA    99524   \n",
       "316        99      VICHADA    99624   \n",
       "\n",
       "                                          MUNICIPIO    2001   2002    2003  \\\n",
       "0                   EL ENCANTO (Cor. Departamental)  191.82  264.0  164.00   \n",
       "1                  LA CHORRERA (Cor. Departamental)   65.00  236.0  209.00   \n",
       "2                   LA PEDRERA (Cor. Departamental)    0.00    0.0    0.00   \n",
       "3          LA VICTORIA (Pacoa) (Cor. Departamental)    0.00    0.0    0.00   \n",
       "4    MIRITÍ-PARANÁ (Campoamor) (Cor. Departamental)    6.00   43.0   36.18   \n",
       "..                                              ...     ...    ...     ...   \n",
       "312                                         TARAIRA    0.00    0.0    0.00   \n",
       "313                   YAVARATÉ (Cor. Departamental)    1.00   14.0   57.00   \n",
       "314                                        CUMARIBO    0.00    0.0    0.00   \n",
       "315                                    LA PRIMAVERA  122.70   63.0   60.00   \n",
       "316                                   SANTA ROSALÍA    0.00    0.0    0.00   \n",
       "\n",
       "       2004   2005   2006  ...  2011  2012   2013   2014    2015    2016  \\\n",
       "0    270.00  382.0  233.0  ...  35.0  16.0    8.0   20.0   11.77   12.65   \n",
       "1    271.00  257.0  223.0  ...  36.0  22.0   25.0   51.0   13.61   14.09   \n",
       "2      0.00    0.0    0.0  ...   0.0   1.0    0.0    0.0    0.00    0.00   \n",
       "3      0.00    0.0    0.0  ...   0.0   0.0    0.0    0.0    0.00    0.00   \n",
       "4     30.00   12.0    4.0  ...   0.0   5.0    0.0    0.0    0.00    0.00   \n",
       "..      ...    ...    ...  ...   ...   ...    ...    ...     ...     ...   \n",
       "312    0.00    0.0    0.0  ...   5.0   1.0    0.0    0.0    0.00    0.00   \n",
       "313   23.69    1.0    0.0  ...   0.0   2.0    1.0    0.0    0.00    0.00   \n",
       "314    0.00    0.0    0.0  ...   0.0   0.0  710.0  507.0  683.14  699.19   \n",
       "315   63.00  227.0   53.0  ...  30.0   8.0    3.0    4.0    0.00    0.00   \n",
       "316    0.00    0.0    0.0  ...   0.0   0.0    0.0    0.0    0.00    0.00   \n",
       "\n",
       "       2017    2018    2019    2020  \n",
       "0      8.04    4.12    2.52    0.00  \n",
       "1     18.20    6.04    3.16    0.00  \n",
       "2      0.00    0.00    0.00    0.00  \n",
       "3      0.00    0.00    0.00    0.00  \n",
       "4      0.00    0.00    0.00    0.00  \n",
       "..      ...     ...     ...     ...  \n",
       "312    0.00    0.00    0.00    0.00  \n",
       "313    0.00    0.00    0.00    0.00  \n",
       "314  652.72  549.97  245.30  120.98  \n",
       "315    0.00    0.00    0.00    0.00  \n",
       "316    0.00    0.00    0.00    0.00  \n",
       "\n",
       "[317 rows x 24 columns]"
      ]
     },
     "execution_count": 11,
     "metadata": {},
     "output_type": "execute_result"
    }
   ],
   "source": [
    "datos = datos.fillna(0)\n",
    "datos"
   ]
  },
  {
   "cell_type": "code",
   "execution_count": 12,
   "id": "2fbd0045",
   "metadata": {
    "executionInfo": {
     "elapsed": 10,
     "status": "aborted",
     "timestamp": 1645054165460,
     "user": {
      "displayName": "Héctor Bohórquez",
      "photoUrl": "https://lh3.googleusercontent.com/a/default-user=s64",
      "userId": "17891335524386264163"
     },
     "user_tz": 300
    },
    "id": "2fbd0045"
   },
   "outputs": [
    {
     "data": {
      "text/plain": [
       "CODDEPTO        0\n",
       "DEPARTAMENTO    0\n",
       "CODMPIO         0\n",
       "MUNICIPIO       0\n",
       "2001            0\n",
       "2002            0\n",
       "2003            0\n",
       "2004            0\n",
       "2005            0\n",
       "2006            0\n",
       "2007            0\n",
       "2008            0\n",
       "2009            0\n",
       "2010            0\n",
       "2011            0\n",
       "2012            0\n",
       "2013            0\n",
       "2014            0\n",
       "2015            0\n",
       "2016            0\n",
       "2017            0\n",
       "2018            0\n",
       "2019            0\n",
       "2020            0\n",
       "dtype: int64"
      ]
     },
     "execution_count": 12,
     "metadata": {},
     "output_type": "execute_result"
    }
   ],
   "source": [
    "datos.isna().sum()"
   ]
  },
  {
   "cell_type": "code",
   "execution_count": 13,
   "id": "g1O0T8fqAmvv",
   "metadata": {
    "executionInfo": {
     "elapsed": 10,
     "status": "aborted",
     "timestamp": 1645054165460,
     "user": {
      "displayName": "Héctor Bohórquez",
      "photoUrl": "https://lh3.googleusercontent.com/a/default-user=s64",
      "userId": "17891335524386264163"
     },
     "user_tz": 300
    },
    "id": "g1O0T8fqAmvv"
   },
   "outputs": [
    {
     "data": {
      "text/html": [
       "<div>\n",
       "<style scoped>\n",
       "    .dataframe tbody tr th:only-of-type {\n",
       "        vertical-align: middle;\n",
       "    }\n",
       "\n",
       "    .dataframe tbody tr th {\n",
       "        vertical-align: top;\n",
       "    }\n",
       "\n",
       "    .dataframe thead th {\n",
       "        text-align: right;\n",
       "    }\n",
       "</style>\n",
       "<table border=\"1\" class=\"dataframe\">\n",
       "  <thead>\n",
       "    <tr style=\"text-align: right;\">\n",
       "      <th></th>\n",
       "      <th>DEPARTAMENTO</th>\n",
       "      <th>2001</th>\n",
       "      <th>2002</th>\n",
       "      <th>2003</th>\n",
       "      <th>2004</th>\n",
       "      <th>2005</th>\n",
       "      <th>2006</th>\n",
       "      <th>2007</th>\n",
       "      <th>2008</th>\n",
       "      <th>2009</th>\n",
       "      <th>...</th>\n",
       "      <th>2011</th>\n",
       "      <th>2012</th>\n",
       "      <th>2013</th>\n",
       "      <th>2014</th>\n",
       "      <th>2015</th>\n",
       "      <th>2016</th>\n",
       "      <th>2017</th>\n",
       "      <th>2018</th>\n",
       "      <th>2019</th>\n",
       "      <th>2020</th>\n",
       "    </tr>\n",
       "  </thead>\n",
       "  <tbody>\n",
       "    <tr>\n",
       "      <th>0</th>\n",
       "      <td>AMAZONAS</td>\n",
       "      <td>191.82</td>\n",
       "      <td>264.0</td>\n",
       "      <td>164.00</td>\n",
       "      <td>270.00</td>\n",
       "      <td>382.0</td>\n",
       "      <td>233.0</td>\n",
       "      <td>186.0</td>\n",
       "      <td>349.0</td>\n",
       "      <td>109.0</td>\n",
       "      <td>...</td>\n",
       "      <td>35.0</td>\n",
       "      <td>16.0</td>\n",
       "      <td>8.0</td>\n",
       "      <td>20.0</td>\n",
       "      <td>11.77</td>\n",
       "      <td>12.65</td>\n",
       "      <td>8.04</td>\n",
       "      <td>4.12</td>\n",
       "      <td>2.52</td>\n",
       "      <td>0.00</td>\n",
       "    </tr>\n",
       "    <tr>\n",
       "      <th>1</th>\n",
       "      <td>AMAZONAS</td>\n",
       "      <td>65.00</td>\n",
       "      <td>236.0</td>\n",
       "      <td>209.00</td>\n",
       "      <td>271.00</td>\n",
       "      <td>257.0</td>\n",
       "      <td>223.0</td>\n",
       "      <td>132.0</td>\n",
       "      <td>349.0</td>\n",
       "      <td>81.0</td>\n",
       "      <td>...</td>\n",
       "      <td>36.0</td>\n",
       "      <td>22.0</td>\n",
       "      <td>25.0</td>\n",
       "      <td>51.0</td>\n",
       "      <td>13.61</td>\n",
       "      <td>14.09</td>\n",
       "      <td>18.20</td>\n",
       "      <td>6.04</td>\n",
       "      <td>3.16</td>\n",
       "      <td>0.00</td>\n",
       "    </tr>\n",
       "    <tr>\n",
       "      <th>2</th>\n",
       "      <td>AMAZONAS</td>\n",
       "      <td>0.00</td>\n",
       "      <td>0.0</td>\n",
       "      <td>0.00</td>\n",
       "      <td>0.00</td>\n",
       "      <td>0.0</td>\n",
       "      <td>0.0</td>\n",
       "      <td>0.0</td>\n",
       "      <td>0.0</td>\n",
       "      <td>7.0</td>\n",
       "      <td>...</td>\n",
       "      <td>0.0</td>\n",
       "      <td>1.0</td>\n",
       "      <td>0.0</td>\n",
       "      <td>0.0</td>\n",
       "      <td>0.00</td>\n",
       "      <td>0.00</td>\n",
       "      <td>0.00</td>\n",
       "      <td>0.00</td>\n",
       "      <td>0.00</td>\n",
       "      <td>0.00</td>\n",
       "    </tr>\n",
       "    <tr>\n",
       "      <th>3</th>\n",
       "      <td>AMAZONAS</td>\n",
       "      <td>0.00</td>\n",
       "      <td>0.0</td>\n",
       "      <td>0.00</td>\n",
       "      <td>0.00</td>\n",
       "      <td>0.0</td>\n",
       "      <td>0.0</td>\n",
       "      <td>0.0</td>\n",
       "      <td>0.0</td>\n",
       "      <td>2.0</td>\n",
       "      <td>...</td>\n",
       "      <td>0.0</td>\n",
       "      <td>0.0</td>\n",
       "      <td>0.0</td>\n",
       "      <td>0.0</td>\n",
       "      <td>0.00</td>\n",
       "      <td>0.00</td>\n",
       "      <td>0.00</td>\n",
       "      <td>0.00</td>\n",
       "      <td>0.00</td>\n",
       "      <td>0.00</td>\n",
       "    </tr>\n",
       "    <tr>\n",
       "      <th>4</th>\n",
       "      <td>AMAZONAS</td>\n",
       "      <td>6.00</td>\n",
       "      <td>43.0</td>\n",
       "      <td>36.18</td>\n",
       "      <td>30.00</td>\n",
       "      <td>12.0</td>\n",
       "      <td>4.0</td>\n",
       "      <td>9.0</td>\n",
       "      <td>2.0</td>\n",
       "      <td>4.0</td>\n",
       "      <td>...</td>\n",
       "      <td>0.0</td>\n",
       "      <td>5.0</td>\n",
       "      <td>0.0</td>\n",
       "      <td>0.0</td>\n",
       "      <td>0.00</td>\n",
       "      <td>0.00</td>\n",
       "      <td>0.00</td>\n",
       "      <td>0.00</td>\n",
       "      <td>0.00</td>\n",
       "      <td>0.00</td>\n",
       "    </tr>\n",
       "    <tr>\n",
       "      <th>...</th>\n",
       "      <td>...</td>\n",
       "      <td>...</td>\n",
       "      <td>...</td>\n",
       "      <td>...</td>\n",
       "      <td>...</td>\n",
       "      <td>...</td>\n",
       "      <td>...</td>\n",
       "      <td>...</td>\n",
       "      <td>...</td>\n",
       "      <td>...</td>\n",
       "      <td>...</td>\n",
       "      <td>...</td>\n",
       "      <td>...</td>\n",
       "      <td>...</td>\n",
       "      <td>...</td>\n",
       "      <td>...</td>\n",
       "      <td>...</td>\n",
       "      <td>...</td>\n",
       "      <td>...</td>\n",
       "      <td>...</td>\n",
       "      <td>...</td>\n",
       "    </tr>\n",
       "    <tr>\n",
       "      <th>312</th>\n",
       "      <td>VAUPÉS</td>\n",
       "      <td>0.00</td>\n",
       "      <td>0.0</td>\n",
       "      <td>0.00</td>\n",
       "      <td>0.00</td>\n",
       "      <td>0.0</td>\n",
       "      <td>0.0</td>\n",
       "      <td>0.0</td>\n",
       "      <td>0.0</td>\n",
       "      <td>1.0</td>\n",
       "      <td>...</td>\n",
       "      <td>5.0</td>\n",
       "      <td>1.0</td>\n",
       "      <td>0.0</td>\n",
       "      <td>0.0</td>\n",
       "      <td>0.00</td>\n",
       "      <td>0.00</td>\n",
       "      <td>0.00</td>\n",
       "      <td>0.00</td>\n",
       "      <td>0.00</td>\n",
       "      <td>0.00</td>\n",
       "    </tr>\n",
       "    <tr>\n",
       "      <th>313</th>\n",
       "      <td>VAUPÉS</td>\n",
       "      <td>1.00</td>\n",
       "      <td>14.0</td>\n",
       "      <td>57.00</td>\n",
       "      <td>23.69</td>\n",
       "      <td>1.0</td>\n",
       "      <td>0.0</td>\n",
       "      <td>4.0</td>\n",
       "      <td>5.0</td>\n",
       "      <td>4.0</td>\n",
       "      <td>...</td>\n",
       "      <td>0.0</td>\n",
       "      <td>2.0</td>\n",
       "      <td>1.0</td>\n",
       "      <td>0.0</td>\n",
       "      <td>0.00</td>\n",
       "      <td>0.00</td>\n",
       "      <td>0.00</td>\n",
       "      <td>0.00</td>\n",
       "      <td>0.00</td>\n",
       "      <td>0.00</td>\n",
       "    </tr>\n",
       "    <tr>\n",
       "      <th>314</th>\n",
       "      <td>VICHADA</td>\n",
       "      <td>0.00</td>\n",
       "      <td>0.0</td>\n",
       "      <td>0.00</td>\n",
       "      <td>0.00</td>\n",
       "      <td>0.0</td>\n",
       "      <td>0.0</td>\n",
       "      <td>0.0</td>\n",
       "      <td>0.0</td>\n",
       "      <td>0.0</td>\n",
       "      <td>...</td>\n",
       "      <td>0.0</td>\n",
       "      <td>0.0</td>\n",
       "      <td>710.0</td>\n",
       "      <td>507.0</td>\n",
       "      <td>683.14</td>\n",
       "      <td>699.19</td>\n",
       "      <td>652.72</td>\n",
       "      <td>549.97</td>\n",
       "      <td>245.30</td>\n",
       "      <td>120.98</td>\n",
       "    </tr>\n",
       "    <tr>\n",
       "      <th>315</th>\n",
       "      <td>VICHADA</td>\n",
       "      <td>122.70</td>\n",
       "      <td>63.0</td>\n",
       "      <td>60.00</td>\n",
       "      <td>63.00</td>\n",
       "      <td>227.0</td>\n",
       "      <td>53.0</td>\n",
       "      <td>108.0</td>\n",
       "      <td>46.0</td>\n",
       "      <td>35.0</td>\n",
       "      <td>...</td>\n",
       "      <td>30.0</td>\n",
       "      <td>8.0</td>\n",
       "      <td>3.0</td>\n",
       "      <td>4.0</td>\n",
       "      <td>0.00</td>\n",
       "      <td>0.00</td>\n",
       "      <td>0.00</td>\n",
       "      <td>0.00</td>\n",
       "      <td>0.00</td>\n",
       "      <td>0.00</td>\n",
       "    </tr>\n",
       "    <tr>\n",
       "      <th>316</th>\n",
       "      <td>VICHADA</td>\n",
       "      <td>0.00</td>\n",
       "      <td>0.0</td>\n",
       "      <td>0.00</td>\n",
       "      <td>0.00</td>\n",
       "      <td>0.0</td>\n",
       "      <td>0.0</td>\n",
       "      <td>1.0</td>\n",
       "      <td>0.0</td>\n",
       "      <td>12.0</td>\n",
       "      <td>...</td>\n",
       "      <td>0.0</td>\n",
       "      <td>0.0</td>\n",
       "      <td>0.0</td>\n",
       "      <td>0.0</td>\n",
       "      <td>0.00</td>\n",
       "      <td>0.00</td>\n",
       "      <td>0.00</td>\n",
       "      <td>0.00</td>\n",
       "      <td>0.00</td>\n",
       "      <td>0.00</td>\n",
       "    </tr>\n",
       "  </tbody>\n",
       "</table>\n",
       "<p>317 rows × 21 columns</p>\n",
       "</div>"
      ],
      "text/plain": [
       "    DEPARTAMENTO    2001   2002    2003    2004   2005   2006   2007   2008  \\\n",
       "0       AMAZONAS  191.82  264.0  164.00  270.00  382.0  233.0  186.0  349.0   \n",
       "1       AMAZONAS   65.00  236.0  209.00  271.00  257.0  223.0  132.0  349.0   \n",
       "2       AMAZONAS    0.00    0.0    0.00    0.00    0.0    0.0    0.0    0.0   \n",
       "3       AMAZONAS    0.00    0.0    0.00    0.00    0.0    0.0    0.0    0.0   \n",
       "4       AMAZONAS    6.00   43.0   36.18   30.00   12.0    4.0    9.0    2.0   \n",
       "..           ...     ...    ...     ...     ...    ...    ...    ...    ...   \n",
       "312       VAUPÉS    0.00    0.0    0.00    0.00    0.0    0.0    0.0    0.0   \n",
       "313       VAUPÉS    1.00   14.0   57.00   23.69    1.0    0.0    4.0    5.0   \n",
       "314      VICHADA    0.00    0.0    0.00    0.00    0.0    0.0    0.0    0.0   \n",
       "315      VICHADA  122.70   63.0   60.00   63.00  227.0   53.0  108.0   46.0   \n",
       "316      VICHADA    0.00    0.0    0.00    0.00    0.0    0.0    1.0    0.0   \n",
       "\n",
       "      2009  ...  2011  2012   2013   2014    2015    2016    2017    2018  \\\n",
       "0    109.0  ...  35.0  16.0    8.0   20.0   11.77   12.65    8.04    4.12   \n",
       "1     81.0  ...  36.0  22.0   25.0   51.0   13.61   14.09   18.20    6.04   \n",
       "2      7.0  ...   0.0   1.0    0.0    0.0    0.00    0.00    0.00    0.00   \n",
       "3      2.0  ...   0.0   0.0    0.0    0.0    0.00    0.00    0.00    0.00   \n",
       "4      4.0  ...   0.0   5.0    0.0    0.0    0.00    0.00    0.00    0.00   \n",
       "..     ...  ...   ...   ...    ...    ...     ...     ...     ...     ...   \n",
       "312    1.0  ...   5.0   1.0    0.0    0.0    0.00    0.00    0.00    0.00   \n",
       "313    4.0  ...   0.0   2.0    1.0    0.0    0.00    0.00    0.00    0.00   \n",
       "314    0.0  ...   0.0   0.0  710.0  507.0  683.14  699.19  652.72  549.97   \n",
       "315   35.0  ...  30.0   8.0    3.0    4.0    0.00    0.00    0.00    0.00   \n",
       "316   12.0  ...   0.0   0.0    0.0    0.0    0.00    0.00    0.00    0.00   \n",
       "\n",
       "       2019    2020  \n",
       "0      2.52    0.00  \n",
       "1      3.16    0.00  \n",
       "2      0.00    0.00  \n",
       "3      0.00    0.00  \n",
       "4      0.00    0.00  \n",
       "..      ...     ...  \n",
       "312    0.00    0.00  \n",
       "313    0.00    0.00  \n",
       "314  245.30  120.98  \n",
       "315    0.00    0.00  \n",
       "316    0.00    0.00  \n",
       "\n",
       "[317 rows x 21 columns]"
      ]
     },
     "execution_count": 13,
     "metadata": {},
     "output_type": "execute_result"
    }
   ],
   "source": [
    "datos.drop(['CODDEPTO', 'CODMPIO', 'MUNICIPIO'], axis=1, inplace= True)\n",
    "datos"
   ]
  },
  {
   "cell_type": "code",
   "execution_count": 14,
   "id": "f7d4097b",
   "metadata": {
    "executionInfo": {
     "elapsed": 10,
     "status": "aborted",
     "timestamp": 1645054165460,
     "user": {
      "displayName": "Héctor Bohórquez",
      "photoUrl": "https://lh3.googleusercontent.com/a/default-user=s64",
      "userId": "17891335524386264163"
     },
     "user_tz": 300
    },
    "id": "f7d4097b"
   },
   "outputs": [
    {
     "data": {
      "text/html": [
       "<div>\n",
       "<style scoped>\n",
       "    .dataframe tbody tr th:only-of-type {\n",
       "        vertical-align: middle;\n",
       "    }\n",
       "\n",
       "    .dataframe tbody tr th {\n",
       "        vertical-align: top;\n",
       "    }\n",
       "\n",
       "    .dataframe thead th {\n",
       "        text-align: right;\n",
       "    }\n",
       "</style>\n",
       "<table border=\"1\" class=\"dataframe\">\n",
       "  <thead>\n",
       "    <tr style=\"text-align: right;\">\n",
       "      <th></th>\n",
       "      <th>2001</th>\n",
       "      <th>2002</th>\n",
       "      <th>2003</th>\n",
       "      <th>2004</th>\n",
       "      <th>2005</th>\n",
       "      <th>2006</th>\n",
       "      <th>2007</th>\n",
       "      <th>2008</th>\n",
       "      <th>2009</th>\n",
       "      <th>2010</th>\n",
       "      <th>2011</th>\n",
       "      <th>2012</th>\n",
       "      <th>2013</th>\n",
       "      <th>2014</th>\n",
       "      <th>2015</th>\n",
       "      <th>2016</th>\n",
       "      <th>2017</th>\n",
       "      <th>2018</th>\n",
       "      <th>2019</th>\n",
       "      <th>2020</th>\n",
       "    </tr>\n",
       "    <tr>\n",
       "      <th>DEPARTAMENTO</th>\n",
       "      <th></th>\n",
       "      <th></th>\n",
       "      <th></th>\n",
       "      <th></th>\n",
       "      <th></th>\n",
       "      <th></th>\n",
       "      <th></th>\n",
       "      <th></th>\n",
       "      <th></th>\n",
       "      <th></th>\n",
       "      <th></th>\n",
       "      <th></th>\n",
       "      <th></th>\n",
       "      <th></th>\n",
       "      <th></th>\n",
       "      <th></th>\n",
       "      <th></th>\n",
       "      <th></th>\n",
       "      <th></th>\n",
       "      <th></th>\n",
       "    </tr>\n",
       "  </thead>\n",
       "  <tbody>\n",
       "    <tr>\n",
       "      <th>AMAZONAS</th>\n",
       "      <td>508.16</td>\n",
       "      <td>783.0</td>\n",
       "      <td>625.26</td>\n",
       "      <td>783.00</td>\n",
       "      <td>897.00</td>\n",
       "      <td>692.0</td>\n",
       "      <td>541.0</td>\n",
       "      <td>836.0</td>\n",
       "      <td>278.0</td>\n",
       "      <td>338.0</td>\n",
       "      <td>122.0</td>\n",
       "      <td>98.0</td>\n",
       "      <td>110.0</td>\n",
       "      <td>173.0</td>\n",
       "      <td>111.17</td>\n",
       "      <td>166.77</td>\n",
       "      <td>165.62</td>\n",
       "      <td>121.65</td>\n",
       "      <td>124.64</td>\n",
       "      <td>61.45</td>\n",
       "    </tr>\n",
       "    <tr>\n",
       "      <th>ANTIOQUIA</th>\n",
       "      <td>3386.30</td>\n",
       "      <td>3029.0</td>\n",
       "      <td>4264.71</td>\n",
       "      <td>4002.00</td>\n",
       "      <td>5012.00</td>\n",
       "      <td>5051.0</td>\n",
       "      <td>2788.0</td>\n",
       "      <td>6096.0</td>\n",
       "      <td>4553.0</td>\n",
       "      <td>3184.0</td>\n",
       "      <td>3105.0</td>\n",
       "      <td>2725.0</td>\n",
       "      <td>991.0</td>\n",
       "      <td>2293.0</td>\n",
       "      <td>2402.57</td>\n",
       "      <td>3305.90</td>\n",
       "      <td>3721.91</td>\n",
       "      <td>5224.91</td>\n",
       "      <td>3958.62</td>\n",
       "      <td>12090.19</td>\n",
       "    </tr>\n",
       "    <tr>\n",
       "      <th>ARAUCA</th>\n",
       "      <td>844.25</td>\n",
       "      <td>568.0</td>\n",
       "      <td>538.04</td>\n",
       "      <td>1552.00</td>\n",
       "      <td>718.00</td>\n",
       "      <td>1306.0</td>\n",
       "      <td>1026.0</td>\n",
       "      <td>447.0</td>\n",
       "      <td>417.0</td>\n",
       "      <td>247.0</td>\n",
       "      <td>133.0</td>\n",
       "      <td>82.0</td>\n",
       "      <td>69.0</td>\n",
       "      <td>26.0</td>\n",
       "      <td>17.13</td>\n",
       "      <td>8.91</td>\n",
       "      <td>121.22</td>\n",
       "      <td>7.44</td>\n",
       "      <td>0.00</td>\n",
       "      <td>0.00</td>\n",
       "    </tr>\n",
       "    <tr>\n",
       "      <th>BOLÍVAR</th>\n",
       "      <td>597.93</td>\n",
       "      <td>2735.0</td>\n",
       "      <td>2030.06</td>\n",
       "      <td>3401.09</td>\n",
       "      <td>2518.00</td>\n",
       "      <td>2382.0</td>\n",
       "      <td>4393.0</td>\n",
       "      <td>2999.0</td>\n",
       "      <td>3694.0</td>\n",
       "      <td>3324.0</td>\n",
       "      <td>2207.0</td>\n",
       "      <td>1968.0</td>\n",
       "      <td>925.0</td>\n",
       "      <td>1565.0</td>\n",
       "      <td>1043.02</td>\n",
       "      <td>2838.78</td>\n",
       "      <td>2441.54</td>\n",
       "      <td>2082.69</td>\n",
       "      <td>1776.80</td>\n",
       "      <td>9373.25</td>\n",
       "    </tr>\n",
       "    <tr>\n",
       "      <th>BOYACÁ</th>\n",
       "      <td>83.49</td>\n",
       "      <td>118.0</td>\n",
       "      <td>593.96</td>\n",
       "      <td>359.08</td>\n",
       "      <td>342.00</td>\n",
       "      <td>441.0</td>\n",
       "      <td>79.0</td>\n",
       "      <td>197.0</td>\n",
       "      <td>183.0</td>\n",
       "      <td>105.0</td>\n",
       "      <td>94.0</td>\n",
       "      <td>10.0</td>\n",
       "      <td>17.0</td>\n",
       "      <td>14.0</td>\n",
       "      <td>7.71</td>\n",
       "      <td>14.99</td>\n",
       "      <td>21.99</td>\n",
       "      <td>16.48</td>\n",
       "      <td>4.24</td>\n",
       "      <td>6.35</td>\n",
       "    </tr>\n",
       "    <tr>\n",
       "      <th>CALDAS</th>\n",
       "      <td>0.00</td>\n",
       "      <td>0.0</td>\n",
       "      <td>53.71</td>\n",
       "      <td>358.08</td>\n",
       "      <td>189.46</td>\n",
       "      <td>461.0</td>\n",
       "      <td>56.0</td>\n",
       "      <td>187.0</td>\n",
       "      <td>167.0</td>\n",
       "      <td>45.0</td>\n",
       "      <td>46.0</td>\n",
       "      <td>16.0</td>\n",
       "      <td>8.0</td>\n",
       "      <td>0.0</td>\n",
       "      <td>0.00</td>\n",
       "      <td>0.00</td>\n",
       "      <td>0.00</td>\n",
       "      <td>0.00</td>\n",
       "      <td>0.00</td>\n",
       "      <td>0.00</td>\n",
       "    </tr>\n",
       "    <tr>\n",
       "      <th>CAQUETÁ</th>\n",
       "      <td>4622.83</td>\n",
       "      <td>3356.0</td>\n",
       "      <td>4093.98</td>\n",
       "      <td>4201.00</td>\n",
       "      <td>2137.00</td>\n",
       "      <td>3293.0</td>\n",
       "      <td>3149.0</td>\n",
       "      <td>2929.0</td>\n",
       "      <td>3759.0</td>\n",
       "      <td>2578.0</td>\n",
       "      <td>3327.0</td>\n",
       "      <td>3694.0</td>\n",
       "      <td>4322.0</td>\n",
       "      <td>2888.0</td>\n",
       "      <td>3840.08</td>\n",
       "      <td>2763.16</td>\n",
       "      <td>3746.41</td>\n",
       "      <td>3491.58</td>\n",
       "      <td>3101.62</td>\n",
       "      <td>2054.94</td>\n",
       "    </tr>\n",
       "    <tr>\n",
       "      <th>CAUCA</th>\n",
       "      <td>1625.94</td>\n",
       "      <td>2121.0</td>\n",
       "      <td>1443.02</td>\n",
       "      <td>1265.31</td>\n",
       "      <td>2705.00</td>\n",
       "      <td>2105.0</td>\n",
       "      <td>4168.0</td>\n",
       "      <td>1698.0</td>\n",
       "      <td>1794.0</td>\n",
       "      <td>1745.0</td>\n",
       "      <td>2018.0</td>\n",
       "      <td>2451.0</td>\n",
       "      <td>2029.0</td>\n",
       "      <td>2539.0</td>\n",
       "      <td>4025.03</td>\n",
       "      <td>2676.49</td>\n",
       "      <td>2460.92</td>\n",
       "      <td>2490.22</td>\n",
       "      <td>3224.48</td>\n",
       "      <td>16543.83</td>\n",
       "    </tr>\n",
       "    <tr>\n",
       "      <th>CESAR</th>\n",
       "      <td>0.00</td>\n",
       "      <td>0.0</td>\n",
       "      <td>0.00</td>\n",
       "      <td>0.00</td>\n",
       "      <td>0.00</td>\n",
       "      <td>0.0</td>\n",
       "      <td>0.0</td>\n",
       "      <td>5.0</td>\n",
       "      <td>0.0</td>\n",
       "      <td>0.0</td>\n",
       "      <td>0.0</td>\n",
       "      <td>12.0</td>\n",
       "      <td>13.0</td>\n",
       "      <td>10.0</td>\n",
       "      <td>33.27</td>\n",
       "      <td>26.40</td>\n",
       "      <td>24.35</td>\n",
       "      <td>31.10</td>\n",
       "      <td>38.16</td>\n",
       "      <td>32.22</td>\n",
       "    </tr>\n",
       "    <tr>\n",
       "      <th>CHOCÓ</th>\n",
       "      <td>354.00</td>\n",
       "      <td>0.0</td>\n",
       "      <td>453.58</td>\n",
       "      <td>323.33</td>\n",
       "      <td>1024.89</td>\n",
       "      <td>816.0</td>\n",
       "      <td>1080.0</td>\n",
       "      <td>1680.0</td>\n",
       "      <td>1666.0</td>\n",
       "      <td>3158.0</td>\n",
       "      <td>2511.0</td>\n",
       "      <td>3429.0</td>\n",
       "      <td>1661.0</td>\n",
       "      <td>1741.0</td>\n",
       "      <td>1488.80</td>\n",
       "      <td>1802.84</td>\n",
       "      <td>2610.59</td>\n",
       "      <td>2155.13</td>\n",
       "      <td>1248.09</td>\n",
       "      <td>1467.64</td>\n",
       "    </tr>\n",
       "    <tr>\n",
       "      <th>CUNDINAMARCA</th>\n",
       "      <td>1.62</td>\n",
       "      <td>57.0</td>\n",
       "      <td>56.94</td>\n",
       "      <td>72.00</td>\n",
       "      <td>56.00</td>\n",
       "      <td>120.0</td>\n",
       "      <td>131.0</td>\n",
       "      <td>12.0</td>\n",
       "      <td>0.0</td>\n",
       "      <td>32.0</td>\n",
       "      <td>18.0</td>\n",
       "      <td>0.0</td>\n",
       "      <td>0.0</td>\n",
       "      <td>0.0</td>\n",
       "      <td>0.00</td>\n",
       "      <td>0.00</td>\n",
       "      <td>0.00</td>\n",
       "      <td>0.00</td>\n",
       "      <td>0.00</td>\n",
       "      <td>0.00</td>\n",
       "    </tr>\n",
       "    <tr>\n",
       "      <th>CÓRDOBA</th>\n",
       "      <td>639.90</td>\n",
       "      <td>385.0</td>\n",
       "      <td>837.70</td>\n",
       "      <td>1535.00</td>\n",
       "      <td>991.00</td>\n",
       "      <td>1216.0</td>\n",
       "      <td>774.0</td>\n",
       "      <td>1710.0</td>\n",
       "      <td>1421.0</td>\n",
       "      <td>1415.0</td>\n",
       "      <td>1088.0</td>\n",
       "      <td>1046.0</td>\n",
       "      <td>439.0</td>\n",
       "      <td>560.0</td>\n",
       "      <td>1363.00</td>\n",
       "      <td>1378.22</td>\n",
       "      <td>557.41</td>\n",
       "      <td>1421.22</td>\n",
       "      <td>1741.62</td>\n",
       "      <td>3748.82</td>\n",
       "    </tr>\n",
       "    <tr>\n",
       "      <th>GUAINÍA</th>\n",
       "      <td>1119.81</td>\n",
       "      <td>748.0</td>\n",
       "      <td>726.00</td>\n",
       "      <td>721.28</td>\n",
       "      <td>752.00</td>\n",
       "      <td>753.0</td>\n",
       "      <td>623.0</td>\n",
       "      <td>625.0</td>\n",
       "      <td>538.0</td>\n",
       "      <td>446.0</td>\n",
       "      <td>318.0</td>\n",
       "      <td>301.0</td>\n",
       "      <td>81.0</td>\n",
       "      <td>66.0</td>\n",
       "      <td>36.73</td>\n",
       "      <td>21.61</td>\n",
       "      <td>30.54</td>\n",
       "      <td>41.22</td>\n",
       "      <td>22.27</td>\n",
       "      <td>19.15</td>\n",
       "    </tr>\n",
       "    <tr>\n",
       "      <th>GUAVIARE</th>\n",
       "      <td>0.00</td>\n",
       "      <td>0.0</td>\n",
       "      <td>0.00</td>\n",
       "      <td>0.00</td>\n",
       "      <td>0.00</td>\n",
       "      <td>0.0</td>\n",
       "      <td>0.0</td>\n",
       "      <td>808.0</td>\n",
       "      <td>721.0</td>\n",
       "      <td>546.0</td>\n",
       "      <td>862.0</td>\n",
       "      <td>1431.0</td>\n",
       "      <td>399.0</td>\n",
       "      <td>614.0</td>\n",
       "      <td>455.19</td>\n",
       "      <td>542.29</td>\n",
       "      <td>416.39</td>\n",
       "      <td>241.84</td>\n",
       "      <td>902.31</td>\n",
       "      <td>3226.65</td>\n",
       "    </tr>\n",
       "    <tr>\n",
       "      <th>LA GUAJIRA</th>\n",
       "      <td>193.71</td>\n",
       "      <td>354.0</td>\n",
       "      <td>275.52</td>\n",
       "      <td>556.00</td>\n",
       "      <td>329.00</td>\n",
       "      <td>166.0</td>\n",
       "      <td>87.0</td>\n",
       "      <td>160.0</td>\n",
       "      <td>163.0</td>\n",
       "      <td>134.0</td>\n",
       "      <td>16.0</td>\n",
       "      <td>10.0</td>\n",
       "      <td>6.0</td>\n",
       "      <td>0.0</td>\n",
       "      <td>0.00</td>\n",
       "      <td>0.00</td>\n",
       "      <td>1.69</td>\n",
       "      <td>1.61</td>\n",
       "      <td>0.00</td>\n",
       "      <td>0.00</td>\n",
       "    </tr>\n",
       "    <tr>\n",
       "      <th>MAGDALENA</th>\n",
       "      <td>450.25</td>\n",
       "      <td>644.0</td>\n",
       "      <td>484.13</td>\n",
       "      <td>706.00</td>\n",
       "      <td>213.00</td>\n",
       "      <td>271.0</td>\n",
       "      <td>278.0</td>\n",
       "      <td>391.0</td>\n",
       "      <td>152.0</td>\n",
       "      <td>121.0</td>\n",
       "      <td>46.0</td>\n",
       "      <td>37.0</td>\n",
       "      <td>37.0</td>\n",
       "      <td>9.0</td>\n",
       "      <td>6.81</td>\n",
       "      <td>34.93</td>\n",
       "      <td>7.88</td>\n",
       "      <td>12.45</td>\n",
       "      <td>6.88</td>\n",
       "      <td>2.07</td>\n",
       "    </tr>\n",
       "    <tr>\n",
       "      <th>META</th>\n",
       "      <td>1753.48</td>\n",
       "      <td>2568.0</td>\n",
       "      <td>2619.39</td>\n",
       "      <td>2016.00</td>\n",
       "      <td>1655.00</td>\n",
       "      <td>1944.0</td>\n",
       "      <td>1706.0</td>\n",
       "      <td>1858.0</td>\n",
       "      <td>2172.0</td>\n",
       "      <td>1864.0</td>\n",
       "      <td>1930.0</td>\n",
       "      <td>1635.0</td>\n",
       "      <td>1797.0</td>\n",
       "      <td>658.0</td>\n",
       "      <td>695.98</td>\n",
       "      <td>784.57</td>\n",
       "      <td>683.42</td>\n",
       "      <td>1862.69</td>\n",
       "      <td>1465.57</td>\n",
       "      <td>1234.86</td>\n",
       "    </tr>\n",
       "    <tr>\n",
       "      <th>NARIÑO</th>\n",
       "      <td>2099.51</td>\n",
       "      <td>2601.0</td>\n",
       "      <td>2585.61</td>\n",
       "      <td>3296.20</td>\n",
       "      <td>3547.00</td>\n",
       "      <td>3786.0</td>\n",
       "      <td>3842.0</td>\n",
       "      <td>2603.0</td>\n",
       "      <td>3373.0</td>\n",
       "      <td>4262.0</td>\n",
       "      <td>2640.0</td>\n",
       "      <td>3853.0</td>\n",
       "      <td>4034.0</td>\n",
       "      <td>3137.0</td>\n",
       "      <td>4812.74</td>\n",
       "      <td>4523.28</td>\n",
       "      <td>7916.66</td>\n",
       "      <td>8811.29</td>\n",
       "      <td>6773.10</td>\n",
       "      <td>30751.38</td>\n",
       "    </tr>\n",
       "    <tr>\n",
       "      <th>NORTE DE SANTANDER</th>\n",
       "      <td>2041.48</td>\n",
       "      <td>1702.0</td>\n",
       "      <td>2073.10</td>\n",
       "      <td>1790.00</td>\n",
       "      <td>844.00</td>\n",
       "      <td>488.0</td>\n",
       "      <td>1946.0</td>\n",
       "      <td>1853.0</td>\n",
       "      <td>2713.0</td>\n",
       "      <td>1889.0</td>\n",
       "      <td>2365.0</td>\n",
       "      <td>2857.0</td>\n",
       "      <td>4440.0</td>\n",
       "      <td>2869.0</td>\n",
       "      <td>3303.34</td>\n",
       "      <td>2656.47</td>\n",
       "      <td>2350.28</td>\n",
       "      <td>2494.44</td>\n",
       "      <td>1318.61</td>\n",
       "      <td>40083.70</td>\n",
       "    </tr>\n",
       "    <tr>\n",
       "      <th>PUTUMAYO</th>\n",
       "      <td>1075.06</td>\n",
       "      <td>2152.0</td>\n",
       "      <td>2281.00</td>\n",
       "      <td>2061.44</td>\n",
       "      <td>2042.00</td>\n",
       "      <td>2015.0</td>\n",
       "      <td>2851.0</td>\n",
       "      <td>1713.0</td>\n",
       "      <td>2942.0</td>\n",
       "      <td>2190.0</td>\n",
       "      <td>2012.0</td>\n",
       "      <td>3467.0</td>\n",
       "      <td>3347.0</td>\n",
       "      <td>1026.0</td>\n",
       "      <td>111.52</td>\n",
       "      <td>116.48</td>\n",
       "      <td>76.23</td>\n",
       "      <td>70.14</td>\n",
       "      <td>77.08</td>\n",
       "      <td>19986.18</td>\n",
       "    </tr>\n",
       "    <tr>\n",
       "      <th>SANTANDER</th>\n",
       "      <td>160.15</td>\n",
       "      <td>465.0</td>\n",
       "      <td>631.72</td>\n",
       "      <td>1124.56</td>\n",
       "      <td>981.00</td>\n",
       "      <td>866.0</td>\n",
       "      <td>1325.0</td>\n",
       "      <td>1791.0</td>\n",
       "      <td>953.0</td>\n",
       "      <td>673.0</td>\n",
       "      <td>595.0</td>\n",
       "      <td>110.0</td>\n",
       "      <td>77.0</td>\n",
       "      <td>25.0</td>\n",
       "      <td>20.66</td>\n",
       "      <td>37.24</td>\n",
       "      <td>29.99</td>\n",
       "      <td>20.58</td>\n",
       "      <td>2.39</td>\n",
       "      <td>3.12</td>\n",
       "    </tr>\n",
       "    <tr>\n",
       "      <th>VALLE DEL CAUCA</th>\n",
       "      <td>186.35</td>\n",
       "      <td>111.0</td>\n",
       "      <td>37.00</td>\n",
       "      <td>44.97</td>\n",
       "      <td>28.00</td>\n",
       "      <td>281.0</td>\n",
       "      <td>453.0</td>\n",
       "      <td>438.0</td>\n",
       "      <td>929.0</td>\n",
       "      <td>665.0</td>\n",
       "      <td>981.0</td>\n",
       "      <td>482.0</td>\n",
       "      <td>398.0</td>\n",
       "      <td>561.0</td>\n",
       "      <td>689.98</td>\n",
       "      <td>751.93</td>\n",
       "      <td>231.15</td>\n",
       "      <td>1270.56</td>\n",
       "      <td>1009.06</td>\n",
       "      <td>1937.86</td>\n",
       "    </tr>\n",
       "    <tr>\n",
       "      <th>VAUPÉS</th>\n",
       "      <td>490.96</td>\n",
       "      <td>361.0</td>\n",
       "      <td>1156.84</td>\n",
       "      <td>1083.69</td>\n",
       "      <td>671.00</td>\n",
       "      <td>460.0</td>\n",
       "      <td>307.0</td>\n",
       "      <td>557.0</td>\n",
       "      <td>351.0</td>\n",
       "      <td>721.0</td>\n",
       "      <td>277.0</td>\n",
       "      <td>254.0</td>\n",
       "      <td>184.0</td>\n",
       "      <td>109.0</td>\n",
       "      <td>32.64</td>\n",
       "      <td>96.66</td>\n",
       "      <td>105.46</td>\n",
       "      <td>64.74</td>\n",
       "      <td>25.95</td>\n",
       "      <td>39.33</td>\n",
       "    </tr>\n",
       "    <tr>\n",
       "      <th>VICHADA</th>\n",
       "      <td>122.70</td>\n",
       "      <td>63.0</td>\n",
       "      <td>60.00</td>\n",
       "      <td>63.00</td>\n",
       "      <td>227.00</td>\n",
       "      <td>53.0</td>\n",
       "      <td>109.0</td>\n",
       "      <td>46.0</td>\n",
       "      <td>47.0</td>\n",
       "      <td>38.0</td>\n",
       "      <td>30.0</td>\n",
       "      <td>8.0</td>\n",
       "      <td>713.0</td>\n",
       "      <td>511.0</td>\n",
       "      <td>683.14</td>\n",
       "      <td>699.19</td>\n",
       "      <td>652.72</td>\n",
       "      <td>549.97</td>\n",
       "      <td>245.30</td>\n",
       "      <td>120.98</td>\n",
       "    </tr>\n",
       "  </tbody>\n",
       "</table>\n",
       "</div>"
      ],
      "text/plain": [
       "                       2001    2002     2003     2004     2005    2006  \\\n",
       "DEPARTAMENTO                                                             \n",
       "AMAZONAS             508.16   783.0   625.26   783.00   897.00   692.0   \n",
       "ANTIOQUIA           3386.30  3029.0  4264.71  4002.00  5012.00  5051.0   \n",
       "ARAUCA               844.25   568.0   538.04  1552.00   718.00  1306.0   \n",
       "BOLÍVAR              597.93  2735.0  2030.06  3401.09  2518.00  2382.0   \n",
       "BOYACÁ                83.49   118.0   593.96   359.08   342.00   441.0   \n",
       "CALDAS                 0.00     0.0    53.71   358.08   189.46   461.0   \n",
       "CAQUETÁ             4622.83  3356.0  4093.98  4201.00  2137.00  3293.0   \n",
       "CAUCA               1625.94  2121.0  1443.02  1265.31  2705.00  2105.0   \n",
       "CESAR                  0.00     0.0     0.00     0.00     0.00     0.0   \n",
       "CHOCÓ                354.00     0.0   453.58   323.33  1024.89   816.0   \n",
       "CUNDINAMARCA           1.62    57.0    56.94    72.00    56.00   120.0   \n",
       "CÓRDOBA              639.90   385.0   837.70  1535.00   991.00  1216.0   \n",
       "GUAINÍA             1119.81   748.0   726.00   721.28   752.00   753.0   \n",
       "GUAVIARE               0.00     0.0     0.00     0.00     0.00     0.0   \n",
       "LA GUAJIRA           193.71   354.0   275.52   556.00   329.00   166.0   \n",
       "MAGDALENA            450.25   644.0   484.13   706.00   213.00   271.0   \n",
       "META                1753.48  2568.0  2619.39  2016.00  1655.00  1944.0   \n",
       "NARIÑO              2099.51  2601.0  2585.61  3296.20  3547.00  3786.0   \n",
       "NORTE DE SANTANDER  2041.48  1702.0  2073.10  1790.00   844.00   488.0   \n",
       "PUTUMAYO            1075.06  2152.0  2281.00  2061.44  2042.00  2015.0   \n",
       "SANTANDER            160.15   465.0   631.72  1124.56   981.00   866.0   \n",
       "VALLE DEL CAUCA      186.35   111.0    37.00    44.97    28.00   281.0   \n",
       "VAUPÉS               490.96   361.0  1156.84  1083.69   671.00   460.0   \n",
       "VICHADA              122.70    63.0    60.00    63.00   227.00    53.0   \n",
       "\n",
       "                      2007    2008    2009    2010    2011    2012    2013  \\\n",
       "DEPARTAMENTO                                                                 \n",
       "AMAZONAS             541.0   836.0   278.0   338.0   122.0    98.0   110.0   \n",
       "ANTIOQUIA           2788.0  6096.0  4553.0  3184.0  3105.0  2725.0   991.0   \n",
       "ARAUCA              1026.0   447.0   417.0   247.0   133.0    82.0    69.0   \n",
       "BOLÍVAR             4393.0  2999.0  3694.0  3324.0  2207.0  1968.0   925.0   \n",
       "BOYACÁ                79.0   197.0   183.0   105.0    94.0    10.0    17.0   \n",
       "CALDAS                56.0   187.0   167.0    45.0    46.0    16.0     8.0   \n",
       "CAQUETÁ             3149.0  2929.0  3759.0  2578.0  3327.0  3694.0  4322.0   \n",
       "CAUCA               4168.0  1698.0  1794.0  1745.0  2018.0  2451.0  2029.0   \n",
       "CESAR                  0.0     5.0     0.0     0.0     0.0    12.0    13.0   \n",
       "CHOCÓ               1080.0  1680.0  1666.0  3158.0  2511.0  3429.0  1661.0   \n",
       "CUNDINAMARCA         131.0    12.0     0.0    32.0    18.0     0.0     0.0   \n",
       "CÓRDOBA              774.0  1710.0  1421.0  1415.0  1088.0  1046.0   439.0   \n",
       "GUAINÍA              623.0   625.0   538.0   446.0   318.0   301.0    81.0   \n",
       "GUAVIARE               0.0   808.0   721.0   546.0   862.0  1431.0   399.0   \n",
       "LA GUAJIRA            87.0   160.0   163.0   134.0    16.0    10.0     6.0   \n",
       "MAGDALENA            278.0   391.0   152.0   121.0    46.0    37.0    37.0   \n",
       "META                1706.0  1858.0  2172.0  1864.0  1930.0  1635.0  1797.0   \n",
       "NARIÑO              3842.0  2603.0  3373.0  4262.0  2640.0  3853.0  4034.0   \n",
       "NORTE DE SANTANDER  1946.0  1853.0  2713.0  1889.0  2365.0  2857.0  4440.0   \n",
       "PUTUMAYO            2851.0  1713.0  2942.0  2190.0  2012.0  3467.0  3347.0   \n",
       "SANTANDER           1325.0  1791.0   953.0   673.0   595.0   110.0    77.0   \n",
       "VALLE DEL CAUCA      453.0   438.0   929.0   665.0   981.0   482.0   398.0   \n",
       "VAUPÉS               307.0   557.0   351.0   721.0   277.0   254.0   184.0   \n",
       "VICHADA              109.0    46.0    47.0    38.0    30.0     8.0   713.0   \n",
       "\n",
       "                      2014     2015     2016     2017     2018     2019  \\\n",
       "DEPARTAMENTO                                                              \n",
       "AMAZONAS             173.0   111.17   166.77   165.62   121.65   124.64   \n",
       "ANTIOQUIA           2293.0  2402.57  3305.90  3721.91  5224.91  3958.62   \n",
       "ARAUCA                26.0    17.13     8.91   121.22     7.44     0.00   \n",
       "BOLÍVAR             1565.0  1043.02  2838.78  2441.54  2082.69  1776.80   \n",
       "BOYACÁ                14.0     7.71    14.99    21.99    16.48     4.24   \n",
       "CALDAS                 0.0     0.00     0.00     0.00     0.00     0.00   \n",
       "CAQUETÁ             2888.0  3840.08  2763.16  3746.41  3491.58  3101.62   \n",
       "CAUCA               2539.0  4025.03  2676.49  2460.92  2490.22  3224.48   \n",
       "CESAR                 10.0    33.27    26.40    24.35    31.10    38.16   \n",
       "CHOCÓ               1741.0  1488.80  1802.84  2610.59  2155.13  1248.09   \n",
       "CUNDINAMARCA           0.0     0.00     0.00     0.00     0.00     0.00   \n",
       "CÓRDOBA              560.0  1363.00  1378.22   557.41  1421.22  1741.62   \n",
       "GUAINÍA               66.0    36.73    21.61    30.54    41.22    22.27   \n",
       "GUAVIARE             614.0   455.19   542.29   416.39   241.84   902.31   \n",
       "LA GUAJIRA             0.0     0.00     0.00     1.69     1.61     0.00   \n",
       "MAGDALENA              9.0     6.81    34.93     7.88    12.45     6.88   \n",
       "META                 658.0   695.98   784.57   683.42  1862.69  1465.57   \n",
       "NARIÑO              3137.0  4812.74  4523.28  7916.66  8811.29  6773.10   \n",
       "NORTE DE SANTANDER  2869.0  3303.34  2656.47  2350.28  2494.44  1318.61   \n",
       "PUTUMAYO            1026.0   111.52   116.48    76.23    70.14    77.08   \n",
       "SANTANDER             25.0    20.66    37.24    29.99    20.58     2.39   \n",
       "VALLE DEL CAUCA      561.0   689.98   751.93   231.15  1270.56  1009.06   \n",
       "VAUPÉS               109.0    32.64    96.66   105.46    64.74    25.95   \n",
       "VICHADA              511.0   683.14   699.19   652.72   549.97   245.30   \n",
       "\n",
       "                        2020  \n",
       "DEPARTAMENTO                  \n",
       "AMAZONAS               61.45  \n",
       "ANTIOQUIA           12090.19  \n",
       "ARAUCA                  0.00  \n",
       "BOLÍVAR              9373.25  \n",
       "BOYACÁ                  6.35  \n",
       "CALDAS                  0.00  \n",
       "CAQUETÁ              2054.94  \n",
       "CAUCA               16543.83  \n",
       "CESAR                  32.22  \n",
       "CHOCÓ                1467.64  \n",
       "CUNDINAMARCA            0.00  \n",
       "CÓRDOBA              3748.82  \n",
       "GUAINÍA                19.15  \n",
       "GUAVIARE             3226.65  \n",
       "LA GUAJIRA              0.00  \n",
       "MAGDALENA               2.07  \n",
       "META                 1234.86  \n",
       "NARIÑO              30751.38  \n",
       "NORTE DE SANTANDER  40083.70  \n",
       "PUTUMAYO            19986.18  \n",
       "SANTANDER               3.12  \n",
       "VALLE DEL CAUCA      1937.86  \n",
       "VAUPÉS                 39.33  \n",
       "VICHADA               120.98  "
      ]
     },
     "execution_count": 14,
     "metadata": {},
     "output_type": "execute_result"
    }
   ],
   "source": [
    "ndatos = datos.groupby(['DEPARTAMENTO']).sum()\n",
    "ndatos"
   ]
  },
  {
   "cell_type": "code",
   "execution_count": 15,
   "id": "4c126cd1",
   "metadata": {},
   "outputs": [
    {
     "data": {
      "text/html": [
       "<div>\n",
       "<style scoped>\n",
       "    .dataframe tbody tr th:only-of-type {\n",
       "        vertical-align: middle;\n",
       "    }\n",
       "\n",
       "    .dataframe tbody tr th {\n",
       "        vertical-align: top;\n",
       "    }\n",
       "\n",
       "    .dataframe thead th {\n",
       "        text-align: right;\n",
       "    }\n",
       "</style>\n",
       "<table border=\"1\" class=\"dataframe\">\n",
       "  <thead>\n",
       "    <tr style=\"text-align: right;\">\n",
       "      <th></th>\n",
       "      <th>2001</th>\n",
       "      <th>2002</th>\n",
       "      <th>2003</th>\n",
       "      <th>2004</th>\n",
       "      <th>2005</th>\n",
       "      <th>2006</th>\n",
       "      <th>2007</th>\n",
       "      <th>2008</th>\n",
       "      <th>2009</th>\n",
       "      <th>2010</th>\n",
       "      <th>2011</th>\n",
       "      <th>2012</th>\n",
       "      <th>2013</th>\n",
       "      <th>2014</th>\n",
       "      <th>2015</th>\n",
       "      <th>2016</th>\n",
       "      <th>2017</th>\n",
       "      <th>2018</th>\n",
       "      <th>2019</th>\n",
       "      <th>2020</th>\n",
       "    </tr>\n",
       "  </thead>\n",
       "  <tbody>\n",
       "    <tr>\n",
       "      <th>count</th>\n",
       "      <td>24.000000</td>\n",
       "      <td>24.000000</td>\n",
       "      <td>24.000000</td>\n",
       "      <td>24.000000</td>\n",
       "      <td>24.000000</td>\n",
       "      <td>24.000000</td>\n",
       "      <td>24.000000</td>\n",
       "      <td>24.000000</td>\n",
       "      <td>24.000000</td>\n",
       "      <td>24.000000</td>\n",
       "      <td>24.000000</td>\n",
       "      <td>24.000000</td>\n",
       "      <td>24.000000</td>\n",
       "      <td>24.000000</td>\n",
       "      <td>24.000000</td>\n",
       "      <td>24.000000</td>\n",
       "      <td>24.000000</td>\n",
       "      <td>24.000000</td>\n",
       "      <td>24.000000</td>\n",
       "      <td>24.000000</td>\n",
       "    </tr>\n",
       "    <tr>\n",
       "      <th>mean</th>\n",
       "      <td>931.578333</td>\n",
       "      <td>1038.375000</td>\n",
       "      <td>1163.386250</td>\n",
       "      <td>1304.792917</td>\n",
       "      <td>1161.639583</td>\n",
       "      <td>1206.916667</td>\n",
       "      <td>1321.333333</td>\n",
       "      <td>1318.291667</td>\n",
       "      <td>1374.416667</td>\n",
       "      <td>1238.333333</td>\n",
       "      <td>1114.208333</td>\n",
       "      <td>1249.000000</td>\n",
       "      <td>1087.375000</td>\n",
       "      <td>891.416667</td>\n",
       "      <td>1049.187917</td>\n",
       "      <td>1051.962917</td>\n",
       "      <td>1182.265417</td>\n",
       "      <td>1353.497917</td>\n",
       "      <td>1127.782917</td>\n",
       "      <td>5949.332083</td>\n",
       "    </tr>\n",
       "    <tr>\n",
       "      <th>std</th>\n",
       "      <td>1163.580283</td>\n",
       "      <td>1141.896508</td>\n",
       "      <td>1255.292374</td>\n",
       "      <td>1283.232246</td>\n",
       "      <td>1265.829803</td>\n",
       "      <td>1324.926542</td>\n",
       "      <td>1440.433650</td>\n",
       "      <td>1385.590362</td>\n",
       "      <td>1419.749914</td>\n",
       "      <td>1288.558671</td>\n",
       "      <td>1141.456353</td>\n",
       "      <td>1422.350382</td>\n",
       "      <td>1482.039277</td>\n",
       "      <td>1089.996088</td>\n",
       "      <td>1492.015343</td>\n",
       "      <td>1349.920839</td>\n",
       "      <td>1898.106218</td>\n",
       "      <td>2106.517199</td>\n",
       "      <td>1675.770243</td>\n",
       "      <td>10726.238860</td>\n",
       "    </tr>\n",
       "    <tr>\n",
       "      <th>min</th>\n",
       "      <td>0.000000</td>\n",
       "      <td>0.000000</td>\n",
       "      <td>0.000000</td>\n",
       "      <td>0.000000</td>\n",
       "      <td>0.000000</td>\n",
       "      <td>0.000000</td>\n",
       "      <td>0.000000</td>\n",
       "      <td>5.000000</td>\n",
       "      <td>0.000000</td>\n",
       "      <td>0.000000</td>\n",
       "      <td>0.000000</td>\n",
       "      <td>0.000000</td>\n",
       "      <td>0.000000</td>\n",
       "      <td>0.000000</td>\n",
       "      <td>0.000000</td>\n",
       "      <td>0.000000</td>\n",
       "      <td>0.000000</td>\n",
       "      <td>0.000000</td>\n",
       "      <td>0.000000</td>\n",
       "      <td>0.000000</td>\n",
       "    </tr>\n",
       "    <tr>\n",
       "      <th>25%</th>\n",
       "      <td>150.787500</td>\n",
       "      <td>99.000000</td>\n",
       "      <td>221.640000</td>\n",
       "      <td>349.392500</td>\n",
       "      <td>223.500000</td>\n",
       "      <td>278.500000</td>\n",
       "      <td>125.500000</td>\n",
       "      <td>342.500000</td>\n",
       "      <td>179.000000</td>\n",
       "      <td>130.750000</td>\n",
       "      <td>82.000000</td>\n",
       "      <td>31.750000</td>\n",
       "      <td>61.000000</td>\n",
       "      <td>22.250000</td>\n",
       "      <td>19.777500</td>\n",
       "      <td>25.202500</td>\n",
       "      <td>28.580000</td>\n",
       "      <td>19.555000</td>\n",
       "      <td>6.220000</td>\n",
       "      <td>5.542500</td>\n",
       "    </tr>\n",
       "    <tr>\n",
       "      <th>50%</th>\n",
       "      <td>499.560000</td>\n",
       "      <td>516.500000</td>\n",
       "      <td>628.490000</td>\n",
       "      <td>933.345000</td>\n",
       "      <td>798.000000</td>\n",
       "      <td>722.500000</td>\n",
       "      <td>698.500000</td>\n",
       "      <td>822.000000</td>\n",
       "      <td>825.000000</td>\n",
       "      <td>669.000000</td>\n",
       "      <td>728.500000</td>\n",
       "      <td>391.500000</td>\n",
       "      <td>398.500000</td>\n",
       "      <td>535.500000</td>\n",
       "      <td>283.355000</td>\n",
       "      <td>354.530000</td>\n",
       "      <td>198.385000</td>\n",
       "      <td>181.745000</td>\n",
       "      <td>184.970000</td>\n",
       "      <td>677.920000</td>\n",
       "    </tr>\n",
       "    <tr>\n",
       "      <th>75%</th>\n",
       "      <td>1246.342500</td>\n",
       "      <td>2128.750000</td>\n",
       "      <td>2040.820000</td>\n",
       "      <td>1846.500000</td>\n",
       "      <td>1751.750000</td>\n",
       "      <td>1961.750000</td>\n",
       "      <td>2156.500000</td>\n",
       "      <td>1806.500000</td>\n",
       "      <td>2307.250000</td>\n",
       "      <td>1964.250000</td>\n",
       "      <td>2065.250000</td>\n",
       "      <td>2519.500000</td>\n",
       "      <td>1695.000000</td>\n",
       "      <td>1609.000000</td>\n",
       "      <td>1394.450000</td>\n",
       "      <td>2016.247500</td>\n",
       "      <td>2373.095000</td>\n",
       "      <td>2100.800000</td>\n",
       "      <td>1534.582500</td>\n",
       "      <td>5154.927500</td>\n",
       "    </tr>\n",
       "    <tr>\n",
       "      <th>max</th>\n",
       "      <td>4622.830000</td>\n",
       "      <td>3356.000000</td>\n",
       "      <td>4264.710000</td>\n",
       "      <td>4201.000000</td>\n",
       "      <td>5012.000000</td>\n",
       "      <td>5051.000000</td>\n",
       "      <td>4393.000000</td>\n",
       "      <td>6096.000000</td>\n",
       "      <td>4553.000000</td>\n",
       "      <td>4262.000000</td>\n",
       "      <td>3327.000000</td>\n",
       "      <td>3853.000000</td>\n",
       "      <td>4440.000000</td>\n",
       "      <td>3137.000000</td>\n",
       "      <td>4812.740000</td>\n",
       "      <td>4523.280000</td>\n",
       "      <td>7916.660000</td>\n",
       "      <td>8811.290000</td>\n",
       "      <td>6773.100000</td>\n",
       "      <td>40083.700000</td>\n",
       "    </tr>\n",
       "  </tbody>\n",
       "</table>\n",
       "</div>"
      ],
      "text/plain": [
       "              2001         2002         2003         2004         2005  \\\n",
       "count    24.000000    24.000000    24.000000    24.000000    24.000000   \n",
       "mean    931.578333  1038.375000  1163.386250  1304.792917  1161.639583   \n",
       "std    1163.580283  1141.896508  1255.292374  1283.232246  1265.829803   \n",
       "min       0.000000     0.000000     0.000000     0.000000     0.000000   \n",
       "25%     150.787500    99.000000   221.640000   349.392500   223.500000   \n",
       "50%     499.560000   516.500000   628.490000   933.345000   798.000000   \n",
       "75%    1246.342500  2128.750000  2040.820000  1846.500000  1751.750000   \n",
       "max    4622.830000  3356.000000  4264.710000  4201.000000  5012.000000   \n",
       "\n",
       "              2006         2007         2008         2009         2010  \\\n",
       "count    24.000000    24.000000    24.000000    24.000000    24.000000   \n",
       "mean   1206.916667  1321.333333  1318.291667  1374.416667  1238.333333   \n",
       "std    1324.926542  1440.433650  1385.590362  1419.749914  1288.558671   \n",
       "min       0.000000     0.000000     5.000000     0.000000     0.000000   \n",
       "25%     278.500000   125.500000   342.500000   179.000000   130.750000   \n",
       "50%     722.500000   698.500000   822.000000   825.000000   669.000000   \n",
       "75%    1961.750000  2156.500000  1806.500000  2307.250000  1964.250000   \n",
       "max    5051.000000  4393.000000  6096.000000  4553.000000  4262.000000   \n",
       "\n",
       "              2011         2012         2013         2014         2015  \\\n",
       "count    24.000000    24.000000    24.000000    24.000000    24.000000   \n",
       "mean   1114.208333  1249.000000  1087.375000   891.416667  1049.187917   \n",
       "std    1141.456353  1422.350382  1482.039277  1089.996088  1492.015343   \n",
       "min       0.000000     0.000000     0.000000     0.000000     0.000000   \n",
       "25%      82.000000    31.750000    61.000000    22.250000    19.777500   \n",
       "50%     728.500000   391.500000   398.500000   535.500000   283.355000   \n",
       "75%    2065.250000  2519.500000  1695.000000  1609.000000  1394.450000   \n",
       "max    3327.000000  3853.000000  4440.000000  3137.000000  4812.740000   \n",
       "\n",
       "              2016         2017         2018         2019          2020  \n",
       "count    24.000000    24.000000    24.000000    24.000000     24.000000  \n",
       "mean   1051.962917  1182.265417  1353.497917  1127.782917   5949.332083  \n",
       "std    1349.920839  1898.106218  2106.517199  1675.770243  10726.238860  \n",
       "min       0.000000     0.000000     0.000000     0.000000      0.000000  \n",
       "25%      25.202500    28.580000    19.555000     6.220000      5.542500  \n",
       "50%     354.530000   198.385000   181.745000   184.970000    677.920000  \n",
       "75%    2016.247500  2373.095000  2100.800000  1534.582500   5154.927500  \n",
       "max    4523.280000  7916.660000  8811.290000  6773.100000  40083.700000  "
      ]
     },
     "execution_count": 15,
     "metadata": {},
     "output_type": "execute_result"
    }
   ],
   "source": [
    "ndatos.describe()"
   ]
  },
  {
   "cell_type": "code",
   "execution_count": 16,
   "id": "3f09d64e",
   "metadata": {},
   "outputs": [
    {
     "data": {
      "text/plain": [
       "2001     22357.88\n",
       "2002     24921.00\n",
       "2003     27921.27\n",
       "2004     31315.03\n",
       "2005     27879.35\n",
       "2006     28966.00\n",
       "2007     31712.00\n",
       "2008     31639.00\n",
       "2009     32986.00\n",
       "2010     29720.00\n",
       "2011     26741.00\n",
       "2012     29976.00\n",
       "2013     26097.00\n",
       "2014     21394.00\n",
       "2015     25180.51\n",
       "2016     25247.11\n",
       "2017     28374.37\n",
       "2018     32483.95\n",
       "2019     27066.79\n",
       "2020    142783.97\n",
       "dtype: float64"
      ]
     },
     "execution_count": 16,
     "metadata": {},
     "output_type": "execute_result"
    }
   ],
   "source": [
    "ndatos.sum()"
   ]
  },
  {
   "cell_type": "code",
   "execution_count": 17,
   "id": "6dece7e3",
   "metadata": {
    "scrolled": true
   },
   "outputs": [
    {
     "data": {
      "text/html": [
       "<div>\n",
       "<style scoped>\n",
       "    .dataframe tbody tr th:only-of-type {\n",
       "        vertical-align: middle;\n",
       "    }\n",
       "\n",
       "    .dataframe tbody tr th {\n",
       "        vertical-align: top;\n",
       "    }\n",
       "\n",
       "    .dataframe thead th {\n",
       "        text-align: right;\n",
       "    }\n",
       "</style>\n",
       "<table border=\"1\" class=\"dataframe\">\n",
       "  <thead>\n",
       "    <tr style=\"text-align: right;\">\n",
       "      <th></th>\n",
       "      <th>2015</th>\n",
       "      <th>2016</th>\n",
       "      <th>2017</th>\n",
       "      <th>2018</th>\n",
       "      <th>2019</th>\n",
       "      <th>2020</th>\n",
       "    </tr>\n",
       "    <tr>\n",
       "      <th>DEPARTAMENTO</th>\n",
       "      <th></th>\n",
       "      <th></th>\n",
       "      <th></th>\n",
       "      <th></th>\n",
       "      <th></th>\n",
       "      <th></th>\n",
       "    </tr>\n",
       "  </thead>\n",
       "  <tbody>\n",
       "    <tr>\n",
       "      <th>AMAZONAS</th>\n",
       "      <td>111.17</td>\n",
       "      <td>166.77</td>\n",
       "      <td>165.62</td>\n",
       "      <td>121.65</td>\n",
       "      <td>124.64</td>\n",
       "      <td>61.45</td>\n",
       "    </tr>\n",
       "    <tr>\n",
       "      <th>ANTIOQUIA</th>\n",
       "      <td>2402.57</td>\n",
       "      <td>3305.90</td>\n",
       "      <td>3721.91</td>\n",
       "      <td>5224.91</td>\n",
       "      <td>3958.62</td>\n",
       "      <td>12090.19</td>\n",
       "    </tr>\n",
       "    <tr>\n",
       "      <th>ARAUCA</th>\n",
       "      <td>17.13</td>\n",
       "      <td>8.91</td>\n",
       "      <td>121.22</td>\n",
       "      <td>7.44</td>\n",
       "      <td>0.00</td>\n",
       "      <td>0.00</td>\n",
       "    </tr>\n",
       "    <tr>\n",
       "      <th>BOLÍVAR</th>\n",
       "      <td>1043.02</td>\n",
       "      <td>2838.78</td>\n",
       "      <td>2441.54</td>\n",
       "      <td>2082.69</td>\n",
       "      <td>1776.80</td>\n",
       "      <td>9373.25</td>\n",
       "    </tr>\n",
       "    <tr>\n",
       "      <th>BOYACÁ</th>\n",
       "      <td>7.71</td>\n",
       "      <td>14.99</td>\n",
       "      <td>21.99</td>\n",
       "      <td>16.48</td>\n",
       "      <td>4.24</td>\n",
       "      <td>6.35</td>\n",
       "    </tr>\n",
       "    <tr>\n",
       "      <th>CALDAS</th>\n",
       "      <td>0.00</td>\n",
       "      <td>0.00</td>\n",
       "      <td>0.00</td>\n",
       "      <td>0.00</td>\n",
       "      <td>0.00</td>\n",
       "      <td>0.00</td>\n",
       "    </tr>\n",
       "    <tr>\n",
       "      <th>CAQUETÁ</th>\n",
       "      <td>3840.08</td>\n",
       "      <td>2763.16</td>\n",
       "      <td>3746.41</td>\n",
       "      <td>3491.58</td>\n",
       "      <td>3101.62</td>\n",
       "      <td>2054.94</td>\n",
       "    </tr>\n",
       "    <tr>\n",
       "      <th>CAUCA</th>\n",
       "      <td>4025.03</td>\n",
       "      <td>2676.49</td>\n",
       "      <td>2460.92</td>\n",
       "      <td>2490.22</td>\n",
       "      <td>3224.48</td>\n",
       "      <td>16543.83</td>\n",
       "    </tr>\n",
       "    <tr>\n",
       "      <th>CESAR</th>\n",
       "      <td>33.27</td>\n",
       "      <td>26.40</td>\n",
       "      <td>24.35</td>\n",
       "      <td>31.10</td>\n",
       "      <td>38.16</td>\n",
       "      <td>32.22</td>\n",
       "    </tr>\n",
       "    <tr>\n",
       "      <th>CHOCÓ</th>\n",
       "      <td>1488.80</td>\n",
       "      <td>1802.84</td>\n",
       "      <td>2610.59</td>\n",
       "      <td>2155.13</td>\n",
       "      <td>1248.09</td>\n",
       "      <td>1467.64</td>\n",
       "    </tr>\n",
       "    <tr>\n",
       "      <th>CUNDINAMARCA</th>\n",
       "      <td>0.00</td>\n",
       "      <td>0.00</td>\n",
       "      <td>0.00</td>\n",
       "      <td>0.00</td>\n",
       "      <td>0.00</td>\n",
       "      <td>0.00</td>\n",
       "    </tr>\n",
       "    <tr>\n",
       "      <th>CÓRDOBA</th>\n",
       "      <td>1363.00</td>\n",
       "      <td>1378.22</td>\n",
       "      <td>557.41</td>\n",
       "      <td>1421.22</td>\n",
       "      <td>1741.62</td>\n",
       "      <td>3748.82</td>\n",
       "    </tr>\n",
       "    <tr>\n",
       "      <th>GUAINÍA</th>\n",
       "      <td>36.73</td>\n",
       "      <td>21.61</td>\n",
       "      <td>30.54</td>\n",
       "      <td>41.22</td>\n",
       "      <td>22.27</td>\n",
       "      <td>19.15</td>\n",
       "    </tr>\n",
       "    <tr>\n",
       "      <th>GUAVIARE</th>\n",
       "      <td>455.19</td>\n",
       "      <td>542.29</td>\n",
       "      <td>416.39</td>\n",
       "      <td>241.84</td>\n",
       "      <td>902.31</td>\n",
       "      <td>3226.65</td>\n",
       "    </tr>\n",
       "    <tr>\n",
       "      <th>LA GUAJIRA</th>\n",
       "      <td>0.00</td>\n",
       "      <td>0.00</td>\n",
       "      <td>1.69</td>\n",
       "      <td>1.61</td>\n",
       "      <td>0.00</td>\n",
       "      <td>0.00</td>\n",
       "    </tr>\n",
       "    <tr>\n",
       "      <th>MAGDALENA</th>\n",
       "      <td>6.81</td>\n",
       "      <td>34.93</td>\n",
       "      <td>7.88</td>\n",
       "      <td>12.45</td>\n",
       "      <td>6.88</td>\n",
       "      <td>2.07</td>\n",
       "    </tr>\n",
       "    <tr>\n",
       "      <th>META</th>\n",
       "      <td>695.98</td>\n",
       "      <td>784.57</td>\n",
       "      <td>683.42</td>\n",
       "      <td>1862.69</td>\n",
       "      <td>1465.57</td>\n",
       "      <td>1234.86</td>\n",
       "    </tr>\n",
       "    <tr>\n",
       "      <th>NARIÑO</th>\n",
       "      <td>4812.74</td>\n",
       "      <td>4523.28</td>\n",
       "      <td>7916.66</td>\n",
       "      <td>8811.29</td>\n",
       "      <td>6773.10</td>\n",
       "      <td>30751.38</td>\n",
       "    </tr>\n",
       "    <tr>\n",
       "      <th>NORTE DE SANTANDER</th>\n",
       "      <td>3303.34</td>\n",
       "      <td>2656.47</td>\n",
       "      <td>2350.28</td>\n",
       "      <td>2494.44</td>\n",
       "      <td>1318.61</td>\n",
       "      <td>40083.70</td>\n",
       "    </tr>\n",
       "    <tr>\n",
       "      <th>PUTUMAYO</th>\n",
       "      <td>111.52</td>\n",
       "      <td>116.48</td>\n",
       "      <td>76.23</td>\n",
       "      <td>70.14</td>\n",
       "      <td>77.08</td>\n",
       "      <td>19986.18</td>\n",
       "    </tr>\n",
       "    <tr>\n",
       "      <th>SANTANDER</th>\n",
       "      <td>20.66</td>\n",
       "      <td>37.24</td>\n",
       "      <td>29.99</td>\n",
       "      <td>20.58</td>\n",
       "      <td>2.39</td>\n",
       "      <td>3.12</td>\n",
       "    </tr>\n",
       "    <tr>\n",
       "      <th>VALLE DEL CAUCA</th>\n",
       "      <td>689.98</td>\n",
       "      <td>751.93</td>\n",
       "      <td>231.15</td>\n",
       "      <td>1270.56</td>\n",
       "      <td>1009.06</td>\n",
       "      <td>1937.86</td>\n",
       "    </tr>\n",
       "    <tr>\n",
       "      <th>VAUPÉS</th>\n",
       "      <td>32.64</td>\n",
       "      <td>96.66</td>\n",
       "      <td>105.46</td>\n",
       "      <td>64.74</td>\n",
       "      <td>25.95</td>\n",
       "      <td>39.33</td>\n",
       "    </tr>\n",
       "    <tr>\n",
       "      <th>VICHADA</th>\n",
       "      <td>683.14</td>\n",
       "      <td>699.19</td>\n",
       "      <td>652.72</td>\n",
       "      <td>549.97</td>\n",
       "      <td>245.30</td>\n",
       "      <td>120.98</td>\n",
       "    </tr>\n",
       "  </tbody>\n",
       "</table>\n",
       "</div>"
      ],
      "text/plain": [
       "                       2015     2016     2017     2018     2019      2020\n",
       "DEPARTAMENTO                                                             \n",
       "AMAZONAS             111.17   166.77   165.62   121.65   124.64     61.45\n",
       "ANTIOQUIA           2402.57  3305.90  3721.91  5224.91  3958.62  12090.19\n",
       "ARAUCA                17.13     8.91   121.22     7.44     0.00      0.00\n",
       "BOLÍVAR             1043.02  2838.78  2441.54  2082.69  1776.80   9373.25\n",
       "BOYACÁ                 7.71    14.99    21.99    16.48     4.24      6.35\n",
       "CALDAS                 0.00     0.00     0.00     0.00     0.00      0.00\n",
       "CAQUETÁ             3840.08  2763.16  3746.41  3491.58  3101.62   2054.94\n",
       "CAUCA               4025.03  2676.49  2460.92  2490.22  3224.48  16543.83\n",
       "CESAR                 33.27    26.40    24.35    31.10    38.16     32.22\n",
       "CHOCÓ               1488.80  1802.84  2610.59  2155.13  1248.09   1467.64\n",
       "CUNDINAMARCA           0.00     0.00     0.00     0.00     0.00      0.00\n",
       "CÓRDOBA             1363.00  1378.22   557.41  1421.22  1741.62   3748.82\n",
       "GUAINÍA               36.73    21.61    30.54    41.22    22.27     19.15\n",
       "GUAVIARE             455.19   542.29   416.39   241.84   902.31   3226.65\n",
       "LA GUAJIRA             0.00     0.00     1.69     1.61     0.00      0.00\n",
       "MAGDALENA              6.81    34.93     7.88    12.45     6.88      2.07\n",
       "META                 695.98   784.57   683.42  1862.69  1465.57   1234.86\n",
       "NARIÑO              4812.74  4523.28  7916.66  8811.29  6773.10  30751.38\n",
       "NORTE DE SANTANDER  3303.34  2656.47  2350.28  2494.44  1318.61  40083.70\n",
       "PUTUMAYO             111.52   116.48    76.23    70.14    77.08  19986.18\n",
       "SANTANDER             20.66    37.24    29.99    20.58     2.39      3.12\n",
       "VALLE DEL CAUCA      689.98   751.93   231.15  1270.56  1009.06   1937.86\n",
       "VAUPÉS                32.64    96.66   105.46    64.74    25.95     39.33\n",
       "VICHADA              683.14   699.19   652.72   549.97   245.30    120.98"
      ]
     },
     "execution_count": 17,
     "metadata": {},
     "output_type": "execute_result"
    }
   ],
   "source": [
    "ndatos = ndatos[['2015','2016','2017','2018','2019','2020']]\n",
    "ndatos"
   ]
  },
  {
   "cell_type": "code",
   "execution_count": 18,
   "id": "47e7c839",
   "metadata": {},
   "outputs": [
    {
     "data": {
      "text/html": [
       "<div>\n",
       "<style scoped>\n",
       "    .dataframe tbody tr th:only-of-type {\n",
       "        vertical-align: middle;\n",
       "    }\n",
       "\n",
       "    .dataframe tbody tr th {\n",
       "        vertical-align: top;\n",
       "    }\n",
       "\n",
       "    .dataframe thead th {\n",
       "        text-align: right;\n",
       "    }\n",
       "</style>\n",
       "<table border=\"1\" class=\"dataframe\">\n",
       "  <thead>\n",
       "    <tr style=\"text-align: right;\">\n",
       "      <th></th>\n",
       "      <th>2015</th>\n",
       "      <th>2016</th>\n",
       "      <th>2017</th>\n",
       "      <th>2018</th>\n",
       "      <th>2019</th>\n",
       "      <th>2020</th>\n",
       "    </tr>\n",
       "    <tr>\n",
       "      <th>DEPARTAMENTO</th>\n",
       "      <th></th>\n",
       "      <th></th>\n",
       "      <th></th>\n",
       "      <th></th>\n",
       "      <th></th>\n",
       "      <th></th>\n",
       "    </tr>\n",
       "  </thead>\n",
       "  <tbody>\n",
       "    <tr>\n",
       "      <th>REGIÓN AMAZÓNICA</th>\n",
       "      <td>2126.37</td>\n",
       "      <td>2427.57</td>\n",
       "      <td>2130.38</td>\n",
       "      <td>2952.25</td>\n",
       "      <td>2863.12</td>\n",
       "      <td>24688.60</td>\n",
       "    </tr>\n",
       "    <tr>\n",
       "      <th>REGIÓN ANDINA</th>\n",
       "      <td>19893.22</td>\n",
       "      <td>17765.38</td>\n",
       "      <td>22836.76</td>\n",
       "      <td>24688.15</td>\n",
       "      <td>19626.91</td>\n",
       "      <td>102994.80</td>\n",
       "    </tr>\n",
       "    <tr>\n",
       "      <th>REGIÓN CARIBE</th>\n",
       "      <td>2453.81</td>\n",
       "      <td>4293.32</td>\n",
       "      <td>3054.86</td>\n",
       "      <td>3565.55</td>\n",
       "      <td>3567.70</td>\n",
       "      <td>13162.71</td>\n",
       "    </tr>\n",
       "    <tr>\n",
       "      <th>REGIÓN ORINOQUÍA</th>\n",
       "      <td>17.13</td>\n",
       "      <td>8.91</td>\n",
       "      <td>121.22</td>\n",
       "      <td>7.44</td>\n",
       "      <td>0.00</td>\n",
       "      <td>0.00</td>\n",
       "    </tr>\n",
       "    <tr>\n",
       "      <th>REGIÓN PACÍFICA</th>\n",
       "      <td>689.98</td>\n",
       "      <td>751.93</td>\n",
       "      <td>231.15</td>\n",
       "      <td>1270.56</td>\n",
       "      <td>1009.06</td>\n",
       "      <td>1937.86</td>\n",
       "    </tr>\n",
       "  </tbody>\n",
       "</table>\n",
       "</div>"
      ],
      "text/plain": [
       "                      2015      2016      2017      2018      2019       2020\n",
       "DEPARTAMENTO                                                                 \n",
       "REGIÓN AMAZÓNICA   2126.37   2427.57   2130.38   2952.25   2863.12   24688.60\n",
       "REGIÓN ANDINA     19893.22  17765.38  22836.76  24688.15  19626.91  102994.80\n",
       "REGIÓN CARIBE      2453.81   4293.32   3054.86   3565.55   3567.70   13162.71\n",
       "REGIÓN ORINOQUÍA     17.13      8.91    121.22      7.44      0.00       0.00\n",
       "REGIÓN PACÍFICA     689.98    751.93    231.15   1270.56   1009.06    1937.86"
      ]
     },
     "execution_count": 18,
     "metadata": {},
     "output_type": "execute_result"
    }
   ],
   "source": [
    "datos1 = ndatos.rename(index={'AMAZONAS':'REGIÓN AMAZÓNICA','ANTIOQUIA':'REGIÓN ANDINA','ARAUCA':'REGIÓN ORINOQUÍA','BOLÍVAR':'REGIÓN CARIBE','BOYACÁ':'REGIÓN CARIBE','CALDAS':'REGIÓN ANDINA','CAQUETÁ':'REGIÓN ANDINA','CAUCA':'REGIÓN ANDINA','CESAR':'REGIÓN CARIBE','CHOCÓ':'REGIÓN ANDINA','CUNDINAMARCA':'REGIÓN ANDINA','CÓRDOBA':'REGIÓN CARIBE','GUAINÍA':'REGIÓN AMAZÓNICA','GUAVIARE':'REGIÓN AMAZÓNICA','LA GUAJIRA':'REGIÓN CARIBE','MAGDALENA':'REGIÓN CARIBE','META':'REGIÓN AMAZÓNICA','NARIÑO':'REGIÓN ANDINA','NORTE DE SANTANDER':'REGIÓN ANDINA','PUTUMAYO':'REGIÓN AMAZÓNICA','SANTANDER':'REGIÓN ANDINA','VALLE DEL CAUCA':'REGIÓN PACÍFICA','VAUPÉS':'REGIÓN AMAZÓNICA','VICHADA':'REGIÓN AMAZÓNICA'})\n",
    "datos1 = datos1.groupby(['DEPARTAMENTO']).sum()\n",
    "datos1"
   ]
  },
  {
   "cell_type": "code",
   "execution_count": 19,
   "id": "a2b87e03",
   "metadata": {},
   "outputs": [
    {
     "data": {
      "text/plain": [
       "2015     5036.102\n",
       "2016     5049.422\n",
       "2017     5674.874\n",
       "2018     6496.790\n",
       "2019     5413.358\n",
       "2020    28556.794\n",
       "dtype: float64"
      ]
     },
     "execution_count": 19,
     "metadata": {},
     "output_type": "execute_result"
    }
   ],
   "source": [
    "datos1.mean()"
   ]
  },
  {
   "cell_type": "code",
   "execution_count": 20,
   "id": "9184d12f",
   "metadata": {},
   "outputs": [
    {
     "data": {
      "text/plain": [
       "2015     19893.22\n",
       "2016     17765.38\n",
       "2017     22836.76\n",
       "2018     24688.15\n",
       "2019     19626.91\n",
       "2020    102994.80\n",
       "dtype: float64"
      ]
     },
     "execution_count": 20,
     "metadata": {},
     "output_type": "execute_result"
    }
   ],
   "source": [
    "datos1.max()"
   ]
  },
  {
   "cell_type": "code",
   "execution_count": 21,
   "id": "f138d605",
   "metadata": {},
   "outputs": [
    {
     "data": {
      "text/plain": [
       "2015     17.13\n",
       "2016      8.91\n",
       "2017    121.22\n",
       "2018      7.44\n",
       "2019      0.00\n",
       "2020      0.00\n",
       "dtype: float64"
      ]
     },
     "execution_count": 21,
     "metadata": {},
     "output_type": "execute_result"
    }
   ],
   "source": [
    "datos1.min()"
   ]
  },
  {
   "cell_type": "code",
   "execution_count": 22,
   "id": "feb50543",
   "metadata": {},
   "outputs": [
    {
     "data": {
      "text/plain": [
       "2015     25180.51\n",
       "2016     25247.11\n",
       "2017     28374.37\n",
       "2018     32483.95\n",
       "2019     27066.79\n",
       "2020    142783.97\n",
       "dtype: float64"
      ]
     },
     "execution_count": 22,
     "metadata": {},
     "output_type": "execute_result"
    }
   ],
   "source": [
    "datos1.sum()"
   ]
  },
  {
   "cell_type": "code",
   "execution_count": 23,
   "id": "7cde2aad",
   "metadata": {},
   "outputs": [
    {
     "data": {
      "application/vnd.plotly.v1+json": {
       "config": {
        "linkText": "Export to plot.ly",
        "plotlyServerURL": "https://plot.ly",
        "showLink": true
       },
       "data": [
        {
         "line": {
          "color": "rgba(226, 74, 51, 1.0)",
          "dash": "solid",
          "shape": "linear",
          "width": 1.3
         },
         "mode": "lines",
         "name": "2015",
         "text": "",
         "type": "scatter",
         "x": [
          "AMAZONAS",
          "ANTIOQUIA",
          "ARAUCA",
          "BOLÍVAR",
          "BOYACÁ",
          "CALDAS",
          "CAQUETÁ",
          "CAUCA",
          "CESAR",
          "CHOCÓ",
          "CUNDINAMARCA",
          "CÓRDOBA",
          "GUAINÍA",
          "GUAVIARE",
          "LA GUAJIRA",
          "MAGDALENA",
          "META",
          "NARIÑO",
          "NORTE DE SANTANDER",
          "PUTUMAYO",
          "SANTANDER",
          "VALLE DEL CAUCA",
          "VAUPÉS",
          "VICHADA"
         ],
         "y": [
          111.17,
          2402.57,
          17.13,
          1043.02,
          7.71,
          0,
          3840.08,
          4025.03,
          33.269999999999996,
          1488.8,
          0,
          1363,
          36.730000000000004,
          455.19,
          0,
          6.81,
          695.98,
          4812.74,
          3303.34,
          111.52,
          20.66,
          689.98,
          32.64,
          683.14
         ]
        },
        {
         "line": {
          "color": "rgba(62, 111, 176, 1.0)",
          "dash": "solid",
          "shape": "linear",
          "width": 1.3
         },
         "mode": "lines",
         "name": "2016",
         "text": "",
         "type": "scatter",
         "x": [
          "AMAZONAS",
          "ANTIOQUIA",
          "ARAUCA",
          "BOLÍVAR",
          "BOYACÁ",
          "CALDAS",
          "CAQUETÁ",
          "CAUCA",
          "CESAR",
          "CHOCÓ",
          "CUNDINAMARCA",
          "CÓRDOBA",
          "GUAINÍA",
          "GUAVIARE",
          "LA GUAJIRA",
          "MAGDALENA",
          "META",
          "NARIÑO",
          "NORTE DE SANTANDER",
          "PUTUMAYO",
          "SANTANDER",
          "VALLE DEL CAUCA",
          "VAUPÉS",
          "VICHADA"
         ],
         "y": [
          166.77,
          3305.9,
          8.91,
          2838.78,
          14.99,
          0,
          2763.16,
          2676.49,
          26.4,
          1802.8400000000001,
          0,
          1378.22,
          21.61,
          542.29,
          0,
          34.93,
          784.5699999999999,
          4523.28,
          2656.4700000000003,
          116.48,
          37.24,
          751.9300000000001,
          96.66,
          699.19
         ]
        },
        {
         "line": {
          "color": "rgba(132, 118, 202, 1.0)",
          "dash": "solid",
          "shape": "linear",
          "width": 1.3
         },
         "mode": "lines",
         "name": "2017",
         "text": "",
         "type": "scatter",
         "x": [
          "AMAZONAS",
          "ANTIOQUIA",
          "ARAUCA",
          "BOLÍVAR",
          "BOYACÁ",
          "CALDAS",
          "CAQUETÁ",
          "CAUCA",
          "CESAR",
          "CHOCÓ",
          "CUNDINAMARCA",
          "CÓRDOBA",
          "GUAINÍA",
          "GUAVIARE",
          "LA GUAJIRA",
          "MAGDALENA",
          "META",
          "NARIÑO",
          "NORTE DE SANTANDER",
          "PUTUMAYO",
          "SANTANDER",
          "VALLE DEL CAUCA",
          "VAUPÉS",
          "VICHADA"
         ],
         "y": [
          165.62,
          3721.91,
          121.22,
          2441.54,
          21.99,
          0,
          3746.41,
          2460.92,
          24.35,
          2610.59,
          0,
          557.4100000000001,
          30.54,
          416.39,
          1.69,
          7.88,
          683.4200000000001,
          7916.66,
          2350.28,
          76.23,
          29.990000000000002,
          231.15,
          105.46,
          652.72
         ]
        },
        {
         "line": {
          "color": "rgba(101, 101, 101, 1.0)",
          "dash": "solid",
          "shape": "linear",
          "width": 1.3
         },
         "mode": "lines",
         "name": "2018",
         "text": "",
         "type": "scatter",
         "x": [
          "AMAZONAS",
          "ANTIOQUIA",
          "ARAUCA",
          "BOLÍVAR",
          "BOYACÁ",
          "CALDAS",
          "CAQUETÁ",
          "CAUCA",
          "CESAR",
          "CHOCÓ",
          "CUNDINAMARCA",
          "CÓRDOBA",
          "GUAINÍA",
          "GUAVIARE",
          "LA GUAJIRA",
          "MAGDALENA",
          "META",
          "NARIÑO",
          "NORTE DE SANTANDER",
          "PUTUMAYO",
          "SANTANDER",
          "VALLE DEL CAUCA",
          "VAUPÉS",
          "VICHADA"
         ],
         "y": [
          121.64999999999999,
          5224.91,
          7.44,
          2082.69,
          16.48,
          0,
          3491.58,
          2490.2200000000003,
          31.1,
          2155.13,
          0,
          1421.22,
          41.22,
          241.84,
          1.61,
          12.45,
          1862.69,
          8811.29,
          2494.44,
          70.14,
          20.58,
          1270.56,
          64.74,
          549.97
         ]
        },
        {
         "line": {
          "color": "rgba(251, 193, 94, 1.0)",
          "dash": "solid",
          "shape": "linear",
          "width": 1.3
         },
         "mode": "lines",
         "name": "2019",
         "text": "",
         "type": "scatter",
         "x": [
          "AMAZONAS",
          "ANTIOQUIA",
          "ARAUCA",
          "BOLÍVAR",
          "BOYACÁ",
          "CALDAS",
          "CAQUETÁ",
          "CAUCA",
          "CESAR",
          "CHOCÓ",
          "CUNDINAMARCA",
          "CÓRDOBA",
          "GUAINÍA",
          "GUAVIARE",
          "LA GUAJIRA",
          "MAGDALENA",
          "META",
          "NARIÑO",
          "NORTE DE SANTANDER",
          "PUTUMAYO",
          "SANTANDER",
          "VALLE DEL CAUCA",
          "VAUPÉS",
          "VICHADA"
         ],
         "y": [
          124.64,
          3958.62,
          0,
          1776.8000000000002,
          4.24,
          0,
          3101.62,
          3224.48,
          38.16,
          1248.09,
          0,
          1741.6200000000001,
          22.27,
          902.31,
          0,
          6.88,
          1465.5700000000002,
          6773.1,
          1318.61,
          77.08,
          2.3899999999999997,
          1009.06,
          25.95,
          245.3
         ]
        },
        {
         "line": {
          "color": "rgba(142, 186, 66, 1.0)",
          "dash": "solid",
          "shape": "linear",
          "width": 1.3
         },
         "mode": "lines",
         "name": "2020",
         "text": "",
         "type": "scatter",
         "x": [
          "AMAZONAS",
          "ANTIOQUIA",
          "ARAUCA",
          "BOLÍVAR",
          "BOYACÁ",
          "CALDAS",
          "CAQUETÁ",
          "CAUCA",
          "CESAR",
          "CHOCÓ",
          "CUNDINAMARCA",
          "CÓRDOBA",
          "GUAINÍA",
          "GUAVIARE",
          "LA GUAJIRA",
          "MAGDALENA",
          "META",
          "NARIÑO",
          "NORTE DE SANTANDER",
          "PUTUMAYO",
          "SANTANDER",
          "VALLE DEL CAUCA",
          "VAUPÉS",
          "VICHADA"
         ],
         "y": [
          61.45,
          12090.19,
          0,
          9373.25,
          6.35,
          0,
          2054.94,
          16543.83,
          32.22,
          1467.6399999999999,
          0,
          3748.82,
          19.15,
          3226.65,
          0,
          2.07,
          1234.86,
          30751.379999999997,
          40083.7,
          19986.18,
          3.12,
          1937.86,
          39.33,
          120.98
         ]
        }
       ],
       "layout": {
        "legend": {
         "bgcolor": "#FFFFFF",
         "font": {
          "color": "#666666"
         }
        },
        "paper_bgcolor": "#FFFFFF",
        "plot_bgcolor": "#E5E5E5",
        "template": {
         "data": {
          "bar": [
           {
            "error_x": {
             "color": "#2a3f5f"
            },
            "error_y": {
             "color": "#2a3f5f"
            },
            "marker": {
             "line": {
              "color": "#E5ECF6",
              "width": 0.5
             },
             "pattern": {
              "fillmode": "overlay",
              "size": 10,
              "solidity": 0.2
             }
            },
            "type": "bar"
           }
          ],
          "barpolar": [
           {
            "marker": {
             "line": {
              "color": "#E5ECF6",
              "width": 0.5
             },
             "pattern": {
              "fillmode": "overlay",
              "size": 10,
              "solidity": 0.2
             }
            },
            "type": "barpolar"
           }
          ],
          "carpet": [
           {
            "aaxis": {
             "endlinecolor": "#2a3f5f",
             "gridcolor": "white",
             "linecolor": "white",
             "minorgridcolor": "white",
             "startlinecolor": "#2a3f5f"
            },
            "baxis": {
             "endlinecolor": "#2a3f5f",
             "gridcolor": "white",
             "linecolor": "white",
             "minorgridcolor": "white",
             "startlinecolor": "#2a3f5f"
            },
            "type": "carpet"
           }
          ],
          "choropleth": [
           {
            "colorbar": {
             "outlinewidth": 0,
             "ticks": ""
            },
            "type": "choropleth"
           }
          ],
          "contour": [
           {
            "colorbar": {
             "outlinewidth": 0,
             "ticks": ""
            },
            "colorscale": [
             [
              0,
              "#0d0887"
             ],
             [
              0.1111111111111111,
              "#46039f"
             ],
             [
              0.2222222222222222,
              "#7201a8"
             ],
             [
              0.3333333333333333,
              "#9c179e"
             ],
             [
              0.4444444444444444,
              "#bd3786"
             ],
             [
              0.5555555555555556,
              "#d8576b"
             ],
             [
              0.6666666666666666,
              "#ed7953"
             ],
             [
              0.7777777777777778,
              "#fb9f3a"
             ],
             [
              0.8888888888888888,
              "#fdca26"
             ],
             [
              1,
              "#f0f921"
             ]
            ],
            "type": "contour"
           }
          ],
          "contourcarpet": [
           {
            "colorbar": {
             "outlinewidth": 0,
             "ticks": ""
            },
            "type": "contourcarpet"
           }
          ],
          "heatmap": [
           {
            "colorbar": {
             "outlinewidth": 0,
             "ticks": ""
            },
            "colorscale": [
             [
              0,
              "#0d0887"
             ],
             [
              0.1111111111111111,
              "#46039f"
             ],
             [
              0.2222222222222222,
              "#7201a8"
             ],
             [
              0.3333333333333333,
              "#9c179e"
             ],
             [
              0.4444444444444444,
              "#bd3786"
             ],
             [
              0.5555555555555556,
              "#d8576b"
             ],
             [
              0.6666666666666666,
              "#ed7953"
             ],
             [
              0.7777777777777778,
              "#fb9f3a"
             ],
             [
              0.8888888888888888,
              "#fdca26"
             ],
             [
              1,
              "#f0f921"
             ]
            ],
            "type": "heatmap"
           }
          ],
          "heatmapgl": [
           {
            "colorbar": {
             "outlinewidth": 0,
             "ticks": ""
            },
            "colorscale": [
             [
              0,
              "#0d0887"
             ],
             [
              0.1111111111111111,
              "#46039f"
             ],
             [
              0.2222222222222222,
              "#7201a8"
             ],
             [
              0.3333333333333333,
              "#9c179e"
             ],
             [
              0.4444444444444444,
              "#bd3786"
             ],
             [
              0.5555555555555556,
              "#d8576b"
             ],
             [
              0.6666666666666666,
              "#ed7953"
             ],
             [
              0.7777777777777778,
              "#fb9f3a"
             ],
             [
              0.8888888888888888,
              "#fdca26"
             ],
             [
              1,
              "#f0f921"
             ]
            ],
            "type": "heatmapgl"
           }
          ],
          "histogram": [
           {
            "marker": {
             "pattern": {
              "fillmode": "overlay",
              "size": 10,
              "solidity": 0.2
             }
            },
            "type": "histogram"
           }
          ],
          "histogram2d": [
           {
            "colorbar": {
             "outlinewidth": 0,
             "ticks": ""
            },
            "colorscale": [
             [
              0,
              "#0d0887"
             ],
             [
              0.1111111111111111,
              "#46039f"
             ],
             [
              0.2222222222222222,
              "#7201a8"
             ],
             [
              0.3333333333333333,
              "#9c179e"
             ],
             [
              0.4444444444444444,
              "#bd3786"
             ],
             [
              0.5555555555555556,
              "#d8576b"
             ],
             [
              0.6666666666666666,
              "#ed7953"
             ],
             [
              0.7777777777777778,
              "#fb9f3a"
             ],
             [
              0.8888888888888888,
              "#fdca26"
             ],
             [
              1,
              "#f0f921"
             ]
            ],
            "type": "histogram2d"
           }
          ],
          "histogram2dcontour": [
           {
            "colorbar": {
             "outlinewidth": 0,
             "ticks": ""
            },
            "colorscale": [
             [
              0,
              "#0d0887"
             ],
             [
              0.1111111111111111,
              "#46039f"
             ],
             [
              0.2222222222222222,
              "#7201a8"
             ],
             [
              0.3333333333333333,
              "#9c179e"
             ],
             [
              0.4444444444444444,
              "#bd3786"
             ],
             [
              0.5555555555555556,
              "#d8576b"
             ],
             [
              0.6666666666666666,
              "#ed7953"
             ],
             [
              0.7777777777777778,
              "#fb9f3a"
             ],
             [
              0.8888888888888888,
              "#fdca26"
             ],
             [
              1,
              "#f0f921"
             ]
            ],
            "type": "histogram2dcontour"
           }
          ],
          "mesh3d": [
           {
            "colorbar": {
             "outlinewidth": 0,
             "ticks": ""
            },
            "type": "mesh3d"
           }
          ],
          "parcoords": [
           {
            "line": {
             "colorbar": {
              "outlinewidth": 0,
              "ticks": ""
             }
            },
            "type": "parcoords"
           }
          ],
          "pie": [
           {
            "automargin": true,
            "type": "pie"
           }
          ],
          "scatter": [
           {
            "marker": {
             "colorbar": {
              "outlinewidth": 0,
              "ticks": ""
             }
            },
            "type": "scatter"
           }
          ],
          "scatter3d": [
           {
            "line": {
             "colorbar": {
              "outlinewidth": 0,
              "ticks": ""
             }
            },
            "marker": {
             "colorbar": {
              "outlinewidth": 0,
              "ticks": ""
             }
            },
            "type": "scatter3d"
           }
          ],
          "scattercarpet": [
           {
            "marker": {
             "colorbar": {
              "outlinewidth": 0,
              "ticks": ""
             }
            },
            "type": "scattercarpet"
           }
          ],
          "scattergeo": [
           {
            "marker": {
             "colorbar": {
              "outlinewidth": 0,
              "ticks": ""
             }
            },
            "type": "scattergeo"
           }
          ],
          "scattergl": [
           {
            "marker": {
             "colorbar": {
              "outlinewidth": 0,
              "ticks": ""
             }
            },
            "type": "scattergl"
           }
          ],
          "scattermapbox": [
           {
            "marker": {
             "colorbar": {
              "outlinewidth": 0,
              "ticks": ""
             }
            },
            "type": "scattermapbox"
           }
          ],
          "scatterpolar": [
           {
            "marker": {
             "colorbar": {
              "outlinewidth": 0,
              "ticks": ""
             }
            },
            "type": "scatterpolar"
           }
          ],
          "scatterpolargl": [
           {
            "marker": {
             "colorbar": {
              "outlinewidth": 0,
              "ticks": ""
             }
            },
            "type": "scatterpolargl"
           }
          ],
          "scatterternary": [
           {
            "marker": {
             "colorbar": {
              "outlinewidth": 0,
              "ticks": ""
             }
            },
            "type": "scatterternary"
           }
          ],
          "surface": [
           {
            "colorbar": {
             "outlinewidth": 0,
             "ticks": ""
            },
            "colorscale": [
             [
              0,
              "#0d0887"
             ],
             [
              0.1111111111111111,
              "#46039f"
             ],
             [
              0.2222222222222222,
              "#7201a8"
             ],
             [
              0.3333333333333333,
              "#9c179e"
             ],
             [
              0.4444444444444444,
              "#bd3786"
             ],
             [
              0.5555555555555556,
              "#d8576b"
             ],
             [
              0.6666666666666666,
              "#ed7953"
             ],
             [
              0.7777777777777778,
              "#fb9f3a"
             ],
             [
              0.8888888888888888,
              "#fdca26"
             ],
             [
              1,
              "#f0f921"
             ]
            ],
            "type": "surface"
           }
          ],
          "table": [
           {
            "cells": {
             "fill": {
              "color": "#EBF0F8"
             },
             "line": {
              "color": "white"
             }
            },
            "header": {
             "fill": {
              "color": "#C8D4E3"
             },
             "line": {
              "color": "white"
             }
            },
            "type": "table"
           }
          ]
         },
         "layout": {
          "annotationdefaults": {
           "arrowcolor": "#2a3f5f",
           "arrowhead": 0,
           "arrowwidth": 1
          },
          "autotypenumbers": "strict",
          "coloraxis": {
           "colorbar": {
            "outlinewidth": 0,
            "ticks": ""
           }
          },
          "colorscale": {
           "diverging": [
            [
             0,
             "#8e0152"
            ],
            [
             0.1,
             "#c51b7d"
            ],
            [
             0.2,
             "#de77ae"
            ],
            [
             0.3,
             "#f1b6da"
            ],
            [
             0.4,
             "#fde0ef"
            ],
            [
             0.5,
             "#f7f7f7"
            ],
            [
             0.6,
             "#e6f5d0"
            ],
            [
             0.7,
             "#b8e186"
            ],
            [
             0.8,
             "#7fbc41"
            ],
            [
             0.9,
             "#4d9221"
            ],
            [
             1,
             "#276419"
            ]
           ],
           "sequential": [
            [
             0,
             "#0d0887"
            ],
            [
             0.1111111111111111,
             "#46039f"
            ],
            [
             0.2222222222222222,
             "#7201a8"
            ],
            [
             0.3333333333333333,
             "#9c179e"
            ],
            [
             0.4444444444444444,
             "#bd3786"
            ],
            [
             0.5555555555555556,
             "#d8576b"
            ],
            [
             0.6666666666666666,
             "#ed7953"
            ],
            [
             0.7777777777777778,
             "#fb9f3a"
            ],
            [
             0.8888888888888888,
             "#fdca26"
            ],
            [
             1,
             "#f0f921"
            ]
           ],
           "sequentialminus": [
            [
             0,
             "#0d0887"
            ],
            [
             0.1111111111111111,
             "#46039f"
            ],
            [
             0.2222222222222222,
             "#7201a8"
            ],
            [
             0.3333333333333333,
             "#9c179e"
            ],
            [
             0.4444444444444444,
             "#bd3786"
            ],
            [
             0.5555555555555556,
             "#d8576b"
            ],
            [
             0.6666666666666666,
             "#ed7953"
            ],
            [
             0.7777777777777778,
             "#fb9f3a"
            ],
            [
             0.8888888888888888,
             "#fdca26"
            ],
            [
             1,
             "#f0f921"
            ]
           ]
          },
          "colorway": [
           "#636efa",
           "#EF553B",
           "#00cc96",
           "#ab63fa",
           "#FFA15A",
           "#19d3f3",
           "#FF6692",
           "#B6E880",
           "#FF97FF",
           "#FECB52"
          ],
          "font": {
           "color": "#2a3f5f"
          },
          "geo": {
           "bgcolor": "white",
           "lakecolor": "white",
           "landcolor": "#E5ECF6",
           "showlakes": true,
           "showland": true,
           "subunitcolor": "white"
          },
          "hoverlabel": {
           "align": "left"
          },
          "hovermode": "closest",
          "mapbox": {
           "style": "light"
          },
          "paper_bgcolor": "white",
          "plot_bgcolor": "#E5ECF6",
          "polar": {
           "angularaxis": {
            "gridcolor": "white",
            "linecolor": "white",
            "ticks": ""
           },
           "bgcolor": "#E5ECF6",
           "radialaxis": {
            "gridcolor": "white",
            "linecolor": "white",
            "ticks": ""
           }
          },
          "scene": {
           "xaxis": {
            "backgroundcolor": "#E5ECF6",
            "gridcolor": "white",
            "gridwidth": 2,
            "linecolor": "white",
            "showbackground": true,
            "ticks": "",
            "zerolinecolor": "white"
           },
           "yaxis": {
            "backgroundcolor": "#E5ECF6",
            "gridcolor": "white",
            "gridwidth": 2,
            "linecolor": "white",
            "showbackground": true,
            "ticks": "",
            "zerolinecolor": "white"
           },
           "zaxis": {
            "backgroundcolor": "#E5ECF6",
            "gridcolor": "white",
            "gridwidth": 2,
            "linecolor": "white",
            "showbackground": true,
            "ticks": "",
            "zerolinecolor": "white"
           }
          },
          "shapedefaults": {
           "line": {
            "color": "#2a3f5f"
           }
          },
          "ternary": {
           "aaxis": {
            "gridcolor": "white",
            "linecolor": "white",
            "ticks": ""
           },
           "baxis": {
            "gridcolor": "white",
            "linecolor": "white",
            "ticks": ""
           },
           "bgcolor": "#E5ECF6",
           "caxis": {
            "gridcolor": "white",
            "linecolor": "white",
            "ticks": ""
           }
          },
          "title": {
           "x": 0.05
          },
          "xaxis": {
           "automargin": true,
           "gridcolor": "white",
           "linecolor": "white",
           "ticks": "",
           "title": {
            "standoff": 15
           },
           "zerolinecolor": "white",
           "zerolinewidth": 2
          },
          "yaxis": {
           "automargin": true,
           "gridcolor": "white",
           "linecolor": "white",
           "ticks": "",
           "title": {
            "standoff": 15
           },
           "zerolinecolor": "white",
           "zerolinewidth": 2
          }
         }
        },
        "title": {
         "font": {
          "color": "#151516"
         },
         "text": "CULTIVOS DE COCA"
        },
        "xaxis": {
         "gridcolor": "#F6F6F6",
         "showgrid": true,
         "tickfont": {
          "color": "#666666"
         },
         "title": {
          "font": {
           "color": "#666666"
          },
          "text": "DEPARTAMENTO"
         },
         "zerolinecolor": "#F6F6F6"
        },
        "yaxis": {
         "gridcolor": "#F6F6F6",
         "showgrid": true,
         "tickfont": {
          "color": "#666666"
         },
         "title": {
          "font": {
           "color": "#666666"
          },
          "text": "HECTÁREAS"
         },
         "zerolinecolor": "#F6F6F6"
        }
       }
      },
      "text/html": [
       "<div>                            <div id=\"e40c5816-1f85-434a-9cb0-2b198b8578cc\" class=\"plotly-graph-div\" style=\"height:525px; width:100%;\"></div>            <script type=\"text/javascript\">                require([\"plotly\"], function(Plotly) {                    window.PLOTLYENV=window.PLOTLYENV || {};\n",
       "                    window.PLOTLYENV.BASE_URL='https://plot.ly';                                    if (document.getElementById(\"e40c5816-1f85-434a-9cb0-2b198b8578cc\")) {                    Plotly.newPlot(                        \"e40c5816-1f85-434a-9cb0-2b198b8578cc\",                        [{\"line\":{\"color\":\"rgba(226, 74, 51, 1.0)\",\"dash\":\"solid\",\"shape\":\"linear\",\"width\":1.3},\"mode\":\"lines\",\"name\":\"2015\",\"text\":\"\",\"x\":[\"AMAZONAS\",\"ANTIOQUIA\",\"ARAUCA\",\"BOL\\u00cdVAR\",\"BOYAC\\u00c1\",\"CALDAS\",\"CAQUET\\u00c1\",\"CAUCA\",\"CESAR\",\"CHOC\\u00d3\",\"CUNDINAMARCA\",\"C\\u00d3RDOBA\",\"GUAIN\\u00cdA\",\"GUAVIARE\",\"LA GUAJIRA\",\"MAGDALENA\",\"META\",\"NARI\\u00d1O\",\"NORTE DE SANTANDER\",\"PUTUMAYO\",\"SANTANDER\",\"VALLE DEL CAUCA\",\"VAUP\\u00c9S\",\"VICHADA\"],\"y\":[111.17,2402.57,17.13,1043.02,7.71,0.0,3840.08,4025.03,33.269999999999996,1488.8,0.0,1363.0,36.730000000000004,455.19,0.0,6.81,695.98,4812.74,3303.34,111.52,20.66,689.98,32.64,683.14],\"type\":\"scatter\"},{\"line\":{\"color\":\"rgba(62, 111, 176, 1.0)\",\"dash\":\"solid\",\"shape\":\"linear\",\"width\":1.3},\"mode\":\"lines\",\"name\":\"2016\",\"text\":\"\",\"x\":[\"AMAZONAS\",\"ANTIOQUIA\",\"ARAUCA\",\"BOL\\u00cdVAR\",\"BOYAC\\u00c1\",\"CALDAS\",\"CAQUET\\u00c1\",\"CAUCA\",\"CESAR\",\"CHOC\\u00d3\",\"CUNDINAMARCA\",\"C\\u00d3RDOBA\",\"GUAIN\\u00cdA\",\"GUAVIARE\",\"LA GUAJIRA\",\"MAGDALENA\",\"META\",\"NARI\\u00d1O\",\"NORTE DE SANTANDER\",\"PUTUMAYO\",\"SANTANDER\",\"VALLE DEL CAUCA\",\"VAUP\\u00c9S\",\"VICHADA\"],\"y\":[166.77,3305.9,8.91,2838.78,14.99,0.0,2763.16,2676.49,26.4,1802.8400000000001,0.0,1378.22,21.61,542.29,0.0,34.93,784.5699999999999,4523.28,2656.4700000000003,116.48,37.24,751.9300000000001,96.66,699.19],\"type\":\"scatter\"},{\"line\":{\"color\":\"rgba(132, 118, 202, 1.0)\",\"dash\":\"solid\",\"shape\":\"linear\",\"width\":1.3},\"mode\":\"lines\",\"name\":\"2017\",\"text\":\"\",\"x\":[\"AMAZONAS\",\"ANTIOQUIA\",\"ARAUCA\",\"BOL\\u00cdVAR\",\"BOYAC\\u00c1\",\"CALDAS\",\"CAQUET\\u00c1\",\"CAUCA\",\"CESAR\",\"CHOC\\u00d3\",\"CUNDINAMARCA\",\"C\\u00d3RDOBA\",\"GUAIN\\u00cdA\",\"GUAVIARE\",\"LA GUAJIRA\",\"MAGDALENA\",\"META\",\"NARI\\u00d1O\",\"NORTE DE SANTANDER\",\"PUTUMAYO\",\"SANTANDER\",\"VALLE DEL CAUCA\",\"VAUP\\u00c9S\",\"VICHADA\"],\"y\":[165.62,3721.91,121.22,2441.54,21.99,0.0,3746.41,2460.92,24.35,2610.59,0.0,557.4100000000001,30.54,416.39,1.69,7.88,683.4200000000001,7916.66,2350.28,76.23,29.990000000000002,231.15,105.46,652.72],\"type\":\"scatter\"},{\"line\":{\"color\":\"rgba(101, 101, 101, 1.0)\",\"dash\":\"solid\",\"shape\":\"linear\",\"width\":1.3},\"mode\":\"lines\",\"name\":\"2018\",\"text\":\"\",\"x\":[\"AMAZONAS\",\"ANTIOQUIA\",\"ARAUCA\",\"BOL\\u00cdVAR\",\"BOYAC\\u00c1\",\"CALDAS\",\"CAQUET\\u00c1\",\"CAUCA\",\"CESAR\",\"CHOC\\u00d3\",\"CUNDINAMARCA\",\"C\\u00d3RDOBA\",\"GUAIN\\u00cdA\",\"GUAVIARE\",\"LA GUAJIRA\",\"MAGDALENA\",\"META\",\"NARI\\u00d1O\",\"NORTE DE SANTANDER\",\"PUTUMAYO\",\"SANTANDER\",\"VALLE DEL CAUCA\",\"VAUP\\u00c9S\",\"VICHADA\"],\"y\":[121.64999999999999,5224.91,7.44,2082.69,16.48,0.0,3491.58,2490.2200000000003,31.1,2155.13,0.0,1421.22,41.22,241.84,1.61,12.45,1862.69,8811.29,2494.44,70.14,20.58,1270.56,64.74,549.97],\"type\":\"scatter\"},{\"line\":{\"color\":\"rgba(251, 193, 94, 1.0)\",\"dash\":\"solid\",\"shape\":\"linear\",\"width\":1.3},\"mode\":\"lines\",\"name\":\"2019\",\"text\":\"\",\"x\":[\"AMAZONAS\",\"ANTIOQUIA\",\"ARAUCA\",\"BOL\\u00cdVAR\",\"BOYAC\\u00c1\",\"CALDAS\",\"CAQUET\\u00c1\",\"CAUCA\",\"CESAR\",\"CHOC\\u00d3\",\"CUNDINAMARCA\",\"C\\u00d3RDOBA\",\"GUAIN\\u00cdA\",\"GUAVIARE\",\"LA GUAJIRA\",\"MAGDALENA\",\"META\",\"NARI\\u00d1O\",\"NORTE DE SANTANDER\",\"PUTUMAYO\",\"SANTANDER\",\"VALLE DEL CAUCA\",\"VAUP\\u00c9S\",\"VICHADA\"],\"y\":[124.64,3958.62,0.0,1776.8000000000002,4.24,0.0,3101.62,3224.48,38.16,1248.09,0.0,1741.6200000000001,22.27,902.31,0.0,6.88,1465.5700000000002,6773.1,1318.61,77.08,2.3899999999999997,1009.06,25.95,245.3],\"type\":\"scatter\"},{\"line\":{\"color\":\"rgba(142, 186, 66, 1.0)\",\"dash\":\"solid\",\"shape\":\"linear\",\"width\":1.3},\"mode\":\"lines\",\"name\":\"2020\",\"text\":\"\",\"x\":[\"AMAZONAS\",\"ANTIOQUIA\",\"ARAUCA\",\"BOL\\u00cdVAR\",\"BOYAC\\u00c1\",\"CALDAS\",\"CAQUET\\u00c1\",\"CAUCA\",\"CESAR\",\"CHOC\\u00d3\",\"CUNDINAMARCA\",\"C\\u00d3RDOBA\",\"GUAIN\\u00cdA\",\"GUAVIARE\",\"LA GUAJIRA\",\"MAGDALENA\",\"META\",\"NARI\\u00d1O\",\"NORTE DE SANTANDER\",\"PUTUMAYO\",\"SANTANDER\",\"VALLE DEL CAUCA\",\"VAUP\\u00c9S\",\"VICHADA\"],\"y\":[61.45,12090.19,0.0,9373.25,6.35,0.0,2054.94,16543.83,32.22,1467.6399999999999,0.0,3748.82,19.15,3226.65,0.0,2.07,1234.86,30751.379999999997,40083.7,19986.18,3.12,1937.86,39.33,120.98],\"type\":\"scatter\"}],                        {\"legend\":{\"bgcolor\":\"#FFFFFF\",\"font\":{\"color\":\"#666666\"}},\"paper_bgcolor\":\"#FFFFFF\",\"plot_bgcolor\":\"#E5E5E5\",\"template\":{\"data\":{\"barpolar\":[{\"marker\":{\"line\":{\"color\":\"#E5ECF6\",\"width\":0.5},\"pattern\":{\"fillmode\":\"overlay\",\"size\":10,\"solidity\":0.2}},\"type\":\"barpolar\"}],\"bar\":[{\"error_x\":{\"color\":\"#2a3f5f\"},\"error_y\":{\"color\":\"#2a3f5f\"},\"marker\":{\"line\":{\"color\":\"#E5ECF6\",\"width\":0.5},\"pattern\":{\"fillmode\":\"overlay\",\"size\":10,\"solidity\":0.2}},\"type\":\"bar\"}],\"carpet\":[{\"aaxis\":{\"endlinecolor\":\"#2a3f5f\",\"gridcolor\":\"white\",\"linecolor\":\"white\",\"minorgridcolor\":\"white\",\"startlinecolor\":\"#2a3f5f\"},\"baxis\":{\"endlinecolor\":\"#2a3f5f\",\"gridcolor\":\"white\",\"linecolor\":\"white\",\"minorgridcolor\":\"white\",\"startlinecolor\":\"#2a3f5f\"},\"type\":\"carpet\"}],\"choropleth\":[{\"colorbar\":{\"outlinewidth\":0,\"ticks\":\"\"},\"type\":\"choropleth\"}],\"contourcarpet\":[{\"colorbar\":{\"outlinewidth\":0,\"ticks\":\"\"},\"type\":\"contourcarpet\"}],\"contour\":[{\"colorbar\":{\"outlinewidth\":0,\"ticks\":\"\"},\"colorscale\":[[0.0,\"#0d0887\"],[0.1111111111111111,\"#46039f\"],[0.2222222222222222,\"#7201a8\"],[0.3333333333333333,\"#9c179e\"],[0.4444444444444444,\"#bd3786\"],[0.5555555555555556,\"#d8576b\"],[0.6666666666666666,\"#ed7953\"],[0.7777777777777778,\"#fb9f3a\"],[0.8888888888888888,\"#fdca26\"],[1.0,\"#f0f921\"]],\"type\":\"contour\"}],\"heatmapgl\":[{\"colorbar\":{\"outlinewidth\":0,\"ticks\":\"\"},\"colorscale\":[[0.0,\"#0d0887\"],[0.1111111111111111,\"#46039f\"],[0.2222222222222222,\"#7201a8\"],[0.3333333333333333,\"#9c179e\"],[0.4444444444444444,\"#bd3786\"],[0.5555555555555556,\"#d8576b\"],[0.6666666666666666,\"#ed7953\"],[0.7777777777777778,\"#fb9f3a\"],[0.8888888888888888,\"#fdca26\"],[1.0,\"#f0f921\"]],\"type\":\"heatmapgl\"}],\"heatmap\":[{\"colorbar\":{\"outlinewidth\":0,\"ticks\":\"\"},\"colorscale\":[[0.0,\"#0d0887\"],[0.1111111111111111,\"#46039f\"],[0.2222222222222222,\"#7201a8\"],[0.3333333333333333,\"#9c179e\"],[0.4444444444444444,\"#bd3786\"],[0.5555555555555556,\"#d8576b\"],[0.6666666666666666,\"#ed7953\"],[0.7777777777777778,\"#fb9f3a\"],[0.8888888888888888,\"#fdca26\"],[1.0,\"#f0f921\"]],\"type\":\"heatmap\"}],\"histogram2dcontour\":[{\"colorbar\":{\"outlinewidth\":0,\"ticks\":\"\"},\"colorscale\":[[0.0,\"#0d0887\"],[0.1111111111111111,\"#46039f\"],[0.2222222222222222,\"#7201a8\"],[0.3333333333333333,\"#9c179e\"],[0.4444444444444444,\"#bd3786\"],[0.5555555555555556,\"#d8576b\"],[0.6666666666666666,\"#ed7953\"],[0.7777777777777778,\"#fb9f3a\"],[0.8888888888888888,\"#fdca26\"],[1.0,\"#f0f921\"]],\"type\":\"histogram2dcontour\"}],\"histogram2d\":[{\"colorbar\":{\"outlinewidth\":0,\"ticks\":\"\"},\"colorscale\":[[0.0,\"#0d0887\"],[0.1111111111111111,\"#46039f\"],[0.2222222222222222,\"#7201a8\"],[0.3333333333333333,\"#9c179e\"],[0.4444444444444444,\"#bd3786\"],[0.5555555555555556,\"#d8576b\"],[0.6666666666666666,\"#ed7953\"],[0.7777777777777778,\"#fb9f3a\"],[0.8888888888888888,\"#fdca26\"],[1.0,\"#f0f921\"]],\"type\":\"histogram2d\"}],\"histogram\":[{\"marker\":{\"pattern\":{\"fillmode\":\"overlay\",\"size\":10,\"solidity\":0.2}},\"type\":\"histogram\"}],\"mesh3d\":[{\"colorbar\":{\"outlinewidth\":0,\"ticks\":\"\"},\"type\":\"mesh3d\"}],\"parcoords\":[{\"line\":{\"colorbar\":{\"outlinewidth\":0,\"ticks\":\"\"}},\"type\":\"parcoords\"}],\"pie\":[{\"automargin\":true,\"type\":\"pie\"}],\"scatter3d\":[{\"line\":{\"colorbar\":{\"outlinewidth\":0,\"ticks\":\"\"}},\"marker\":{\"colorbar\":{\"outlinewidth\":0,\"ticks\":\"\"}},\"type\":\"scatter3d\"}],\"scattercarpet\":[{\"marker\":{\"colorbar\":{\"outlinewidth\":0,\"ticks\":\"\"}},\"type\":\"scattercarpet\"}],\"scattergeo\":[{\"marker\":{\"colorbar\":{\"outlinewidth\":0,\"ticks\":\"\"}},\"type\":\"scattergeo\"}],\"scattergl\":[{\"marker\":{\"colorbar\":{\"outlinewidth\":0,\"ticks\":\"\"}},\"type\":\"scattergl\"}],\"scattermapbox\":[{\"marker\":{\"colorbar\":{\"outlinewidth\":0,\"ticks\":\"\"}},\"type\":\"scattermapbox\"}],\"scatterpolargl\":[{\"marker\":{\"colorbar\":{\"outlinewidth\":0,\"ticks\":\"\"}},\"type\":\"scatterpolargl\"}],\"scatterpolar\":[{\"marker\":{\"colorbar\":{\"outlinewidth\":0,\"ticks\":\"\"}},\"type\":\"scatterpolar\"}],\"scatter\":[{\"marker\":{\"colorbar\":{\"outlinewidth\":0,\"ticks\":\"\"}},\"type\":\"scatter\"}],\"scatterternary\":[{\"marker\":{\"colorbar\":{\"outlinewidth\":0,\"ticks\":\"\"}},\"type\":\"scatterternary\"}],\"surface\":[{\"colorbar\":{\"outlinewidth\":0,\"ticks\":\"\"},\"colorscale\":[[0.0,\"#0d0887\"],[0.1111111111111111,\"#46039f\"],[0.2222222222222222,\"#7201a8\"],[0.3333333333333333,\"#9c179e\"],[0.4444444444444444,\"#bd3786\"],[0.5555555555555556,\"#d8576b\"],[0.6666666666666666,\"#ed7953\"],[0.7777777777777778,\"#fb9f3a\"],[0.8888888888888888,\"#fdca26\"],[1.0,\"#f0f921\"]],\"type\":\"surface\"}],\"table\":[{\"cells\":{\"fill\":{\"color\":\"#EBF0F8\"},\"line\":{\"color\":\"white\"}},\"header\":{\"fill\":{\"color\":\"#C8D4E3\"},\"line\":{\"color\":\"white\"}},\"type\":\"table\"}]},\"layout\":{\"annotationdefaults\":{\"arrowcolor\":\"#2a3f5f\",\"arrowhead\":0,\"arrowwidth\":1},\"autotypenumbers\":\"strict\",\"coloraxis\":{\"colorbar\":{\"outlinewidth\":0,\"ticks\":\"\"}},\"colorscale\":{\"diverging\":[[0,\"#8e0152\"],[0.1,\"#c51b7d\"],[0.2,\"#de77ae\"],[0.3,\"#f1b6da\"],[0.4,\"#fde0ef\"],[0.5,\"#f7f7f7\"],[0.6,\"#e6f5d0\"],[0.7,\"#b8e186\"],[0.8,\"#7fbc41\"],[0.9,\"#4d9221\"],[1,\"#276419\"]],\"sequential\":[[0.0,\"#0d0887\"],[0.1111111111111111,\"#46039f\"],[0.2222222222222222,\"#7201a8\"],[0.3333333333333333,\"#9c179e\"],[0.4444444444444444,\"#bd3786\"],[0.5555555555555556,\"#d8576b\"],[0.6666666666666666,\"#ed7953\"],[0.7777777777777778,\"#fb9f3a\"],[0.8888888888888888,\"#fdca26\"],[1.0,\"#f0f921\"]],\"sequentialminus\":[[0.0,\"#0d0887\"],[0.1111111111111111,\"#46039f\"],[0.2222222222222222,\"#7201a8\"],[0.3333333333333333,\"#9c179e\"],[0.4444444444444444,\"#bd3786\"],[0.5555555555555556,\"#d8576b\"],[0.6666666666666666,\"#ed7953\"],[0.7777777777777778,\"#fb9f3a\"],[0.8888888888888888,\"#fdca26\"],[1.0,\"#f0f921\"]]},\"colorway\":[\"#636efa\",\"#EF553B\",\"#00cc96\",\"#ab63fa\",\"#FFA15A\",\"#19d3f3\",\"#FF6692\",\"#B6E880\",\"#FF97FF\",\"#FECB52\"],\"font\":{\"color\":\"#2a3f5f\"},\"geo\":{\"bgcolor\":\"white\",\"lakecolor\":\"white\",\"landcolor\":\"#E5ECF6\",\"showlakes\":true,\"showland\":true,\"subunitcolor\":\"white\"},\"hoverlabel\":{\"align\":\"left\"},\"hovermode\":\"closest\",\"mapbox\":{\"style\":\"light\"},\"paper_bgcolor\":\"white\",\"plot_bgcolor\":\"#E5ECF6\",\"polar\":{\"angularaxis\":{\"gridcolor\":\"white\",\"linecolor\":\"white\",\"ticks\":\"\"},\"bgcolor\":\"#E5ECF6\",\"radialaxis\":{\"gridcolor\":\"white\",\"linecolor\":\"white\",\"ticks\":\"\"}},\"scene\":{\"xaxis\":{\"backgroundcolor\":\"#E5ECF6\",\"gridcolor\":\"white\",\"gridwidth\":2,\"linecolor\":\"white\",\"showbackground\":true,\"ticks\":\"\",\"zerolinecolor\":\"white\"},\"yaxis\":{\"backgroundcolor\":\"#E5ECF6\",\"gridcolor\":\"white\",\"gridwidth\":2,\"linecolor\":\"white\",\"showbackground\":true,\"ticks\":\"\",\"zerolinecolor\":\"white\"},\"zaxis\":{\"backgroundcolor\":\"#E5ECF6\",\"gridcolor\":\"white\",\"gridwidth\":2,\"linecolor\":\"white\",\"showbackground\":true,\"ticks\":\"\",\"zerolinecolor\":\"white\"}},\"shapedefaults\":{\"line\":{\"color\":\"#2a3f5f\"}},\"ternary\":{\"aaxis\":{\"gridcolor\":\"white\",\"linecolor\":\"white\",\"ticks\":\"\"},\"baxis\":{\"gridcolor\":\"white\",\"linecolor\":\"white\",\"ticks\":\"\"},\"bgcolor\":\"#E5ECF6\",\"caxis\":{\"gridcolor\":\"white\",\"linecolor\":\"white\",\"ticks\":\"\"}},\"title\":{\"x\":0.05},\"xaxis\":{\"automargin\":true,\"gridcolor\":\"white\",\"linecolor\":\"white\",\"ticks\":\"\",\"title\":{\"standoff\":15},\"zerolinecolor\":\"white\",\"zerolinewidth\":2},\"yaxis\":{\"automargin\":true,\"gridcolor\":\"white\",\"linecolor\":\"white\",\"ticks\":\"\",\"title\":{\"standoff\":15},\"zerolinecolor\":\"white\",\"zerolinewidth\":2}}},\"title\":{\"font\":{\"color\":\"#151516\"},\"text\":\"CULTIVOS DE COCA\"},\"xaxis\":{\"gridcolor\":\"#F6F6F6\",\"showgrid\":true,\"tickfont\":{\"color\":\"#666666\"},\"title\":{\"font\":{\"color\":\"#666666\"},\"text\":\"DEPARTAMENTO\"},\"zerolinecolor\":\"#F6F6F6\"},\"yaxis\":{\"gridcolor\":\"#F6F6F6\",\"showgrid\":true,\"tickfont\":{\"color\":\"#666666\"},\"title\":{\"font\":{\"color\":\"#666666\"},\"text\":\"HECT\\u00c1REAS\"},\"zerolinecolor\":\"#F6F6F6\"}},                        {\"showLink\": true, \"linkText\": \"Export to plot.ly\", \"plotlyServerURL\": \"https://plot.ly\", \"responsive\": true}                    ).then(function(){\n",
       "                            \n",
       "var gd = document.getElementById('e40c5816-1f85-434a-9cb0-2b198b8578cc');\n",
       "var x = new MutationObserver(function (mutations, observer) {{\n",
       "        var display = window.getComputedStyle(gd).display;\n",
       "        if (!display || display === 'none') {{\n",
       "            console.log([gd, 'removed!']);\n",
       "            Plotly.purge(gd);\n",
       "            observer.disconnect();\n",
       "        }}\n",
       "}});\n",
       "\n",
       "// Listen for the removal of the full notebook cells\n",
       "var notebookContainer = gd.closest('#notebook-container');\n",
       "if (notebookContainer) {{\n",
       "    x.observe(notebookContainer, {childList: true});\n",
       "}}\n",
       "\n",
       "// Listen for the clearing of the current output cell\n",
       "var outputEl = gd.closest('.output');\n",
       "if (outputEl) {{\n",
       "    x.observe(outputEl, {childList: true});\n",
       "}}\n",
       "\n",
       "                        })                };                });            </script>        </div>"
      ]
     },
     "metadata": {},
     "output_type": "display_data"
    }
   ],
   "source": [
    "ndatos.iplot(kind='line', xTitle='DEPARTAMENTO', yTitle='HECTÁREAS',\n",
    "          title='CULTIVOS DE COCA')"
   ]
  },
  {
   "cell_type": "code",
   "execution_count": 24,
   "id": "c61ad20f",
   "metadata": {},
   "outputs": [
    {
     "data": {
      "application/vnd.plotly.v1+json": {
       "config": {
        "linkText": "Export to plot.ly",
        "plotlyServerURL": "https://plot.ly",
        "showLink": true
       },
       "data": [
        {
         "boxpoints": false,
         "line": {
          "width": 1.3
         },
         "marker": {
          "color": "rgba(226, 74, 51, 1.0)"
         },
         "name": "2015",
         "orientation": "v",
         "type": "box",
         "y": [
          111.17,
          2402.57,
          17.13,
          1043.02,
          7.71,
          0,
          3840.08,
          4025.03,
          33.269999999999996,
          1488.8,
          0,
          1363,
          36.730000000000004,
          455.19,
          0,
          6.81,
          695.98,
          4812.74,
          3303.34,
          111.52,
          20.66,
          689.98,
          32.64,
          683.14
         ]
        },
        {
         "boxpoints": false,
         "line": {
          "width": 1.3
         },
         "marker": {
          "color": "rgba(62, 111, 176, 1.0)"
         },
         "name": "2016",
         "orientation": "v",
         "type": "box",
         "y": [
          166.77,
          3305.9,
          8.91,
          2838.78,
          14.99,
          0,
          2763.16,
          2676.49,
          26.4,
          1802.8400000000001,
          0,
          1378.22,
          21.61,
          542.29,
          0,
          34.93,
          784.5699999999999,
          4523.28,
          2656.4700000000003,
          116.48,
          37.24,
          751.9300000000001,
          96.66,
          699.19
         ]
        },
        {
         "boxpoints": false,
         "line": {
          "width": 1.3
         },
         "marker": {
          "color": "rgba(132, 118, 202, 1.0)"
         },
         "name": "2017",
         "orientation": "v",
         "type": "box",
         "y": [
          165.62,
          3721.91,
          121.22,
          2441.54,
          21.99,
          0,
          3746.41,
          2460.92,
          24.35,
          2610.59,
          0,
          557.4100000000001,
          30.54,
          416.39,
          1.69,
          7.88,
          683.4200000000001,
          7916.66,
          2350.28,
          76.23,
          29.990000000000002,
          231.15,
          105.46,
          652.72
         ]
        },
        {
         "boxpoints": false,
         "line": {
          "width": 1.3
         },
         "marker": {
          "color": "rgba(101, 101, 101, 1.0)"
         },
         "name": "2018",
         "orientation": "v",
         "type": "box",
         "y": [
          121.64999999999999,
          5224.91,
          7.44,
          2082.69,
          16.48,
          0,
          3491.58,
          2490.2200000000003,
          31.1,
          2155.13,
          0,
          1421.22,
          41.22,
          241.84,
          1.61,
          12.45,
          1862.69,
          8811.29,
          2494.44,
          70.14,
          20.58,
          1270.56,
          64.74,
          549.97
         ]
        },
        {
         "boxpoints": false,
         "line": {
          "width": 1.3
         },
         "marker": {
          "color": "rgba(251, 193, 94, 1.0)"
         },
         "name": "2019",
         "orientation": "v",
         "type": "box",
         "y": [
          124.64,
          3958.62,
          0,
          1776.8000000000002,
          4.24,
          0,
          3101.62,
          3224.48,
          38.16,
          1248.09,
          0,
          1741.6200000000001,
          22.27,
          902.31,
          0,
          6.88,
          1465.5700000000002,
          6773.1,
          1318.61,
          77.08,
          2.3899999999999997,
          1009.06,
          25.95,
          245.3
         ]
        },
        {
         "boxpoints": false,
         "line": {
          "width": 1.3
         },
         "marker": {
          "color": "rgba(142, 186, 66, 1.0)"
         },
         "name": "2020",
         "orientation": "v",
         "type": "box",
         "y": [
          61.45,
          12090.19,
          0,
          9373.25,
          6.35,
          0,
          2054.94,
          16543.83,
          32.22,
          1467.6399999999999,
          0,
          3748.82,
          19.15,
          3226.65,
          0,
          2.07,
          1234.86,
          30751.379999999997,
          40083.7,
          19986.18,
          3.12,
          1937.86,
          39.33,
          120.98
         ]
        }
       ],
       "layout": {
        "legend": {
         "bgcolor": "#FFFFFF",
         "font": {
          "color": "#666666"
         }
        },
        "paper_bgcolor": "#FFFFFF",
        "plot_bgcolor": "#E5E5E5",
        "template": {
         "data": {
          "bar": [
           {
            "error_x": {
             "color": "#2a3f5f"
            },
            "error_y": {
             "color": "#2a3f5f"
            },
            "marker": {
             "line": {
              "color": "#E5ECF6",
              "width": 0.5
             },
             "pattern": {
              "fillmode": "overlay",
              "size": 10,
              "solidity": 0.2
             }
            },
            "type": "bar"
           }
          ],
          "barpolar": [
           {
            "marker": {
             "line": {
              "color": "#E5ECF6",
              "width": 0.5
             },
             "pattern": {
              "fillmode": "overlay",
              "size": 10,
              "solidity": 0.2
             }
            },
            "type": "barpolar"
           }
          ],
          "carpet": [
           {
            "aaxis": {
             "endlinecolor": "#2a3f5f",
             "gridcolor": "white",
             "linecolor": "white",
             "minorgridcolor": "white",
             "startlinecolor": "#2a3f5f"
            },
            "baxis": {
             "endlinecolor": "#2a3f5f",
             "gridcolor": "white",
             "linecolor": "white",
             "minorgridcolor": "white",
             "startlinecolor": "#2a3f5f"
            },
            "type": "carpet"
           }
          ],
          "choropleth": [
           {
            "colorbar": {
             "outlinewidth": 0,
             "ticks": ""
            },
            "type": "choropleth"
           }
          ],
          "contour": [
           {
            "colorbar": {
             "outlinewidth": 0,
             "ticks": ""
            },
            "colorscale": [
             [
              0,
              "#0d0887"
             ],
             [
              0.1111111111111111,
              "#46039f"
             ],
             [
              0.2222222222222222,
              "#7201a8"
             ],
             [
              0.3333333333333333,
              "#9c179e"
             ],
             [
              0.4444444444444444,
              "#bd3786"
             ],
             [
              0.5555555555555556,
              "#d8576b"
             ],
             [
              0.6666666666666666,
              "#ed7953"
             ],
             [
              0.7777777777777778,
              "#fb9f3a"
             ],
             [
              0.8888888888888888,
              "#fdca26"
             ],
             [
              1,
              "#f0f921"
             ]
            ],
            "type": "contour"
           }
          ],
          "contourcarpet": [
           {
            "colorbar": {
             "outlinewidth": 0,
             "ticks": ""
            },
            "type": "contourcarpet"
           }
          ],
          "heatmap": [
           {
            "colorbar": {
             "outlinewidth": 0,
             "ticks": ""
            },
            "colorscale": [
             [
              0,
              "#0d0887"
             ],
             [
              0.1111111111111111,
              "#46039f"
             ],
             [
              0.2222222222222222,
              "#7201a8"
             ],
             [
              0.3333333333333333,
              "#9c179e"
             ],
             [
              0.4444444444444444,
              "#bd3786"
             ],
             [
              0.5555555555555556,
              "#d8576b"
             ],
             [
              0.6666666666666666,
              "#ed7953"
             ],
             [
              0.7777777777777778,
              "#fb9f3a"
             ],
             [
              0.8888888888888888,
              "#fdca26"
             ],
             [
              1,
              "#f0f921"
             ]
            ],
            "type": "heatmap"
           }
          ],
          "heatmapgl": [
           {
            "colorbar": {
             "outlinewidth": 0,
             "ticks": ""
            },
            "colorscale": [
             [
              0,
              "#0d0887"
             ],
             [
              0.1111111111111111,
              "#46039f"
             ],
             [
              0.2222222222222222,
              "#7201a8"
             ],
             [
              0.3333333333333333,
              "#9c179e"
             ],
             [
              0.4444444444444444,
              "#bd3786"
             ],
             [
              0.5555555555555556,
              "#d8576b"
             ],
             [
              0.6666666666666666,
              "#ed7953"
             ],
             [
              0.7777777777777778,
              "#fb9f3a"
             ],
             [
              0.8888888888888888,
              "#fdca26"
             ],
             [
              1,
              "#f0f921"
             ]
            ],
            "type": "heatmapgl"
           }
          ],
          "histogram": [
           {
            "marker": {
             "pattern": {
              "fillmode": "overlay",
              "size": 10,
              "solidity": 0.2
             }
            },
            "type": "histogram"
           }
          ],
          "histogram2d": [
           {
            "colorbar": {
             "outlinewidth": 0,
             "ticks": ""
            },
            "colorscale": [
             [
              0,
              "#0d0887"
             ],
             [
              0.1111111111111111,
              "#46039f"
             ],
             [
              0.2222222222222222,
              "#7201a8"
             ],
             [
              0.3333333333333333,
              "#9c179e"
             ],
             [
              0.4444444444444444,
              "#bd3786"
             ],
             [
              0.5555555555555556,
              "#d8576b"
             ],
             [
              0.6666666666666666,
              "#ed7953"
             ],
             [
              0.7777777777777778,
              "#fb9f3a"
             ],
             [
              0.8888888888888888,
              "#fdca26"
             ],
             [
              1,
              "#f0f921"
             ]
            ],
            "type": "histogram2d"
           }
          ],
          "histogram2dcontour": [
           {
            "colorbar": {
             "outlinewidth": 0,
             "ticks": ""
            },
            "colorscale": [
             [
              0,
              "#0d0887"
             ],
             [
              0.1111111111111111,
              "#46039f"
             ],
             [
              0.2222222222222222,
              "#7201a8"
             ],
             [
              0.3333333333333333,
              "#9c179e"
             ],
             [
              0.4444444444444444,
              "#bd3786"
             ],
             [
              0.5555555555555556,
              "#d8576b"
             ],
             [
              0.6666666666666666,
              "#ed7953"
             ],
             [
              0.7777777777777778,
              "#fb9f3a"
             ],
             [
              0.8888888888888888,
              "#fdca26"
             ],
             [
              1,
              "#f0f921"
             ]
            ],
            "type": "histogram2dcontour"
           }
          ],
          "mesh3d": [
           {
            "colorbar": {
             "outlinewidth": 0,
             "ticks": ""
            },
            "type": "mesh3d"
           }
          ],
          "parcoords": [
           {
            "line": {
             "colorbar": {
              "outlinewidth": 0,
              "ticks": ""
             }
            },
            "type": "parcoords"
           }
          ],
          "pie": [
           {
            "automargin": true,
            "type": "pie"
           }
          ],
          "scatter": [
           {
            "marker": {
             "colorbar": {
              "outlinewidth": 0,
              "ticks": ""
             }
            },
            "type": "scatter"
           }
          ],
          "scatter3d": [
           {
            "line": {
             "colorbar": {
              "outlinewidth": 0,
              "ticks": ""
             }
            },
            "marker": {
             "colorbar": {
              "outlinewidth": 0,
              "ticks": ""
             }
            },
            "type": "scatter3d"
           }
          ],
          "scattercarpet": [
           {
            "marker": {
             "colorbar": {
              "outlinewidth": 0,
              "ticks": ""
             }
            },
            "type": "scattercarpet"
           }
          ],
          "scattergeo": [
           {
            "marker": {
             "colorbar": {
              "outlinewidth": 0,
              "ticks": ""
             }
            },
            "type": "scattergeo"
           }
          ],
          "scattergl": [
           {
            "marker": {
             "colorbar": {
              "outlinewidth": 0,
              "ticks": ""
             }
            },
            "type": "scattergl"
           }
          ],
          "scattermapbox": [
           {
            "marker": {
             "colorbar": {
              "outlinewidth": 0,
              "ticks": ""
             }
            },
            "type": "scattermapbox"
           }
          ],
          "scatterpolar": [
           {
            "marker": {
             "colorbar": {
              "outlinewidth": 0,
              "ticks": ""
             }
            },
            "type": "scatterpolar"
           }
          ],
          "scatterpolargl": [
           {
            "marker": {
             "colorbar": {
              "outlinewidth": 0,
              "ticks": ""
             }
            },
            "type": "scatterpolargl"
           }
          ],
          "scatterternary": [
           {
            "marker": {
             "colorbar": {
              "outlinewidth": 0,
              "ticks": ""
             }
            },
            "type": "scatterternary"
           }
          ],
          "surface": [
           {
            "colorbar": {
             "outlinewidth": 0,
             "ticks": ""
            },
            "colorscale": [
             [
              0,
              "#0d0887"
             ],
             [
              0.1111111111111111,
              "#46039f"
             ],
             [
              0.2222222222222222,
              "#7201a8"
             ],
             [
              0.3333333333333333,
              "#9c179e"
             ],
             [
              0.4444444444444444,
              "#bd3786"
             ],
             [
              0.5555555555555556,
              "#d8576b"
             ],
             [
              0.6666666666666666,
              "#ed7953"
             ],
             [
              0.7777777777777778,
              "#fb9f3a"
             ],
             [
              0.8888888888888888,
              "#fdca26"
             ],
             [
              1,
              "#f0f921"
             ]
            ],
            "type": "surface"
           }
          ],
          "table": [
           {
            "cells": {
             "fill": {
              "color": "#EBF0F8"
             },
             "line": {
              "color": "white"
             }
            },
            "header": {
             "fill": {
              "color": "#C8D4E3"
             },
             "line": {
              "color": "white"
             }
            },
            "type": "table"
           }
          ]
         },
         "layout": {
          "annotationdefaults": {
           "arrowcolor": "#2a3f5f",
           "arrowhead": 0,
           "arrowwidth": 1
          },
          "autotypenumbers": "strict",
          "coloraxis": {
           "colorbar": {
            "outlinewidth": 0,
            "ticks": ""
           }
          },
          "colorscale": {
           "diverging": [
            [
             0,
             "#8e0152"
            ],
            [
             0.1,
             "#c51b7d"
            ],
            [
             0.2,
             "#de77ae"
            ],
            [
             0.3,
             "#f1b6da"
            ],
            [
             0.4,
             "#fde0ef"
            ],
            [
             0.5,
             "#f7f7f7"
            ],
            [
             0.6,
             "#e6f5d0"
            ],
            [
             0.7,
             "#b8e186"
            ],
            [
             0.8,
             "#7fbc41"
            ],
            [
             0.9,
             "#4d9221"
            ],
            [
             1,
             "#276419"
            ]
           ],
           "sequential": [
            [
             0,
             "#0d0887"
            ],
            [
             0.1111111111111111,
             "#46039f"
            ],
            [
             0.2222222222222222,
             "#7201a8"
            ],
            [
             0.3333333333333333,
             "#9c179e"
            ],
            [
             0.4444444444444444,
             "#bd3786"
            ],
            [
             0.5555555555555556,
             "#d8576b"
            ],
            [
             0.6666666666666666,
             "#ed7953"
            ],
            [
             0.7777777777777778,
             "#fb9f3a"
            ],
            [
             0.8888888888888888,
             "#fdca26"
            ],
            [
             1,
             "#f0f921"
            ]
           ],
           "sequentialminus": [
            [
             0,
             "#0d0887"
            ],
            [
             0.1111111111111111,
             "#46039f"
            ],
            [
             0.2222222222222222,
             "#7201a8"
            ],
            [
             0.3333333333333333,
             "#9c179e"
            ],
            [
             0.4444444444444444,
             "#bd3786"
            ],
            [
             0.5555555555555556,
             "#d8576b"
            ],
            [
             0.6666666666666666,
             "#ed7953"
            ],
            [
             0.7777777777777778,
             "#fb9f3a"
            ],
            [
             0.8888888888888888,
             "#fdca26"
            ],
            [
             1,
             "#f0f921"
            ]
           ]
          },
          "colorway": [
           "#636efa",
           "#EF553B",
           "#00cc96",
           "#ab63fa",
           "#FFA15A",
           "#19d3f3",
           "#FF6692",
           "#B6E880",
           "#FF97FF",
           "#FECB52"
          ],
          "font": {
           "color": "#2a3f5f"
          },
          "geo": {
           "bgcolor": "white",
           "lakecolor": "white",
           "landcolor": "#E5ECF6",
           "showlakes": true,
           "showland": true,
           "subunitcolor": "white"
          },
          "hoverlabel": {
           "align": "left"
          },
          "hovermode": "closest",
          "mapbox": {
           "style": "light"
          },
          "paper_bgcolor": "white",
          "plot_bgcolor": "#E5ECF6",
          "polar": {
           "angularaxis": {
            "gridcolor": "white",
            "linecolor": "white",
            "ticks": ""
           },
           "bgcolor": "#E5ECF6",
           "radialaxis": {
            "gridcolor": "white",
            "linecolor": "white",
            "ticks": ""
           }
          },
          "scene": {
           "xaxis": {
            "backgroundcolor": "#E5ECF6",
            "gridcolor": "white",
            "gridwidth": 2,
            "linecolor": "white",
            "showbackground": true,
            "ticks": "",
            "zerolinecolor": "white"
           },
           "yaxis": {
            "backgroundcolor": "#E5ECF6",
            "gridcolor": "white",
            "gridwidth": 2,
            "linecolor": "white",
            "showbackground": true,
            "ticks": "",
            "zerolinecolor": "white"
           },
           "zaxis": {
            "backgroundcolor": "#E5ECF6",
            "gridcolor": "white",
            "gridwidth": 2,
            "linecolor": "white",
            "showbackground": true,
            "ticks": "",
            "zerolinecolor": "white"
           }
          },
          "shapedefaults": {
           "line": {
            "color": "#2a3f5f"
           }
          },
          "ternary": {
           "aaxis": {
            "gridcolor": "white",
            "linecolor": "white",
            "ticks": ""
           },
           "baxis": {
            "gridcolor": "white",
            "linecolor": "white",
            "ticks": ""
           },
           "bgcolor": "#E5ECF6",
           "caxis": {
            "gridcolor": "white",
            "linecolor": "white",
            "ticks": ""
           }
          },
          "title": {
           "x": 0.05
          },
          "xaxis": {
           "automargin": true,
           "gridcolor": "white",
           "linecolor": "white",
           "ticks": "",
           "title": {
            "standoff": 15
           },
           "zerolinecolor": "white",
           "zerolinewidth": 2
          },
          "yaxis": {
           "automargin": true,
           "gridcolor": "white",
           "linecolor": "white",
           "ticks": "",
           "title": {
            "standoff": 15
           },
           "zerolinecolor": "white",
           "zerolinewidth": 2
          }
         }
        },
        "title": {
         "font": {
          "color": "#151516"
         },
         "text": "CULTIVOS DE COCA"
        },
        "xaxis": {
         "gridcolor": "#F6F6F6",
         "showgrid": true,
         "tickfont": {
          "color": "#666666"
         },
         "title": {
          "font": {
           "color": "#666666"
          },
          "text": "AÑO"
         },
         "zerolinecolor": "#F6F6F6"
        },
        "yaxis": {
         "gridcolor": "#F6F6F6",
         "showgrid": true,
         "tickfont": {
          "color": "#666666"
         },
         "title": {
          "font": {
           "color": "#666666"
          },
          "text": "HECTÁREAS"
         },
         "zerolinecolor": "#F6F6F6"
        }
       }
      },
      "text/html": [
       "<div>                            <div id=\"14d61ee3-8a10-4101-ae6a-39a44ceeff8a\" class=\"plotly-graph-div\" style=\"height:525px; width:100%;\"></div>            <script type=\"text/javascript\">                require([\"plotly\"], function(Plotly) {                    window.PLOTLYENV=window.PLOTLYENV || {};\n",
       "                    window.PLOTLYENV.BASE_URL='https://plot.ly';                                    if (document.getElementById(\"14d61ee3-8a10-4101-ae6a-39a44ceeff8a\")) {                    Plotly.newPlot(                        \"14d61ee3-8a10-4101-ae6a-39a44ceeff8a\",                        [{\"boxpoints\":false,\"line\":{\"width\":1.3},\"marker\":{\"color\":\"rgba(226, 74, 51, 1.0)\"},\"name\":\"2015\",\"orientation\":\"v\",\"y\":[111.17,2402.57,17.13,1043.02,7.71,0.0,3840.08,4025.03,33.269999999999996,1488.8,0.0,1363.0,36.730000000000004,455.19,0.0,6.81,695.98,4812.74,3303.34,111.52,20.66,689.98,32.64,683.14],\"type\":\"box\"},{\"boxpoints\":false,\"line\":{\"width\":1.3},\"marker\":{\"color\":\"rgba(62, 111, 176, 1.0)\"},\"name\":\"2016\",\"orientation\":\"v\",\"y\":[166.77,3305.9,8.91,2838.78,14.99,0.0,2763.16,2676.49,26.4,1802.8400000000001,0.0,1378.22,21.61,542.29,0.0,34.93,784.5699999999999,4523.28,2656.4700000000003,116.48,37.24,751.9300000000001,96.66,699.19],\"type\":\"box\"},{\"boxpoints\":false,\"line\":{\"width\":1.3},\"marker\":{\"color\":\"rgba(132, 118, 202, 1.0)\"},\"name\":\"2017\",\"orientation\":\"v\",\"y\":[165.62,3721.91,121.22,2441.54,21.99,0.0,3746.41,2460.92,24.35,2610.59,0.0,557.4100000000001,30.54,416.39,1.69,7.88,683.4200000000001,7916.66,2350.28,76.23,29.990000000000002,231.15,105.46,652.72],\"type\":\"box\"},{\"boxpoints\":false,\"line\":{\"width\":1.3},\"marker\":{\"color\":\"rgba(101, 101, 101, 1.0)\"},\"name\":\"2018\",\"orientation\":\"v\",\"y\":[121.64999999999999,5224.91,7.44,2082.69,16.48,0.0,3491.58,2490.2200000000003,31.1,2155.13,0.0,1421.22,41.22,241.84,1.61,12.45,1862.69,8811.29,2494.44,70.14,20.58,1270.56,64.74,549.97],\"type\":\"box\"},{\"boxpoints\":false,\"line\":{\"width\":1.3},\"marker\":{\"color\":\"rgba(251, 193, 94, 1.0)\"},\"name\":\"2019\",\"orientation\":\"v\",\"y\":[124.64,3958.62,0.0,1776.8000000000002,4.24,0.0,3101.62,3224.48,38.16,1248.09,0.0,1741.6200000000001,22.27,902.31,0.0,6.88,1465.5700000000002,6773.1,1318.61,77.08,2.3899999999999997,1009.06,25.95,245.3],\"type\":\"box\"},{\"boxpoints\":false,\"line\":{\"width\":1.3},\"marker\":{\"color\":\"rgba(142, 186, 66, 1.0)\"},\"name\":\"2020\",\"orientation\":\"v\",\"y\":[61.45,12090.19,0.0,9373.25,6.35,0.0,2054.94,16543.83,32.22,1467.6399999999999,0.0,3748.82,19.15,3226.65,0.0,2.07,1234.86,30751.379999999997,40083.7,19986.18,3.12,1937.86,39.33,120.98],\"type\":\"box\"}],                        {\"legend\":{\"bgcolor\":\"#FFFFFF\",\"font\":{\"color\":\"#666666\"}},\"paper_bgcolor\":\"#FFFFFF\",\"plot_bgcolor\":\"#E5E5E5\",\"template\":{\"data\":{\"barpolar\":[{\"marker\":{\"line\":{\"color\":\"#E5ECF6\",\"width\":0.5},\"pattern\":{\"fillmode\":\"overlay\",\"size\":10,\"solidity\":0.2}},\"type\":\"barpolar\"}],\"bar\":[{\"error_x\":{\"color\":\"#2a3f5f\"},\"error_y\":{\"color\":\"#2a3f5f\"},\"marker\":{\"line\":{\"color\":\"#E5ECF6\",\"width\":0.5},\"pattern\":{\"fillmode\":\"overlay\",\"size\":10,\"solidity\":0.2}},\"type\":\"bar\"}],\"carpet\":[{\"aaxis\":{\"endlinecolor\":\"#2a3f5f\",\"gridcolor\":\"white\",\"linecolor\":\"white\",\"minorgridcolor\":\"white\",\"startlinecolor\":\"#2a3f5f\"},\"baxis\":{\"endlinecolor\":\"#2a3f5f\",\"gridcolor\":\"white\",\"linecolor\":\"white\",\"minorgridcolor\":\"white\",\"startlinecolor\":\"#2a3f5f\"},\"type\":\"carpet\"}],\"choropleth\":[{\"colorbar\":{\"outlinewidth\":0,\"ticks\":\"\"},\"type\":\"choropleth\"}],\"contourcarpet\":[{\"colorbar\":{\"outlinewidth\":0,\"ticks\":\"\"},\"type\":\"contourcarpet\"}],\"contour\":[{\"colorbar\":{\"outlinewidth\":0,\"ticks\":\"\"},\"colorscale\":[[0.0,\"#0d0887\"],[0.1111111111111111,\"#46039f\"],[0.2222222222222222,\"#7201a8\"],[0.3333333333333333,\"#9c179e\"],[0.4444444444444444,\"#bd3786\"],[0.5555555555555556,\"#d8576b\"],[0.6666666666666666,\"#ed7953\"],[0.7777777777777778,\"#fb9f3a\"],[0.8888888888888888,\"#fdca26\"],[1.0,\"#f0f921\"]],\"type\":\"contour\"}],\"heatmapgl\":[{\"colorbar\":{\"outlinewidth\":0,\"ticks\":\"\"},\"colorscale\":[[0.0,\"#0d0887\"],[0.1111111111111111,\"#46039f\"],[0.2222222222222222,\"#7201a8\"],[0.3333333333333333,\"#9c179e\"],[0.4444444444444444,\"#bd3786\"],[0.5555555555555556,\"#d8576b\"],[0.6666666666666666,\"#ed7953\"],[0.7777777777777778,\"#fb9f3a\"],[0.8888888888888888,\"#fdca26\"],[1.0,\"#f0f921\"]],\"type\":\"heatmapgl\"}],\"heatmap\":[{\"colorbar\":{\"outlinewidth\":0,\"ticks\":\"\"},\"colorscale\":[[0.0,\"#0d0887\"],[0.1111111111111111,\"#46039f\"],[0.2222222222222222,\"#7201a8\"],[0.3333333333333333,\"#9c179e\"],[0.4444444444444444,\"#bd3786\"],[0.5555555555555556,\"#d8576b\"],[0.6666666666666666,\"#ed7953\"],[0.7777777777777778,\"#fb9f3a\"],[0.8888888888888888,\"#fdca26\"],[1.0,\"#f0f921\"]],\"type\":\"heatmap\"}],\"histogram2dcontour\":[{\"colorbar\":{\"outlinewidth\":0,\"ticks\":\"\"},\"colorscale\":[[0.0,\"#0d0887\"],[0.1111111111111111,\"#46039f\"],[0.2222222222222222,\"#7201a8\"],[0.3333333333333333,\"#9c179e\"],[0.4444444444444444,\"#bd3786\"],[0.5555555555555556,\"#d8576b\"],[0.6666666666666666,\"#ed7953\"],[0.7777777777777778,\"#fb9f3a\"],[0.8888888888888888,\"#fdca26\"],[1.0,\"#f0f921\"]],\"type\":\"histogram2dcontour\"}],\"histogram2d\":[{\"colorbar\":{\"outlinewidth\":0,\"ticks\":\"\"},\"colorscale\":[[0.0,\"#0d0887\"],[0.1111111111111111,\"#46039f\"],[0.2222222222222222,\"#7201a8\"],[0.3333333333333333,\"#9c179e\"],[0.4444444444444444,\"#bd3786\"],[0.5555555555555556,\"#d8576b\"],[0.6666666666666666,\"#ed7953\"],[0.7777777777777778,\"#fb9f3a\"],[0.8888888888888888,\"#fdca26\"],[1.0,\"#f0f921\"]],\"type\":\"histogram2d\"}],\"histogram\":[{\"marker\":{\"pattern\":{\"fillmode\":\"overlay\",\"size\":10,\"solidity\":0.2}},\"type\":\"histogram\"}],\"mesh3d\":[{\"colorbar\":{\"outlinewidth\":0,\"ticks\":\"\"},\"type\":\"mesh3d\"}],\"parcoords\":[{\"line\":{\"colorbar\":{\"outlinewidth\":0,\"ticks\":\"\"}},\"type\":\"parcoords\"}],\"pie\":[{\"automargin\":true,\"type\":\"pie\"}],\"scatter3d\":[{\"line\":{\"colorbar\":{\"outlinewidth\":0,\"ticks\":\"\"}},\"marker\":{\"colorbar\":{\"outlinewidth\":0,\"ticks\":\"\"}},\"type\":\"scatter3d\"}],\"scattercarpet\":[{\"marker\":{\"colorbar\":{\"outlinewidth\":0,\"ticks\":\"\"}},\"type\":\"scattercarpet\"}],\"scattergeo\":[{\"marker\":{\"colorbar\":{\"outlinewidth\":0,\"ticks\":\"\"}},\"type\":\"scattergeo\"}],\"scattergl\":[{\"marker\":{\"colorbar\":{\"outlinewidth\":0,\"ticks\":\"\"}},\"type\":\"scattergl\"}],\"scattermapbox\":[{\"marker\":{\"colorbar\":{\"outlinewidth\":0,\"ticks\":\"\"}},\"type\":\"scattermapbox\"}],\"scatterpolargl\":[{\"marker\":{\"colorbar\":{\"outlinewidth\":0,\"ticks\":\"\"}},\"type\":\"scatterpolargl\"}],\"scatterpolar\":[{\"marker\":{\"colorbar\":{\"outlinewidth\":0,\"ticks\":\"\"}},\"type\":\"scatterpolar\"}],\"scatter\":[{\"marker\":{\"colorbar\":{\"outlinewidth\":0,\"ticks\":\"\"}},\"type\":\"scatter\"}],\"scatterternary\":[{\"marker\":{\"colorbar\":{\"outlinewidth\":0,\"ticks\":\"\"}},\"type\":\"scatterternary\"}],\"surface\":[{\"colorbar\":{\"outlinewidth\":0,\"ticks\":\"\"},\"colorscale\":[[0.0,\"#0d0887\"],[0.1111111111111111,\"#46039f\"],[0.2222222222222222,\"#7201a8\"],[0.3333333333333333,\"#9c179e\"],[0.4444444444444444,\"#bd3786\"],[0.5555555555555556,\"#d8576b\"],[0.6666666666666666,\"#ed7953\"],[0.7777777777777778,\"#fb9f3a\"],[0.8888888888888888,\"#fdca26\"],[1.0,\"#f0f921\"]],\"type\":\"surface\"}],\"table\":[{\"cells\":{\"fill\":{\"color\":\"#EBF0F8\"},\"line\":{\"color\":\"white\"}},\"header\":{\"fill\":{\"color\":\"#C8D4E3\"},\"line\":{\"color\":\"white\"}},\"type\":\"table\"}]},\"layout\":{\"annotationdefaults\":{\"arrowcolor\":\"#2a3f5f\",\"arrowhead\":0,\"arrowwidth\":1},\"autotypenumbers\":\"strict\",\"coloraxis\":{\"colorbar\":{\"outlinewidth\":0,\"ticks\":\"\"}},\"colorscale\":{\"diverging\":[[0,\"#8e0152\"],[0.1,\"#c51b7d\"],[0.2,\"#de77ae\"],[0.3,\"#f1b6da\"],[0.4,\"#fde0ef\"],[0.5,\"#f7f7f7\"],[0.6,\"#e6f5d0\"],[0.7,\"#b8e186\"],[0.8,\"#7fbc41\"],[0.9,\"#4d9221\"],[1,\"#276419\"]],\"sequential\":[[0.0,\"#0d0887\"],[0.1111111111111111,\"#46039f\"],[0.2222222222222222,\"#7201a8\"],[0.3333333333333333,\"#9c179e\"],[0.4444444444444444,\"#bd3786\"],[0.5555555555555556,\"#d8576b\"],[0.6666666666666666,\"#ed7953\"],[0.7777777777777778,\"#fb9f3a\"],[0.8888888888888888,\"#fdca26\"],[1.0,\"#f0f921\"]],\"sequentialminus\":[[0.0,\"#0d0887\"],[0.1111111111111111,\"#46039f\"],[0.2222222222222222,\"#7201a8\"],[0.3333333333333333,\"#9c179e\"],[0.4444444444444444,\"#bd3786\"],[0.5555555555555556,\"#d8576b\"],[0.6666666666666666,\"#ed7953\"],[0.7777777777777778,\"#fb9f3a\"],[0.8888888888888888,\"#fdca26\"],[1.0,\"#f0f921\"]]},\"colorway\":[\"#636efa\",\"#EF553B\",\"#00cc96\",\"#ab63fa\",\"#FFA15A\",\"#19d3f3\",\"#FF6692\",\"#B6E880\",\"#FF97FF\",\"#FECB52\"],\"font\":{\"color\":\"#2a3f5f\"},\"geo\":{\"bgcolor\":\"white\",\"lakecolor\":\"white\",\"landcolor\":\"#E5ECF6\",\"showlakes\":true,\"showland\":true,\"subunitcolor\":\"white\"},\"hoverlabel\":{\"align\":\"left\"},\"hovermode\":\"closest\",\"mapbox\":{\"style\":\"light\"},\"paper_bgcolor\":\"white\",\"plot_bgcolor\":\"#E5ECF6\",\"polar\":{\"angularaxis\":{\"gridcolor\":\"white\",\"linecolor\":\"white\",\"ticks\":\"\"},\"bgcolor\":\"#E5ECF6\",\"radialaxis\":{\"gridcolor\":\"white\",\"linecolor\":\"white\",\"ticks\":\"\"}},\"scene\":{\"xaxis\":{\"backgroundcolor\":\"#E5ECF6\",\"gridcolor\":\"white\",\"gridwidth\":2,\"linecolor\":\"white\",\"showbackground\":true,\"ticks\":\"\",\"zerolinecolor\":\"white\"},\"yaxis\":{\"backgroundcolor\":\"#E5ECF6\",\"gridcolor\":\"white\",\"gridwidth\":2,\"linecolor\":\"white\",\"showbackground\":true,\"ticks\":\"\",\"zerolinecolor\":\"white\"},\"zaxis\":{\"backgroundcolor\":\"#E5ECF6\",\"gridcolor\":\"white\",\"gridwidth\":2,\"linecolor\":\"white\",\"showbackground\":true,\"ticks\":\"\",\"zerolinecolor\":\"white\"}},\"shapedefaults\":{\"line\":{\"color\":\"#2a3f5f\"}},\"ternary\":{\"aaxis\":{\"gridcolor\":\"white\",\"linecolor\":\"white\",\"ticks\":\"\"},\"baxis\":{\"gridcolor\":\"white\",\"linecolor\":\"white\",\"ticks\":\"\"},\"bgcolor\":\"#E5ECF6\",\"caxis\":{\"gridcolor\":\"white\",\"linecolor\":\"white\",\"ticks\":\"\"}},\"title\":{\"x\":0.05},\"xaxis\":{\"automargin\":true,\"gridcolor\":\"white\",\"linecolor\":\"white\",\"ticks\":\"\",\"title\":{\"standoff\":15},\"zerolinecolor\":\"white\",\"zerolinewidth\":2},\"yaxis\":{\"automargin\":true,\"gridcolor\":\"white\",\"linecolor\":\"white\",\"ticks\":\"\",\"title\":{\"standoff\":15},\"zerolinecolor\":\"white\",\"zerolinewidth\":2}}},\"title\":{\"font\":{\"color\":\"#151516\"},\"text\":\"CULTIVOS DE COCA\"},\"xaxis\":{\"gridcolor\":\"#F6F6F6\",\"showgrid\":true,\"tickfont\":{\"color\":\"#666666\"},\"title\":{\"font\":{\"color\":\"#666666\"},\"text\":\"A\\u00d1O\"},\"zerolinecolor\":\"#F6F6F6\"},\"yaxis\":{\"gridcolor\":\"#F6F6F6\",\"showgrid\":true,\"tickfont\":{\"color\":\"#666666\"},\"title\":{\"font\":{\"color\":\"#666666\"},\"text\":\"HECT\\u00c1REAS\"},\"zerolinecolor\":\"#F6F6F6\"}},                        {\"showLink\": true, \"linkText\": \"Export to plot.ly\", \"plotlyServerURL\": \"https://plot.ly\", \"responsive\": true}                    ).then(function(){\n",
       "                            \n",
       "var gd = document.getElementById('14d61ee3-8a10-4101-ae6a-39a44ceeff8a');\n",
       "var x = new MutationObserver(function (mutations, observer) {{\n",
       "        var display = window.getComputedStyle(gd).display;\n",
       "        if (!display || display === 'none') {{\n",
       "            console.log([gd, 'removed!']);\n",
       "            Plotly.purge(gd);\n",
       "            observer.disconnect();\n",
       "        }}\n",
       "}});\n",
       "\n",
       "// Listen for the removal of the full notebook cells\n",
       "var notebookContainer = gd.closest('#notebook-container');\n",
       "if (notebookContainer) {{\n",
       "    x.observe(notebookContainer, {childList: true});\n",
       "}}\n",
       "\n",
       "// Listen for the clearing of the current output cell\n",
       "var outputEl = gd.closest('.output');\n",
       "if (outputEl) {{\n",
       "    x.observe(outputEl, {childList: true});\n",
       "}}\n",
       "\n",
       "                        })                };                });            </script>        </div>"
      ]
     },
     "metadata": {},
     "output_type": "display_data"
    }
   ],
   "source": [
    "ndatos.iplot(kind='box', xTitle='AÑO', yTitle='HECTÁREAS',\n",
    "           title='CULTIVOS DE COCA')"
   ]
  },
  {
   "cell_type": "code",
   "execution_count": 25,
   "id": "63780b02",
   "metadata": {},
   "outputs": [
    {
     "data": {
      "application/vnd.plotly.v1+json": {
       "config": {
        "linkText": "Export to plot.ly",
        "plotlyServerURL": "https://plot.ly",
        "showLink": true
       },
       "data": [
        {
         "marker": {
          "color": "rgba(226, 74, 51, 0.6)",
          "line": {
           "color": "rgba(226, 74, 51, 1.0)",
           "width": 1
          }
         },
         "name": "2015",
         "orientation": "v",
         "text": "",
         "type": "bar",
         "x": [
          "REGIÓN AMAZÓNICA",
          "REGIÓN ANDINA",
          "REGIÓN CARIBE",
          "REGIÓN ORINOQUÍA",
          "REGIÓN PACÍFICA"
         ],
         "y": [
          2126.37,
          19893.22,
          2453.81,
          17.13,
          689.98
         ]
        },
        {
         "marker": {
          "color": "rgba(62, 111, 176, 0.6)",
          "line": {
           "color": "rgba(62, 111, 176, 1.0)",
           "width": 1
          }
         },
         "name": "2016",
         "orientation": "v",
         "text": "",
         "type": "bar",
         "x": [
          "REGIÓN AMAZÓNICA",
          "REGIÓN ANDINA",
          "REGIÓN CARIBE",
          "REGIÓN ORINOQUÍA",
          "REGIÓN PACÍFICA"
         ],
         "y": [
          2427.5699999999997,
          17765.38,
          4293.320000000001,
          8.91,
          751.9300000000001
         ]
        },
        {
         "marker": {
          "color": "rgba(132, 118, 202, 0.6)",
          "line": {
           "color": "rgba(132, 118, 202, 1.0)",
           "width": 1
          }
         },
         "name": "2017",
         "orientation": "v",
         "text": "",
         "type": "bar",
         "x": [
          "REGIÓN AMAZÓNICA",
          "REGIÓN ANDINA",
          "REGIÓN CARIBE",
          "REGIÓN ORINOQUÍA",
          "REGIÓN PACÍFICA"
         ],
         "y": [
          2130.38,
          22836.76,
          3054.86,
          121.22,
          231.15
         ]
        },
        {
         "marker": {
          "color": "rgba(101, 101, 101, 0.6)",
          "line": {
           "color": "rgba(101, 101, 101, 1.0)",
           "width": 1
          }
         },
         "name": "2018",
         "orientation": "v",
         "text": "",
         "type": "bar",
         "x": [
          "REGIÓN AMAZÓNICA",
          "REGIÓN ANDINA",
          "REGIÓN CARIBE",
          "REGIÓN ORINOQUÍA",
          "REGIÓN PACÍFICA"
         ],
         "y": [
          2952.25,
          24688.15,
          3565.55,
          7.44,
          1270.56
         ]
        },
        {
         "marker": {
          "color": "rgba(251, 193, 94, 0.6)",
          "line": {
           "color": "rgba(251, 193, 94, 1.0)",
           "width": 1
          }
         },
         "name": "2019",
         "orientation": "v",
         "text": "",
         "type": "bar",
         "x": [
          "REGIÓN AMAZÓNICA",
          "REGIÓN ANDINA",
          "REGIÓN CARIBE",
          "REGIÓN ORINOQUÍA",
          "REGIÓN PACÍFICA"
         ],
         "y": [
          2863.1200000000003,
          19626.91,
          3567.7000000000003,
          0,
          1009.06
         ]
        },
        {
         "marker": {
          "color": "rgba(142, 186, 66, 0.6)",
          "line": {
           "color": "rgba(142, 186, 66, 1.0)",
           "width": 1
          }
         },
         "name": "2020",
         "orientation": "v",
         "text": "",
         "type": "bar",
         "x": [
          "REGIÓN AMAZÓNICA",
          "REGIÓN ANDINA",
          "REGIÓN CARIBE",
          "REGIÓN ORINOQUÍA",
          "REGIÓN PACÍFICA"
         ],
         "y": [
          24688.600000000002,
          102994.79999999999,
          13162.710000000001,
          0,
          1937.86
         ]
        }
       ],
       "layout": {
        "legend": {
         "bgcolor": "#FFFFFF",
         "font": {
          "color": "#666666"
         }
        },
        "paper_bgcolor": "#FFFFFF",
        "plot_bgcolor": "#E5E5E5",
        "showlegend": true,
        "template": {
         "data": {
          "bar": [
           {
            "error_x": {
             "color": "#2a3f5f"
            },
            "error_y": {
             "color": "#2a3f5f"
            },
            "marker": {
             "line": {
              "color": "#E5ECF6",
              "width": 0.5
             },
             "pattern": {
              "fillmode": "overlay",
              "size": 10,
              "solidity": 0.2
             }
            },
            "type": "bar"
           }
          ],
          "barpolar": [
           {
            "marker": {
             "line": {
              "color": "#E5ECF6",
              "width": 0.5
             },
             "pattern": {
              "fillmode": "overlay",
              "size": 10,
              "solidity": 0.2
             }
            },
            "type": "barpolar"
           }
          ],
          "carpet": [
           {
            "aaxis": {
             "endlinecolor": "#2a3f5f",
             "gridcolor": "white",
             "linecolor": "white",
             "minorgridcolor": "white",
             "startlinecolor": "#2a3f5f"
            },
            "baxis": {
             "endlinecolor": "#2a3f5f",
             "gridcolor": "white",
             "linecolor": "white",
             "minorgridcolor": "white",
             "startlinecolor": "#2a3f5f"
            },
            "type": "carpet"
           }
          ],
          "choropleth": [
           {
            "colorbar": {
             "outlinewidth": 0,
             "ticks": ""
            },
            "type": "choropleth"
           }
          ],
          "contour": [
           {
            "colorbar": {
             "outlinewidth": 0,
             "ticks": ""
            },
            "colorscale": [
             [
              0,
              "#0d0887"
             ],
             [
              0.1111111111111111,
              "#46039f"
             ],
             [
              0.2222222222222222,
              "#7201a8"
             ],
             [
              0.3333333333333333,
              "#9c179e"
             ],
             [
              0.4444444444444444,
              "#bd3786"
             ],
             [
              0.5555555555555556,
              "#d8576b"
             ],
             [
              0.6666666666666666,
              "#ed7953"
             ],
             [
              0.7777777777777778,
              "#fb9f3a"
             ],
             [
              0.8888888888888888,
              "#fdca26"
             ],
             [
              1,
              "#f0f921"
             ]
            ],
            "type": "contour"
           }
          ],
          "contourcarpet": [
           {
            "colorbar": {
             "outlinewidth": 0,
             "ticks": ""
            },
            "type": "contourcarpet"
           }
          ],
          "heatmap": [
           {
            "colorbar": {
             "outlinewidth": 0,
             "ticks": ""
            },
            "colorscale": [
             [
              0,
              "#0d0887"
             ],
             [
              0.1111111111111111,
              "#46039f"
             ],
             [
              0.2222222222222222,
              "#7201a8"
             ],
             [
              0.3333333333333333,
              "#9c179e"
             ],
             [
              0.4444444444444444,
              "#bd3786"
             ],
             [
              0.5555555555555556,
              "#d8576b"
             ],
             [
              0.6666666666666666,
              "#ed7953"
             ],
             [
              0.7777777777777778,
              "#fb9f3a"
             ],
             [
              0.8888888888888888,
              "#fdca26"
             ],
             [
              1,
              "#f0f921"
             ]
            ],
            "type": "heatmap"
           }
          ],
          "heatmapgl": [
           {
            "colorbar": {
             "outlinewidth": 0,
             "ticks": ""
            },
            "colorscale": [
             [
              0,
              "#0d0887"
             ],
             [
              0.1111111111111111,
              "#46039f"
             ],
             [
              0.2222222222222222,
              "#7201a8"
             ],
             [
              0.3333333333333333,
              "#9c179e"
             ],
             [
              0.4444444444444444,
              "#bd3786"
             ],
             [
              0.5555555555555556,
              "#d8576b"
             ],
             [
              0.6666666666666666,
              "#ed7953"
             ],
             [
              0.7777777777777778,
              "#fb9f3a"
             ],
             [
              0.8888888888888888,
              "#fdca26"
             ],
             [
              1,
              "#f0f921"
             ]
            ],
            "type": "heatmapgl"
           }
          ],
          "histogram": [
           {
            "marker": {
             "pattern": {
              "fillmode": "overlay",
              "size": 10,
              "solidity": 0.2
             }
            },
            "type": "histogram"
           }
          ],
          "histogram2d": [
           {
            "colorbar": {
             "outlinewidth": 0,
             "ticks": ""
            },
            "colorscale": [
             [
              0,
              "#0d0887"
             ],
             [
              0.1111111111111111,
              "#46039f"
             ],
             [
              0.2222222222222222,
              "#7201a8"
             ],
             [
              0.3333333333333333,
              "#9c179e"
             ],
             [
              0.4444444444444444,
              "#bd3786"
             ],
             [
              0.5555555555555556,
              "#d8576b"
             ],
             [
              0.6666666666666666,
              "#ed7953"
             ],
             [
              0.7777777777777778,
              "#fb9f3a"
             ],
             [
              0.8888888888888888,
              "#fdca26"
             ],
             [
              1,
              "#f0f921"
             ]
            ],
            "type": "histogram2d"
           }
          ],
          "histogram2dcontour": [
           {
            "colorbar": {
             "outlinewidth": 0,
             "ticks": ""
            },
            "colorscale": [
             [
              0,
              "#0d0887"
             ],
             [
              0.1111111111111111,
              "#46039f"
             ],
             [
              0.2222222222222222,
              "#7201a8"
             ],
             [
              0.3333333333333333,
              "#9c179e"
             ],
             [
              0.4444444444444444,
              "#bd3786"
             ],
             [
              0.5555555555555556,
              "#d8576b"
             ],
             [
              0.6666666666666666,
              "#ed7953"
             ],
             [
              0.7777777777777778,
              "#fb9f3a"
             ],
             [
              0.8888888888888888,
              "#fdca26"
             ],
             [
              1,
              "#f0f921"
             ]
            ],
            "type": "histogram2dcontour"
           }
          ],
          "mesh3d": [
           {
            "colorbar": {
             "outlinewidth": 0,
             "ticks": ""
            },
            "type": "mesh3d"
           }
          ],
          "parcoords": [
           {
            "line": {
             "colorbar": {
              "outlinewidth": 0,
              "ticks": ""
             }
            },
            "type": "parcoords"
           }
          ],
          "pie": [
           {
            "automargin": true,
            "type": "pie"
           }
          ],
          "scatter": [
           {
            "marker": {
             "colorbar": {
              "outlinewidth": 0,
              "ticks": ""
             }
            },
            "type": "scatter"
           }
          ],
          "scatter3d": [
           {
            "line": {
             "colorbar": {
              "outlinewidth": 0,
              "ticks": ""
             }
            },
            "marker": {
             "colorbar": {
              "outlinewidth": 0,
              "ticks": ""
             }
            },
            "type": "scatter3d"
           }
          ],
          "scattercarpet": [
           {
            "marker": {
             "colorbar": {
              "outlinewidth": 0,
              "ticks": ""
             }
            },
            "type": "scattercarpet"
           }
          ],
          "scattergeo": [
           {
            "marker": {
             "colorbar": {
              "outlinewidth": 0,
              "ticks": ""
             }
            },
            "type": "scattergeo"
           }
          ],
          "scattergl": [
           {
            "marker": {
             "colorbar": {
              "outlinewidth": 0,
              "ticks": ""
             }
            },
            "type": "scattergl"
           }
          ],
          "scattermapbox": [
           {
            "marker": {
             "colorbar": {
              "outlinewidth": 0,
              "ticks": ""
             }
            },
            "type": "scattermapbox"
           }
          ],
          "scatterpolar": [
           {
            "marker": {
             "colorbar": {
              "outlinewidth": 0,
              "ticks": ""
             }
            },
            "type": "scatterpolar"
           }
          ],
          "scatterpolargl": [
           {
            "marker": {
             "colorbar": {
              "outlinewidth": 0,
              "ticks": ""
             }
            },
            "type": "scatterpolargl"
           }
          ],
          "scatterternary": [
           {
            "marker": {
             "colorbar": {
              "outlinewidth": 0,
              "ticks": ""
             }
            },
            "type": "scatterternary"
           }
          ],
          "surface": [
           {
            "colorbar": {
             "outlinewidth": 0,
             "ticks": ""
            },
            "colorscale": [
             [
              0,
              "#0d0887"
             ],
             [
              0.1111111111111111,
              "#46039f"
             ],
             [
              0.2222222222222222,
              "#7201a8"
             ],
             [
              0.3333333333333333,
              "#9c179e"
             ],
             [
              0.4444444444444444,
              "#bd3786"
             ],
             [
              0.5555555555555556,
              "#d8576b"
             ],
             [
              0.6666666666666666,
              "#ed7953"
             ],
             [
              0.7777777777777778,
              "#fb9f3a"
             ],
             [
              0.8888888888888888,
              "#fdca26"
             ],
             [
              1,
              "#f0f921"
             ]
            ],
            "type": "surface"
           }
          ],
          "table": [
           {
            "cells": {
             "fill": {
              "color": "#EBF0F8"
             },
             "line": {
              "color": "white"
             }
            },
            "header": {
             "fill": {
              "color": "#C8D4E3"
             },
             "line": {
              "color": "white"
             }
            },
            "type": "table"
           }
          ]
         },
         "layout": {
          "annotationdefaults": {
           "arrowcolor": "#2a3f5f",
           "arrowhead": 0,
           "arrowwidth": 1
          },
          "autotypenumbers": "strict",
          "coloraxis": {
           "colorbar": {
            "outlinewidth": 0,
            "ticks": ""
           }
          },
          "colorscale": {
           "diverging": [
            [
             0,
             "#8e0152"
            ],
            [
             0.1,
             "#c51b7d"
            ],
            [
             0.2,
             "#de77ae"
            ],
            [
             0.3,
             "#f1b6da"
            ],
            [
             0.4,
             "#fde0ef"
            ],
            [
             0.5,
             "#f7f7f7"
            ],
            [
             0.6,
             "#e6f5d0"
            ],
            [
             0.7,
             "#b8e186"
            ],
            [
             0.8,
             "#7fbc41"
            ],
            [
             0.9,
             "#4d9221"
            ],
            [
             1,
             "#276419"
            ]
           ],
           "sequential": [
            [
             0,
             "#0d0887"
            ],
            [
             0.1111111111111111,
             "#46039f"
            ],
            [
             0.2222222222222222,
             "#7201a8"
            ],
            [
             0.3333333333333333,
             "#9c179e"
            ],
            [
             0.4444444444444444,
             "#bd3786"
            ],
            [
             0.5555555555555556,
             "#d8576b"
            ],
            [
             0.6666666666666666,
             "#ed7953"
            ],
            [
             0.7777777777777778,
             "#fb9f3a"
            ],
            [
             0.8888888888888888,
             "#fdca26"
            ],
            [
             1,
             "#f0f921"
            ]
           ],
           "sequentialminus": [
            [
             0,
             "#0d0887"
            ],
            [
             0.1111111111111111,
             "#46039f"
            ],
            [
             0.2222222222222222,
             "#7201a8"
            ],
            [
             0.3333333333333333,
             "#9c179e"
            ],
            [
             0.4444444444444444,
             "#bd3786"
            ],
            [
             0.5555555555555556,
             "#d8576b"
            ],
            [
             0.6666666666666666,
             "#ed7953"
            ],
            [
             0.7777777777777778,
             "#fb9f3a"
            ],
            [
             0.8888888888888888,
             "#fdca26"
            ],
            [
             1,
             "#f0f921"
            ]
           ]
          },
          "colorway": [
           "#636efa",
           "#EF553B",
           "#00cc96",
           "#ab63fa",
           "#FFA15A",
           "#19d3f3",
           "#FF6692",
           "#B6E880",
           "#FF97FF",
           "#FECB52"
          ],
          "font": {
           "color": "#2a3f5f"
          },
          "geo": {
           "bgcolor": "white",
           "lakecolor": "white",
           "landcolor": "#E5ECF6",
           "showlakes": true,
           "showland": true,
           "subunitcolor": "white"
          },
          "hoverlabel": {
           "align": "left"
          },
          "hovermode": "closest",
          "mapbox": {
           "style": "light"
          },
          "paper_bgcolor": "white",
          "plot_bgcolor": "#E5ECF6",
          "polar": {
           "angularaxis": {
            "gridcolor": "white",
            "linecolor": "white",
            "ticks": ""
           },
           "bgcolor": "#E5ECF6",
           "radialaxis": {
            "gridcolor": "white",
            "linecolor": "white",
            "ticks": ""
           }
          },
          "scene": {
           "xaxis": {
            "backgroundcolor": "#E5ECF6",
            "gridcolor": "white",
            "gridwidth": 2,
            "linecolor": "white",
            "showbackground": true,
            "ticks": "",
            "zerolinecolor": "white"
           },
           "yaxis": {
            "backgroundcolor": "#E5ECF6",
            "gridcolor": "white",
            "gridwidth": 2,
            "linecolor": "white",
            "showbackground": true,
            "ticks": "",
            "zerolinecolor": "white"
           },
           "zaxis": {
            "backgroundcolor": "#E5ECF6",
            "gridcolor": "white",
            "gridwidth": 2,
            "linecolor": "white",
            "showbackground": true,
            "ticks": "",
            "zerolinecolor": "white"
           }
          },
          "shapedefaults": {
           "line": {
            "color": "#2a3f5f"
           }
          },
          "ternary": {
           "aaxis": {
            "gridcolor": "white",
            "linecolor": "white",
            "ticks": ""
           },
           "baxis": {
            "gridcolor": "white",
            "linecolor": "white",
            "ticks": ""
           },
           "bgcolor": "#E5ECF6",
           "caxis": {
            "gridcolor": "white",
            "linecolor": "white",
            "ticks": ""
           }
          },
          "title": {
           "x": 0.05
          },
          "xaxis": {
           "automargin": true,
           "gridcolor": "white",
           "linecolor": "white",
           "ticks": "",
           "title": {
            "standoff": 15
           },
           "zerolinecolor": "white",
           "zerolinewidth": 2
          },
          "yaxis": {
           "automargin": true,
           "gridcolor": "white",
           "linecolor": "white",
           "ticks": "",
           "title": {
            "standoff": 15
           },
           "zerolinecolor": "white",
           "zerolinewidth": 2
          }
         }
        },
        "title": {
         "font": {
          "color": "#151516"
         },
         "text": "CULTIVOS DE COCA"
        },
        "xaxis": {
         "gridcolor": "#F6F6F6",
         "showgrid": true,
         "tickfont": {
          "color": "#666666"
         },
         "title": {
          "font": {
           "color": "#666666"
          },
          "text": "REGIÓN"
         },
         "zerolinecolor": "#F6F6F6"
        },
        "yaxis": {
         "gridcolor": "#F6F6F6",
         "showgrid": true,
         "tickfont": {
          "color": "#666666"
         },
         "title": {
          "font": {
           "color": "#666666"
          },
          "text": "HECTÁREAS"
         },
         "zerolinecolor": "#F6F6F6"
        }
       }
      },
      "text/html": [
       "<div>                            <div id=\"72d32c7e-efb2-4290-aa69-94c1a1223617\" class=\"plotly-graph-div\" style=\"height:525px; width:100%;\"></div>            <script type=\"text/javascript\">                require([\"plotly\"], function(Plotly) {                    window.PLOTLYENV=window.PLOTLYENV || {};\n",
       "                    window.PLOTLYENV.BASE_URL='https://plot.ly';                                    if (document.getElementById(\"72d32c7e-efb2-4290-aa69-94c1a1223617\")) {                    Plotly.newPlot(                        \"72d32c7e-efb2-4290-aa69-94c1a1223617\",                        [{\"marker\":{\"color\":\"rgba(226, 74, 51, 0.6)\",\"line\":{\"color\":\"rgba(226, 74, 51, 1.0)\",\"width\":1}},\"name\":\"2015\",\"orientation\":\"v\",\"text\":\"\",\"x\":[\"REGI\\u00d3N AMAZ\\u00d3NICA\",\"REGI\\u00d3N ANDINA\",\"REGI\\u00d3N CARIBE\",\"REGI\\u00d3N ORINOQU\\u00cdA\",\"REGI\\u00d3N PAC\\u00cdFICA\"],\"y\":[2126.37,19893.22,2453.81,17.13,689.98],\"type\":\"bar\"},{\"marker\":{\"color\":\"rgba(62, 111, 176, 0.6)\",\"line\":{\"color\":\"rgba(62, 111, 176, 1.0)\",\"width\":1}},\"name\":\"2016\",\"orientation\":\"v\",\"text\":\"\",\"x\":[\"REGI\\u00d3N AMAZ\\u00d3NICA\",\"REGI\\u00d3N ANDINA\",\"REGI\\u00d3N CARIBE\",\"REGI\\u00d3N ORINOQU\\u00cdA\",\"REGI\\u00d3N PAC\\u00cdFICA\"],\"y\":[2427.5699999999997,17765.38,4293.320000000001,8.91,751.9300000000001],\"type\":\"bar\"},{\"marker\":{\"color\":\"rgba(132, 118, 202, 0.6)\",\"line\":{\"color\":\"rgba(132, 118, 202, 1.0)\",\"width\":1}},\"name\":\"2017\",\"orientation\":\"v\",\"text\":\"\",\"x\":[\"REGI\\u00d3N AMAZ\\u00d3NICA\",\"REGI\\u00d3N ANDINA\",\"REGI\\u00d3N CARIBE\",\"REGI\\u00d3N ORINOQU\\u00cdA\",\"REGI\\u00d3N PAC\\u00cdFICA\"],\"y\":[2130.38,22836.76,3054.86,121.22,231.15],\"type\":\"bar\"},{\"marker\":{\"color\":\"rgba(101, 101, 101, 0.6)\",\"line\":{\"color\":\"rgba(101, 101, 101, 1.0)\",\"width\":1}},\"name\":\"2018\",\"orientation\":\"v\",\"text\":\"\",\"x\":[\"REGI\\u00d3N AMAZ\\u00d3NICA\",\"REGI\\u00d3N ANDINA\",\"REGI\\u00d3N CARIBE\",\"REGI\\u00d3N ORINOQU\\u00cdA\",\"REGI\\u00d3N PAC\\u00cdFICA\"],\"y\":[2952.25,24688.15,3565.55,7.44,1270.56],\"type\":\"bar\"},{\"marker\":{\"color\":\"rgba(251, 193, 94, 0.6)\",\"line\":{\"color\":\"rgba(251, 193, 94, 1.0)\",\"width\":1}},\"name\":\"2019\",\"orientation\":\"v\",\"text\":\"\",\"x\":[\"REGI\\u00d3N AMAZ\\u00d3NICA\",\"REGI\\u00d3N ANDINA\",\"REGI\\u00d3N CARIBE\",\"REGI\\u00d3N ORINOQU\\u00cdA\",\"REGI\\u00d3N PAC\\u00cdFICA\"],\"y\":[2863.1200000000003,19626.91,3567.7000000000003,0.0,1009.06],\"type\":\"bar\"},{\"marker\":{\"color\":\"rgba(142, 186, 66, 0.6)\",\"line\":{\"color\":\"rgba(142, 186, 66, 1.0)\",\"width\":1}},\"name\":\"2020\",\"orientation\":\"v\",\"text\":\"\",\"x\":[\"REGI\\u00d3N AMAZ\\u00d3NICA\",\"REGI\\u00d3N ANDINA\",\"REGI\\u00d3N CARIBE\",\"REGI\\u00d3N ORINOQU\\u00cdA\",\"REGI\\u00d3N PAC\\u00cdFICA\"],\"y\":[24688.600000000002,102994.79999999999,13162.710000000001,0.0,1937.86],\"type\":\"bar\"}],                        {\"legend\":{\"bgcolor\":\"#FFFFFF\",\"font\":{\"color\":\"#666666\"}},\"paper_bgcolor\":\"#FFFFFF\",\"plot_bgcolor\":\"#E5E5E5\",\"showlegend\":true,\"template\":{\"data\":{\"barpolar\":[{\"marker\":{\"line\":{\"color\":\"#E5ECF6\",\"width\":0.5},\"pattern\":{\"fillmode\":\"overlay\",\"size\":10,\"solidity\":0.2}},\"type\":\"barpolar\"}],\"bar\":[{\"error_x\":{\"color\":\"#2a3f5f\"},\"error_y\":{\"color\":\"#2a3f5f\"},\"marker\":{\"line\":{\"color\":\"#E5ECF6\",\"width\":0.5},\"pattern\":{\"fillmode\":\"overlay\",\"size\":10,\"solidity\":0.2}},\"type\":\"bar\"}],\"carpet\":[{\"aaxis\":{\"endlinecolor\":\"#2a3f5f\",\"gridcolor\":\"white\",\"linecolor\":\"white\",\"minorgridcolor\":\"white\",\"startlinecolor\":\"#2a3f5f\"},\"baxis\":{\"endlinecolor\":\"#2a3f5f\",\"gridcolor\":\"white\",\"linecolor\":\"white\",\"minorgridcolor\":\"white\",\"startlinecolor\":\"#2a3f5f\"},\"type\":\"carpet\"}],\"choropleth\":[{\"colorbar\":{\"outlinewidth\":0,\"ticks\":\"\"},\"type\":\"choropleth\"}],\"contourcarpet\":[{\"colorbar\":{\"outlinewidth\":0,\"ticks\":\"\"},\"type\":\"contourcarpet\"}],\"contour\":[{\"colorbar\":{\"outlinewidth\":0,\"ticks\":\"\"},\"colorscale\":[[0.0,\"#0d0887\"],[0.1111111111111111,\"#46039f\"],[0.2222222222222222,\"#7201a8\"],[0.3333333333333333,\"#9c179e\"],[0.4444444444444444,\"#bd3786\"],[0.5555555555555556,\"#d8576b\"],[0.6666666666666666,\"#ed7953\"],[0.7777777777777778,\"#fb9f3a\"],[0.8888888888888888,\"#fdca26\"],[1.0,\"#f0f921\"]],\"type\":\"contour\"}],\"heatmapgl\":[{\"colorbar\":{\"outlinewidth\":0,\"ticks\":\"\"},\"colorscale\":[[0.0,\"#0d0887\"],[0.1111111111111111,\"#46039f\"],[0.2222222222222222,\"#7201a8\"],[0.3333333333333333,\"#9c179e\"],[0.4444444444444444,\"#bd3786\"],[0.5555555555555556,\"#d8576b\"],[0.6666666666666666,\"#ed7953\"],[0.7777777777777778,\"#fb9f3a\"],[0.8888888888888888,\"#fdca26\"],[1.0,\"#f0f921\"]],\"type\":\"heatmapgl\"}],\"heatmap\":[{\"colorbar\":{\"outlinewidth\":0,\"ticks\":\"\"},\"colorscale\":[[0.0,\"#0d0887\"],[0.1111111111111111,\"#46039f\"],[0.2222222222222222,\"#7201a8\"],[0.3333333333333333,\"#9c179e\"],[0.4444444444444444,\"#bd3786\"],[0.5555555555555556,\"#d8576b\"],[0.6666666666666666,\"#ed7953\"],[0.7777777777777778,\"#fb9f3a\"],[0.8888888888888888,\"#fdca26\"],[1.0,\"#f0f921\"]],\"type\":\"heatmap\"}],\"histogram2dcontour\":[{\"colorbar\":{\"outlinewidth\":0,\"ticks\":\"\"},\"colorscale\":[[0.0,\"#0d0887\"],[0.1111111111111111,\"#46039f\"],[0.2222222222222222,\"#7201a8\"],[0.3333333333333333,\"#9c179e\"],[0.4444444444444444,\"#bd3786\"],[0.5555555555555556,\"#d8576b\"],[0.6666666666666666,\"#ed7953\"],[0.7777777777777778,\"#fb9f3a\"],[0.8888888888888888,\"#fdca26\"],[1.0,\"#f0f921\"]],\"type\":\"histogram2dcontour\"}],\"histogram2d\":[{\"colorbar\":{\"outlinewidth\":0,\"ticks\":\"\"},\"colorscale\":[[0.0,\"#0d0887\"],[0.1111111111111111,\"#46039f\"],[0.2222222222222222,\"#7201a8\"],[0.3333333333333333,\"#9c179e\"],[0.4444444444444444,\"#bd3786\"],[0.5555555555555556,\"#d8576b\"],[0.6666666666666666,\"#ed7953\"],[0.7777777777777778,\"#fb9f3a\"],[0.8888888888888888,\"#fdca26\"],[1.0,\"#f0f921\"]],\"type\":\"histogram2d\"}],\"histogram\":[{\"marker\":{\"pattern\":{\"fillmode\":\"overlay\",\"size\":10,\"solidity\":0.2}},\"type\":\"histogram\"}],\"mesh3d\":[{\"colorbar\":{\"outlinewidth\":0,\"ticks\":\"\"},\"type\":\"mesh3d\"}],\"parcoords\":[{\"line\":{\"colorbar\":{\"outlinewidth\":0,\"ticks\":\"\"}},\"type\":\"parcoords\"}],\"pie\":[{\"automargin\":true,\"type\":\"pie\"}],\"scatter3d\":[{\"line\":{\"colorbar\":{\"outlinewidth\":0,\"ticks\":\"\"}},\"marker\":{\"colorbar\":{\"outlinewidth\":0,\"ticks\":\"\"}},\"type\":\"scatter3d\"}],\"scattercarpet\":[{\"marker\":{\"colorbar\":{\"outlinewidth\":0,\"ticks\":\"\"}},\"type\":\"scattercarpet\"}],\"scattergeo\":[{\"marker\":{\"colorbar\":{\"outlinewidth\":0,\"ticks\":\"\"}},\"type\":\"scattergeo\"}],\"scattergl\":[{\"marker\":{\"colorbar\":{\"outlinewidth\":0,\"ticks\":\"\"}},\"type\":\"scattergl\"}],\"scattermapbox\":[{\"marker\":{\"colorbar\":{\"outlinewidth\":0,\"ticks\":\"\"}},\"type\":\"scattermapbox\"}],\"scatterpolargl\":[{\"marker\":{\"colorbar\":{\"outlinewidth\":0,\"ticks\":\"\"}},\"type\":\"scatterpolargl\"}],\"scatterpolar\":[{\"marker\":{\"colorbar\":{\"outlinewidth\":0,\"ticks\":\"\"}},\"type\":\"scatterpolar\"}],\"scatter\":[{\"marker\":{\"colorbar\":{\"outlinewidth\":0,\"ticks\":\"\"}},\"type\":\"scatter\"}],\"scatterternary\":[{\"marker\":{\"colorbar\":{\"outlinewidth\":0,\"ticks\":\"\"}},\"type\":\"scatterternary\"}],\"surface\":[{\"colorbar\":{\"outlinewidth\":0,\"ticks\":\"\"},\"colorscale\":[[0.0,\"#0d0887\"],[0.1111111111111111,\"#46039f\"],[0.2222222222222222,\"#7201a8\"],[0.3333333333333333,\"#9c179e\"],[0.4444444444444444,\"#bd3786\"],[0.5555555555555556,\"#d8576b\"],[0.6666666666666666,\"#ed7953\"],[0.7777777777777778,\"#fb9f3a\"],[0.8888888888888888,\"#fdca26\"],[1.0,\"#f0f921\"]],\"type\":\"surface\"}],\"table\":[{\"cells\":{\"fill\":{\"color\":\"#EBF0F8\"},\"line\":{\"color\":\"white\"}},\"header\":{\"fill\":{\"color\":\"#C8D4E3\"},\"line\":{\"color\":\"white\"}},\"type\":\"table\"}]},\"layout\":{\"annotationdefaults\":{\"arrowcolor\":\"#2a3f5f\",\"arrowhead\":0,\"arrowwidth\":1},\"autotypenumbers\":\"strict\",\"coloraxis\":{\"colorbar\":{\"outlinewidth\":0,\"ticks\":\"\"}},\"colorscale\":{\"diverging\":[[0,\"#8e0152\"],[0.1,\"#c51b7d\"],[0.2,\"#de77ae\"],[0.3,\"#f1b6da\"],[0.4,\"#fde0ef\"],[0.5,\"#f7f7f7\"],[0.6,\"#e6f5d0\"],[0.7,\"#b8e186\"],[0.8,\"#7fbc41\"],[0.9,\"#4d9221\"],[1,\"#276419\"]],\"sequential\":[[0.0,\"#0d0887\"],[0.1111111111111111,\"#46039f\"],[0.2222222222222222,\"#7201a8\"],[0.3333333333333333,\"#9c179e\"],[0.4444444444444444,\"#bd3786\"],[0.5555555555555556,\"#d8576b\"],[0.6666666666666666,\"#ed7953\"],[0.7777777777777778,\"#fb9f3a\"],[0.8888888888888888,\"#fdca26\"],[1.0,\"#f0f921\"]],\"sequentialminus\":[[0.0,\"#0d0887\"],[0.1111111111111111,\"#46039f\"],[0.2222222222222222,\"#7201a8\"],[0.3333333333333333,\"#9c179e\"],[0.4444444444444444,\"#bd3786\"],[0.5555555555555556,\"#d8576b\"],[0.6666666666666666,\"#ed7953\"],[0.7777777777777778,\"#fb9f3a\"],[0.8888888888888888,\"#fdca26\"],[1.0,\"#f0f921\"]]},\"colorway\":[\"#636efa\",\"#EF553B\",\"#00cc96\",\"#ab63fa\",\"#FFA15A\",\"#19d3f3\",\"#FF6692\",\"#B6E880\",\"#FF97FF\",\"#FECB52\"],\"font\":{\"color\":\"#2a3f5f\"},\"geo\":{\"bgcolor\":\"white\",\"lakecolor\":\"white\",\"landcolor\":\"#E5ECF6\",\"showlakes\":true,\"showland\":true,\"subunitcolor\":\"white\"},\"hoverlabel\":{\"align\":\"left\"},\"hovermode\":\"closest\",\"mapbox\":{\"style\":\"light\"},\"paper_bgcolor\":\"white\",\"plot_bgcolor\":\"#E5ECF6\",\"polar\":{\"angularaxis\":{\"gridcolor\":\"white\",\"linecolor\":\"white\",\"ticks\":\"\"},\"bgcolor\":\"#E5ECF6\",\"radialaxis\":{\"gridcolor\":\"white\",\"linecolor\":\"white\",\"ticks\":\"\"}},\"scene\":{\"xaxis\":{\"backgroundcolor\":\"#E5ECF6\",\"gridcolor\":\"white\",\"gridwidth\":2,\"linecolor\":\"white\",\"showbackground\":true,\"ticks\":\"\",\"zerolinecolor\":\"white\"},\"yaxis\":{\"backgroundcolor\":\"#E5ECF6\",\"gridcolor\":\"white\",\"gridwidth\":2,\"linecolor\":\"white\",\"showbackground\":true,\"ticks\":\"\",\"zerolinecolor\":\"white\"},\"zaxis\":{\"backgroundcolor\":\"#E5ECF6\",\"gridcolor\":\"white\",\"gridwidth\":2,\"linecolor\":\"white\",\"showbackground\":true,\"ticks\":\"\",\"zerolinecolor\":\"white\"}},\"shapedefaults\":{\"line\":{\"color\":\"#2a3f5f\"}},\"ternary\":{\"aaxis\":{\"gridcolor\":\"white\",\"linecolor\":\"white\",\"ticks\":\"\"},\"baxis\":{\"gridcolor\":\"white\",\"linecolor\":\"white\",\"ticks\":\"\"},\"bgcolor\":\"#E5ECF6\",\"caxis\":{\"gridcolor\":\"white\",\"linecolor\":\"white\",\"ticks\":\"\"}},\"title\":{\"x\":0.05},\"xaxis\":{\"automargin\":true,\"gridcolor\":\"white\",\"linecolor\":\"white\",\"ticks\":\"\",\"title\":{\"standoff\":15},\"zerolinecolor\":\"white\",\"zerolinewidth\":2},\"yaxis\":{\"automargin\":true,\"gridcolor\":\"white\",\"linecolor\":\"white\",\"ticks\":\"\",\"title\":{\"standoff\":15},\"zerolinecolor\":\"white\",\"zerolinewidth\":2}}},\"title\":{\"font\":{\"color\":\"#151516\"},\"text\":\"CULTIVOS DE COCA\"},\"xaxis\":{\"gridcolor\":\"#F6F6F6\",\"showgrid\":true,\"tickfont\":{\"color\":\"#666666\"},\"title\":{\"font\":{\"color\":\"#666666\"},\"text\":\"REGI\\u00d3N\"},\"zerolinecolor\":\"#F6F6F6\"},\"yaxis\":{\"gridcolor\":\"#F6F6F6\",\"showgrid\":true,\"tickfont\":{\"color\":\"#666666\"},\"title\":{\"font\":{\"color\":\"#666666\"},\"text\":\"HECT\\u00c1REAS\"},\"zerolinecolor\":\"#F6F6F6\"}},                        {\"showLink\": true, \"linkText\": \"Export to plot.ly\", \"plotlyServerURL\": \"https://plot.ly\", \"responsive\": true}                    ).then(function(){\n",
       "                            \n",
       "var gd = document.getElementById('72d32c7e-efb2-4290-aa69-94c1a1223617');\n",
       "var x = new MutationObserver(function (mutations, observer) {{\n",
       "        var display = window.getComputedStyle(gd).display;\n",
       "        if (!display || display === 'none') {{\n",
       "            console.log([gd, 'removed!']);\n",
       "            Plotly.purge(gd);\n",
       "            observer.disconnect();\n",
       "        }}\n",
       "}});\n",
       "\n",
       "// Listen for the removal of the full notebook cells\n",
       "var notebookContainer = gd.closest('#notebook-container');\n",
       "if (notebookContainer) {{\n",
       "    x.observe(notebookContainer, {childList: true});\n",
       "}}\n",
       "\n",
       "// Listen for the clearing of the current output cell\n",
       "var outputEl = gd.closest('.output');\n",
       "if (outputEl) {{\n",
       "    x.observe(outputEl, {childList: true});\n",
       "}}\n",
       "\n",
       "                        })                };                });            </script>        </div>"
      ]
     },
     "metadata": {},
     "output_type": "display_data"
    }
   ],
   "source": [
    "datos1 = datos1[datos1.index.isin(['REGIÓN AMAZÓNICA','REGIÓN ANDINA','REGIÓN CARIBE','REGIÓN ORINOQUÍA','REGIÓN PACÍFICA'])]\n",
    "datos1.iplot(kind='bar', legend='Reverse', xTitle='REGIÓN', yTitle='HECTÁREAS',\n",
    "             title='CULTIVOS DE COCA')"
   ]
  },
  {
   "cell_type": "code",
   "execution_count": 26,
   "id": "56890c03",
   "metadata": {},
   "outputs": [
    {
     "data": {
      "application/vnd.plotly.v1+json": {
       "config": {
        "linkText": "Export to plot.ly",
        "plotlyServerURL": "https://plot.ly",
        "showLink": true
       },
       "data": [
        {
         "boxpoints": false,
         "line": {
          "width": 1.3
         },
         "marker": {
          "color": "rgba(226, 74, 51, 1.0)"
         },
         "name": "2015",
         "orientation": "v",
         "type": "box",
         "y": [
          2126.37,
          19893.22,
          2453.81,
          17.13,
          689.98
         ]
        },
        {
         "boxpoints": false,
         "line": {
          "width": 1.3
         },
         "marker": {
          "color": "rgba(62, 111, 176, 1.0)"
         },
         "name": "2016",
         "orientation": "v",
         "type": "box",
         "y": [
          2427.5699999999997,
          17765.38,
          4293.320000000001,
          8.91,
          751.9300000000001
         ]
        },
        {
         "boxpoints": false,
         "line": {
          "width": 1.3
         },
         "marker": {
          "color": "rgba(132, 118, 202, 1.0)"
         },
         "name": "2017",
         "orientation": "v",
         "type": "box",
         "y": [
          2130.38,
          22836.76,
          3054.86,
          121.22,
          231.15
         ]
        },
        {
         "boxpoints": false,
         "line": {
          "width": 1.3
         },
         "marker": {
          "color": "rgba(101, 101, 101, 1.0)"
         },
         "name": "2018",
         "orientation": "v",
         "type": "box",
         "y": [
          2952.25,
          24688.15,
          3565.55,
          7.44,
          1270.56
         ]
        },
        {
         "boxpoints": false,
         "line": {
          "width": 1.3
         },
         "marker": {
          "color": "rgba(251, 193, 94, 1.0)"
         },
         "name": "2019",
         "orientation": "v",
         "type": "box",
         "y": [
          2863.1200000000003,
          19626.91,
          3567.7000000000003,
          0,
          1009.06
         ]
        },
        {
         "boxpoints": false,
         "line": {
          "width": 1.3
         },
         "marker": {
          "color": "rgba(142, 186, 66, 1.0)"
         },
         "name": "2020",
         "orientation": "v",
         "type": "box",
         "y": [
          24688.600000000002,
          102994.79999999999,
          13162.710000000001,
          0,
          1937.86
         ]
        }
       ],
       "layout": {
        "legend": {
         "bgcolor": "#FFFFFF",
         "font": {
          "color": "#666666"
         }
        },
        "paper_bgcolor": "#FFFFFF",
        "plot_bgcolor": "#E5E5E5",
        "template": {
         "data": {
          "bar": [
           {
            "error_x": {
             "color": "#2a3f5f"
            },
            "error_y": {
             "color": "#2a3f5f"
            },
            "marker": {
             "line": {
              "color": "#E5ECF6",
              "width": 0.5
             },
             "pattern": {
              "fillmode": "overlay",
              "size": 10,
              "solidity": 0.2
             }
            },
            "type": "bar"
           }
          ],
          "barpolar": [
           {
            "marker": {
             "line": {
              "color": "#E5ECF6",
              "width": 0.5
             },
             "pattern": {
              "fillmode": "overlay",
              "size": 10,
              "solidity": 0.2
             }
            },
            "type": "barpolar"
           }
          ],
          "carpet": [
           {
            "aaxis": {
             "endlinecolor": "#2a3f5f",
             "gridcolor": "white",
             "linecolor": "white",
             "minorgridcolor": "white",
             "startlinecolor": "#2a3f5f"
            },
            "baxis": {
             "endlinecolor": "#2a3f5f",
             "gridcolor": "white",
             "linecolor": "white",
             "minorgridcolor": "white",
             "startlinecolor": "#2a3f5f"
            },
            "type": "carpet"
           }
          ],
          "choropleth": [
           {
            "colorbar": {
             "outlinewidth": 0,
             "ticks": ""
            },
            "type": "choropleth"
           }
          ],
          "contour": [
           {
            "colorbar": {
             "outlinewidth": 0,
             "ticks": ""
            },
            "colorscale": [
             [
              0,
              "#0d0887"
             ],
             [
              0.1111111111111111,
              "#46039f"
             ],
             [
              0.2222222222222222,
              "#7201a8"
             ],
             [
              0.3333333333333333,
              "#9c179e"
             ],
             [
              0.4444444444444444,
              "#bd3786"
             ],
             [
              0.5555555555555556,
              "#d8576b"
             ],
             [
              0.6666666666666666,
              "#ed7953"
             ],
             [
              0.7777777777777778,
              "#fb9f3a"
             ],
             [
              0.8888888888888888,
              "#fdca26"
             ],
             [
              1,
              "#f0f921"
             ]
            ],
            "type": "contour"
           }
          ],
          "contourcarpet": [
           {
            "colorbar": {
             "outlinewidth": 0,
             "ticks": ""
            },
            "type": "contourcarpet"
           }
          ],
          "heatmap": [
           {
            "colorbar": {
             "outlinewidth": 0,
             "ticks": ""
            },
            "colorscale": [
             [
              0,
              "#0d0887"
             ],
             [
              0.1111111111111111,
              "#46039f"
             ],
             [
              0.2222222222222222,
              "#7201a8"
             ],
             [
              0.3333333333333333,
              "#9c179e"
             ],
             [
              0.4444444444444444,
              "#bd3786"
             ],
             [
              0.5555555555555556,
              "#d8576b"
             ],
             [
              0.6666666666666666,
              "#ed7953"
             ],
             [
              0.7777777777777778,
              "#fb9f3a"
             ],
             [
              0.8888888888888888,
              "#fdca26"
             ],
             [
              1,
              "#f0f921"
             ]
            ],
            "type": "heatmap"
           }
          ],
          "heatmapgl": [
           {
            "colorbar": {
             "outlinewidth": 0,
             "ticks": ""
            },
            "colorscale": [
             [
              0,
              "#0d0887"
             ],
             [
              0.1111111111111111,
              "#46039f"
             ],
             [
              0.2222222222222222,
              "#7201a8"
             ],
             [
              0.3333333333333333,
              "#9c179e"
             ],
             [
              0.4444444444444444,
              "#bd3786"
             ],
             [
              0.5555555555555556,
              "#d8576b"
             ],
             [
              0.6666666666666666,
              "#ed7953"
             ],
             [
              0.7777777777777778,
              "#fb9f3a"
             ],
             [
              0.8888888888888888,
              "#fdca26"
             ],
             [
              1,
              "#f0f921"
             ]
            ],
            "type": "heatmapgl"
           }
          ],
          "histogram": [
           {
            "marker": {
             "pattern": {
              "fillmode": "overlay",
              "size": 10,
              "solidity": 0.2
             }
            },
            "type": "histogram"
           }
          ],
          "histogram2d": [
           {
            "colorbar": {
             "outlinewidth": 0,
             "ticks": ""
            },
            "colorscale": [
             [
              0,
              "#0d0887"
             ],
             [
              0.1111111111111111,
              "#46039f"
             ],
             [
              0.2222222222222222,
              "#7201a8"
             ],
             [
              0.3333333333333333,
              "#9c179e"
             ],
             [
              0.4444444444444444,
              "#bd3786"
             ],
             [
              0.5555555555555556,
              "#d8576b"
             ],
             [
              0.6666666666666666,
              "#ed7953"
             ],
             [
              0.7777777777777778,
              "#fb9f3a"
             ],
             [
              0.8888888888888888,
              "#fdca26"
             ],
             [
              1,
              "#f0f921"
             ]
            ],
            "type": "histogram2d"
           }
          ],
          "histogram2dcontour": [
           {
            "colorbar": {
             "outlinewidth": 0,
             "ticks": ""
            },
            "colorscale": [
             [
              0,
              "#0d0887"
             ],
             [
              0.1111111111111111,
              "#46039f"
             ],
             [
              0.2222222222222222,
              "#7201a8"
             ],
             [
              0.3333333333333333,
              "#9c179e"
             ],
             [
              0.4444444444444444,
              "#bd3786"
             ],
             [
              0.5555555555555556,
              "#d8576b"
             ],
             [
              0.6666666666666666,
              "#ed7953"
             ],
             [
              0.7777777777777778,
              "#fb9f3a"
             ],
             [
              0.8888888888888888,
              "#fdca26"
             ],
             [
              1,
              "#f0f921"
             ]
            ],
            "type": "histogram2dcontour"
           }
          ],
          "mesh3d": [
           {
            "colorbar": {
             "outlinewidth": 0,
             "ticks": ""
            },
            "type": "mesh3d"
           }
          ],
          "parcoords": [
           {
            "line": {
             "colorbar": {
              "outlinewidth": 0,
              "ticks": ""
             }
            },
            "type": "parcoords"
           }
          ],
          "pie": [
           {
            "automargin": true,
            "type": "pie"
           }
          ],
          "scatter": [
           {
            "marker": {
             "colorbar": {
              "outlinewidth": 0,
              "ticks": ""
             }
            },
            "type": "scatter"
           }
          ],
          "scatter3d": [
           {
            "line": {
             "colorbar": {
              "outlinewidth": 0,
              "ticks": ""
             }
            },
            "marker": {
             "colorbar": {
              "outlinewidth": 0,
              "ticks": ""
             }
            },
            "type": "scatter3d"
           }
          ],
          "scattercarpet": [
           {
            "marker": {
             "colorbar": {
              "outlinewidth": 0,
              "ticks": ""
             }
            },
            "type": "scattercarpet"
           }
          ],
          "scattergeo": [
           {
            "marker": {
             "colorbar": {
              "outlinewidth": 0,
              "ticks": ""
             }
            },
            "type": "scattergeo"
           }
          ],
          "scattergl": [
           {
            "marker": {
             "colorbar": {
              "outlinewidth": 0,
              "ticks": ""
             }
            },
            "type": "scattergl"
           }
          ],
          "scattermapbox": [
           {
            "marker": {
             "colorbar": {
              "outlinewidth": 0,
              "ticks": ""
             }
            },
            "type": "scattermapbox"
           }
          ],
          "scatterpolar": [
           {
            "marker": {
             "colorbar": {
              "outlinewidth": 0,
              "ticks": ""
             }
            },
            "type": "scatterpolar"
           }
          ],
          "scatterpolargl": [
           {
            "marker": {
             "colorbar": {
              "outlinewidth": 0,
              "ticks": ""
             }
            },
            "type": "scatterpolargl"
           }
          ],
          "scatterternary": [
           {
            "marker": {
             "colorbar": {
              "outlinewidth": 0,
              "ticks": ""
             }
            },
            "type": "scatterternary"
           }
          ],
          "surface": [
           {
            "colorbar": {
             "outlinewidth": 0,
             "ticks": ""
            },
            "colorscale": [
             [
              0,
              "#0d0887"
             ],
             [
              0.1111111111111111,
              "#46039f"
             ],
             [
              0.2222222222222222,
              "#7201a8"
             ],
             [
              0.3333333333333333,
              "#9c179e"
             ],
             [
              0.4444444444444444,
              "#bd3786"
             ],
             [
              0.5555555555555556,
              "#d8576b"
             ],
             [
              0.6666666666666666,
              "#ed7953"
             ],
             [
              0.7777777777777778,
              "#fb9f3a"
             ],
             [
              0.8888888888888888,
              "#fdca26"
             ],
             [
              1,
              "#f0f921"
             ]
            ],
            "type": "surface"
           }
          ],
          "table": [
           {
            "cells": {
             "fill": {
              "color": "#EBF0F8"
             },
             "line": {
              "color": "white"
             }
            },
            "header": {
             "fill": {
              "color": "#C8D4E3"
             },
             "line": {
              "color": "white"
             }
            },
            "type": "table"
           }
          ]
         },
         "layout": {
          "annotationdefaults": {
           "arrowcolor": "#2a3f5f",
           "arrowhead": 0,
           "arrowwidth": 1
          },
          "autotypenumbers": "strict",
          "coloraxis": {
           "colorbar": {
            "outlinewidth": 0,
            "ticks": ""
           }
          },
          "colorscale": {
           "diverging": [
            [
             0,
             "#8e0152"
            ],
            [
             0.1,
             "#c51b7d"
            ],
            [
             0.2,
             "#de77ae"
            ],
            [
             0.3,
             "#f1b6da"
            ],
            [
             0.4,
             "#fde0ef"
            ],
            [
             0.5,
             "#f7f7f7"
            ],
            [
             0.6,
             "#e6f5d0"
            ],
            [
             0.7,
             "#b8e186"
            ],
            [
             0.8,
             "#7fbc41"
            ],
            [
             0.9,
             "#4d9221"
            ],
            [
             1,
             "#276419"
            ]
           ],
           "sequential": [
            [
             0,
             "#0d0887"
            ],
            [
             0.1111111111111111,
             "#46039f"
            ],
            [
             0.2222222222222222,
             "#7201a8"
            ],
            [
             0.3333333333333333,
             "#9c179e"
            ],
            [
             0.4444444444444444,
             "#bd3786"
            ],
            [
             0.5555555555555556,
             "#d8576b"
            ],
            [
             0.6666666666666666,
             "#ed7953"
            ],
            [
             0.7777777777777778,
             "#fb9f3a"
            ],
            [
             0.8888888888888888,
             "#fdca26"
            ],
            [
             1,
             "#f0f921"
            ]
           ],
           "sequentialminus": [
            [
             0,
             "#0d0887"
            ],
            [
             0.1111111111111111,
             "#46039f"
            ],
            [
             0.2222222222222222,
             "#7201a8"
            ],
            [
             0.3333333333333333,
             "#9c179e"
            ],
            [
             0.4444444444444444,
             "#bd3786"
            ],
            [
             0.5555555555555556,
             "#d8576b"
            ],
            [
             0.6666666666666666,
             "#ed7953"
            ],
            [
             0.7777777777777778,
             "#fb9f3a"
            ],
            [
             0.8888888888888888,
             "#fdca26"
            ],
            [
             1,
             "#f0f921"
            ]
           ]
          },
          "colorway": [
           "#636efa",
           "#EF553B",
           "#00cc96",
           "#ab63fa",
           "#FFA15A",
           "#19d3f3",
           "#FF6692",
           "#B6E880",
           "#FF97FF",
           "#FECB52"
          ],
          "font": {
           "color": "#2a3f5f"
          },
          "geo": {
           "bgcolor": "white",
           "lakecolor": "white",
           "landcolor": "#E5ECF6",
           "showlakes": true,
           "showland": true,
           "subunitcolor": "white"
          },
          "hoverlabel": {
           "align": "left"
          },
          "hovermode": "closest",
          "mapbox": {
           "style": "light"
          },
          "paper_bgcolor": "white",
          "plot_bgcolor": "#E5ECF6",
          "polar": {
           "angularaxis": {
            "gridcolor": "white",
            "linecolor": "white",
            "ticks": ""
           },
           "bgcolor": "#E5ECF6",
           "radialaxis": {
            "gridcolor": "white",
            "linecolor": "white",
            "ticks": ""
           }
          },
          "scene": {
           "xaxis": {
            "backgroundcolor": "#E5ECF6",
            "gridcolor": "white",
            "gridwidth": 2,
            "linecolor": "white",
            "showbackground": true,
            "ticks": "",
            "zerolinecolor": "white"
           },
           "yaxis": {
            "backgroundcolor": "#E5ECF6",
            "gridcolor": "white",
            "gridwidth": 2,
            "linecolor": "white",
            "showbackground": true,
            "ticks": "",
            "zerolinecolor": "white"
           },
           "zaxis": {
            "backgroundcolor": "#E5ECF6",
            "gridcolor": "white",
            "gridwidth": 2,
            "linecolor": "white",
            "showbackground": true,
            "ticks": "",
            "zerolinecolor": "white"
           }
          },
          "shapedefaults": {
           "line": {
            "color": "#2a3f5f"
           }
          },
          "ternary": {
           "aaxis": {
            "gridcolor": "white",
            "linecolor": "white",
            "ticks": ""
           },
           "baxis": {
            "gridcolor": "white",
            "linecolor": "white",
            "ticks": ""
           },
           "bgcolor": "#E5ECF6",
           "caxis": {
            "gridcolor": "white",
            "linecolor": "white",
            "ticks": ""
           }
          },
          "title": {
           "x": 0.05
          },
          "xaxis": {
           "automargin": true,
           "gridcolor": "white",
           "linecolor": "white",
           "ticks": "",
           "title": {
            "standoff": 15
           },
           "zerolinecolor": "white",
           "zerolinewidth": 2
          },
          "yaxis": {
           "automargin": true,
           "gridcolor": "white",
           "linecolor": "white",
           "ticks": "",
           "title": {
            "standoff": 15
           },
           "zerolinecolor": "white",
           "zerolinewidth": 2
          }
         }
        },
        "title": {
         "font": {
          "color": "#151516"
         },
         "text": "CULTIVOS DE COCA"
        },
        "xaxis": {
         "gridcolor": "#F6F6F6",
         "showgrid": true,
         "tickfont": {
          "color": "#666666"
         },
         "title": {
          "font": {
           "color": "#666666"
          },
          "text": "AÑO"
         },
         "zerolinecolor": "#F6F6F6"
        },
        "yaxis": {
         "gridcolor": "#F6F6F6",
         "showgrid": true,
         "tickfont": {
          "color": "#666666"
         },
         "title": {
          "font": {
           "color": "#666666"
          },
          "text": "HECTÁREAS"
         },
         "zerolinecolor": "#F6F6F6"
        }
       }
      },
      "text/html": [
       "<div>                            <div id=\"ecc509ec-219e-4a6e-9133-721a41f4b392\" class=\"plotly-graph-div\" style=\"height:525px; width:100%;\"></div>            <script type=\"text/javascript\">                require([\"plotly\"], function(Plotly) {                    window.PLOTLYENV=window.PLOTLYENV || {};\n",
       "                    window.PLOTLYENV.BASE_URL='https://plot.ly';                                    if (document.getElementById(\"ecc509ec-219e-4a6e-9133-721a41f4b392\")) {                    Plotly.newPlot(                        \"ecc509ec-219e-4a6e-9133-721a41f4b392\",                        [{\"boxpoints\":false,\"line\":{\"width\":1.3},\"marker\":{\"color\":\"rgba(226, 74, 51, 1.0)\"},\"name\":\"2015\",\"orientation\":\"v\",\"y\":[2126.37,19893.22,2453.81,17.13,689.98],\"type\":\"box\"},{\"boxpoints\":false,\"line\":{\"width\":1.3},\"marker\":{\"color\":\"rgba(62, 111, 176, 1.0)\"},\"name\":\"2016\",\"orientation\":\"v\",\"y\":[2427.5699999999997,17765.38,4293.320000000001,8.91,751.9300000000001],\"type\":\"box\"},{\"boxpoints\":false,\"line\":{\"width\":1.3},\"marker\":{\"color\":\"rgba(132, 118, 202, 1.0)\"},\"name\":\"2017\",\"orientation\":\"v\",\"y\":[2130.38,22836.76,3054.86,121.22,231.15],\"type\":\"box\"},{\"boxpoints\":false,\"line\":{\"width\":1.3},\"marker\":{\"color\":\"rgba(101, 101, 101, 1.0)\"},\"name\":\"2018\",\"orientation\":\"v\",\"y\":[2952.25,24688.15,3565.55,7.44,1270.56],\"type\":\"box\"},{\"boxpoints\":false,\"line\":{\"width\":1.3},\"marker\":{\"color\":\"rgba(251, 193, 94, 1.0)\"},\"name\":\"2019\",\"orientation\":\"v\",\"y\":[2863.1200000000003,19626.91,3567.7000000000003,0.0,1009.06],\"type\":\"box\"},{\"boxpoints\":false,\"line\":{\"width\":1.3},\"marker\":{\"color\":\"rgba(142, 186, 66, 1.0)\"},\"name\":\"2020\",\"orientation\":\"v\",\"y\":[24688.600000000002,102994.79999999999,13162.710000000001,0.0,1937.86],\"type\":\"box\"}],                        {\"legend\":{\"bgcolor\":\"#FFFFFF\",\"font\":{\"color\":\"#666666\"}},\"paper_bgcolor\":\"#FFFFFF\",\"plot_bgcolor\":\"#E5E5E5\",\"template\":{\"data\":{\"barpolar\":[{\"marker\":{\"line\":{\"color\":\"#E5ECF6\",\"width\":0.5},\"pattern\":{\"fillmode\":\"overlay\",\"size\":10,\"solidity\":0.2}},\"type\":\"barpolar\"}],\"bar\":[{\"error_x\":{\"color\":\"#2a3f5f\"},\"error_y\":{\"color\":\"#2a3f5f\"},\"marker\":{\"line\":{\"color\":\"#E5ECF6\",\"width\":0.5},\"pattern\":{\"fillmode\":\"overlay\",\"size\":10,\"solidity\":0.2}},\"type\":\"bar\"}],\"carpet\":[{\"aaxis\":{\"endlinecolor\":\"#2a3f5f\",\"gridcolor\":\"white\",\"linecolor\":\"white\",\"minorgridcolor\":\"white\",\"startlinecolor\":\"#2a3f5f\"},\"baxis\":{\"endlinecolor\":\"#2a3f5f\",\"gridcolor\":\"white\",\"linecolor\":\"white\",\"minorgridcolor\":\"white\",\"startlinecolor\":\"#2a3f5f\"},\"type\":\"carpet\"}],\"choropleth\":[{\"colorbar\":{\"outlinewidth\":0,\"ticks\":\"\"},\"type\":\"choropleth\"}],\"contourcarpet\":[{\"colorbar\":{\"outlinewidth\":0,\"ticks\":\"\"},\"type\":\"contourcarpet\"}],\"contour\":[{\"colorbar\":{\"outlinewidth\":0,\"ticks\":\"\"},\"colorscale\":[[0.0,\"#0d0887\"],[0.1111111111111111,\"#46039f\"],[0.2222222222222222,\"#7201a8\"],[0.3333333333333333,\"#9c179e\"],[0.4444444444444444,\"#bd3786\"],[0.5555555555555556,\"#d8576b\"],[0.6666666666666666,\"#ed7953\"],[0.7777777777777778,\"#fb9f3a\"],[0.8888888888888888,\"#fdca26\"],[1.0,\"#f0f921\"]],\"type\":\"contour\"}],\"heatmapgl\":[{\"colorbar\":{\"outlinewidth\":0,\"ticks\":\"\"},\"colorscale\":[[0.0,\"#0d0887\"],[0.1111111111111111,\"#46039f\"],[0.2222222222222222,\"#7201a8\"],[0.3333333333333333,\"#9c179e\"],[0.4444444444444444,\"#bd3786\"],[0.5555555555555556,\"#d8576b\"],[0.6666666666666666,\"#ed7953\"],[0.7777777777777778,\"#fb9f3a\"],[0.8888888888888888,\"#fdca26\"],[1.0,\"#f0f921\"]],\"type\":\"heatmapgl\"}],\"heatmap\":[{\"colorbar\":{\"outlinewidth\":0,\"ticks\":\"\"},\"colorscale\":[[0.0,\"#0d0887\"],[0.1111111111111111,\"#46039f\"],[0.2222222222222222,\"#7201a8\"],[0.3333333333333333,\"#9c179e\"],[0.4444444444444444,\"#bd3786\"],[0.5555555555555556,\"#d8576b\"],[0.6666666666666666,\"#ed7953\"],[0.7777777777777778,\"#fb9f3a\"],[0.8888888888888888,\"#fdca26\"],[1.0,\"#f0f921\"]],\"type\":\"heatmap\"}],\"histogram2dcontour\":[{\"colorbar\":{\"outlinewidth\":0,\"ticks\":\"\"},\"colorscale\":[[0.0,\"#0d0887\"],[0.1111111111111111,\"#46039f\"],[0.2222222222222222,\"#7201a8\"],[0.3333333333333333,\"#9c179e\"],[0.4444444444444444,\"#bd3786\"],[0.5555555555555556,\"#d8576b\"],[0.6666666666666666,\"#ed7953\"],[0.7777777777777778,\"#fb9f3a\"],[0.8888888888888888,\"#fdca26\"],[1.0,\"#f0f921\"]],\"type\":\"histogram2dcontour\"}],\"histogram2d\":[{\"colorbar\":{\"outlinewidth\":0,\"ticks\":\"\"},\"colorscale\":[[0.0,\"#0d0887\"],[0.1111111111111111,\"#46039f\"],[0.2222222222222222,\"#7201a8\"],[0.3333333333333333,\"#9c179e\"],[0.4444444444444444,\"#bd3786\"],[0.5555555555555556,\"#d8576b\"],[0.6666666666666666,\"#ed7953\"],[0.7777777777777778,\"#fb9f3a\"],[0.8888888888888888,\"#fdca26\"],[1.0,\"#f0f921\"]],\"type\":\"histogram2d\"}],\"histogram\":[{\"marker\":{\"pattern\":{\"fillmode\":\"overlay\",\"size\":10,\"solidity\":0.2}},\"type\":\"histogram\"}],\"mesh3d\":[{\"colorbar\":{\"outlinewidth\":0,\"ticks\":\"\"},\"type\":\"mesh3d\"}],\"parcoords\":[{\"line\":{\"colorbar\":{\"outlinewidth\":0,\"ticks\":\"\"}},\"type\":\"parcoords\"}],\"pie\":[{\"automargin\":true,\"type\":\"pie\"}],\"scatter3d\":[{\"line\":{\"colorbar\":{\"outlinewidth\":0,\"ticks\":\"\"}},\"marker\":{\"colorbar\":{\"outlinewidth\":0,\"ticks\":\"\"}},\"type\":\"scatter3d\"}],\"scattercarpet\":[{\"marker\":{\"colorbar\":{\"outlinewidth\":0,\"ticks\":\"\"}},\"type\":\"scattercarpet\"}],\"scattergeo\":[{\"marker\":{\"colorbar\":{\"outlinewidth\":0,\"ticks\":\"\"}},\"type\":\"scattergeo\"}],\"scattergl\":[{\"marker\":{\"colorbar\":{\"outlinewidth\":0,\"ticks\":\"\"}},\"type\":\"scattergl\"}],\"scattermapbox\":[{\"marker\":{\"colorbar\":{\"outlinewidth\":0,\"ticks\":\"\"}},\"type\":\"scattermapbox\"}],\"scatterpolargl\":[{\"marker\":{\"colorbar\":{\"outlinewidth\":0,\"ticks\":\"\"}},\"type\":\"scatterpolargl\"}],\"scatterpolar\":[{\"marker\":{\"colorbar\":{\"outlinewidth\":0,\"ticks\":\"\"}},\"type\":\"scatterpolar\"}],\"scatter\":[{\"marker\":{\"colorbar\":{\"outlinewidth\":0,\"ticks\":\"\"}},\"type\":\"scatter\"}],\"scatterternary\":[{\"marker\":{\"colorbar\":{\"outlinewidth\":0,\"ticks\":\"\"}},\"type\":\"scatterternary\"}],\"surface\":[{\"colorbar\":{\"outlinewidth\":0,\"ticks\":\"\"},\"colorscale\":[[0.0,\"#0d0887\"],[0.1111111111111111,\"#46039f\"],[0.2222222222222222,\"#7201a8\"],[0.3333333333333333,\"#9c179e\"],[0.4444444444444444,\"#bd3786\"],[0.5555555555555556,\"#d8576b\"],[0.6666666666666666,\"#ed7953\"],[0.7777777777777778,\"#fb9f3a\"],[0.8888888888888888,\"#fdca26\"],[1.0,\"#f0f921\"]],\"type\":\"surface\"}],\"table\":[{\"cells\":{\"fill\":{\"color\":\"#EBF0F8\"},\"line\":{\"color\":\"white\"}},\"header\":{\"fill\":{\"color\":\"#C8D4E3\"},\"line\":{\"color\":\"white\"}},\"type\":\"table\"}]},\"layout\":{\"annotationdefaults\":{\"arrowcolor\":\"#2a3f5f\",\"arrowhead\":0,\"arrowwidth\":1},\"autotypenumbers\":\"strict\",\"coloraxis\":{\"colorbar\":{\"outlinewidth\":0,\"ticks\":\"\"}},\"colorscale\":{\"diverging\":[[0,\"#8e0152\"],[0.1,\"#c51b7d\"],[0.2,\"#de77ae\"],[0.3,\"#f1b6da\"],[0.4,\"#fde0ef\"],[0.5,\"#f7f7f7\"],[0.6,\"#e6f5d0\"],[0.7,\"#b8e186\"],[0.8,\"#7fbc41\"],[0.9,\"#4d9221\"],[1,\"#276419\"]],\"sequential\":[[0.0,\"#0d0887\"],[0.1111111111111111,\"#46039f\"],[0.2222222222222222,\"#7201a8\"],[0.3333333333333333,\"#9c179e\"],[0.4444444444444444,\"#bd3786\"],[0.5555555555555556,\"#d8576b\"],[0.6666666666666666,\"#ed7953\"],[0.7777777777777778,\"#fb9f3a\"],[0.8888888888888888,\"#fdca26\"],[1.0,\"#f0f921\"]],\"sequentialminus\":[[0.0,\"#0d0887\"],[0.1111111111111111,\"#46039f\"],[0.2222222222222222,\"#7201a8\"],[0.3333333333333333,\"#9c179e\"],[0.4444444444444444,\"#bd3786\"],[0.5555555555555556,\"#d8576b\"],[0.6666666666666666,\"#ed7953\"],[0.7777777777777778,\"#fb9f3a\"],[0.8888888888888888,\"#fdca26\"],[1.0,\"#f0f921\"]]},\"colorway\":[\"#636efa\",\"#EF553B\",\"#00cc96\",\"#ab63fa\",\"#FFA15A\",\"#19d3f3\",\"#FF6692\",\"#B6E880\",\"#FF97FF\",\"#FECB52\"],\"font\":{\"color\":\"#2a3f5f\"},\"geo\":{\"bgcolor\":\"white\",\"lakecolor\":\"white\",\"landcolor\":\"#E5ECF6\",\"showlakes\":true,\"showland\":true,\"subunitcolor\":\"white\"},\"hoverlabel\":{\"align\":\"left\"},\"hovermode\":\"closest\",\"mapbox\":{\"style\":\"light\"},\"paper_bgcolor\":\"white\",\"plot_bgcolor\":\"#E5ECF6\",\"polar\":{\"angularaxis\":{\"gridcolor\":\"white\",\"linecolor\":\"white\",\"ticks\":\"\"},\"bgcolor\":\"#E5ECF6\",\"radialaxis\":{\"gridcolor\":\"white\",\"linecolor\":\"white\",\"ticks\":\"\"}},\"scene\":{\"xaxis\":{\"backgroundcolor\":\"#E5ECF6\",\"gridcolor\":\"white\",\"gridwidth\":2,\"linecolor\":\"white\",\"showbackground\":true,\"ticks\":\"\",\"zerolinecolor\":\"white\"},\"yaxis\":{\"backgroundcolor\":\"#E5ECF6\",\"gridcolor\":\"white\",\"gridwidth\":2,\"linecolor\":\"white\",\"showbackground\":true,\"ticks\":\"\",\"zerolinecolor\":\"white\"},\"zaxis\":{\"backgroundcolor\":\"#E5ECF6\",\"gridcolor\":\"white\",\"gridwidth\":2,\"linecolor\":\"white\",\"showbackground\":true,\"ticks\":\"\",\"zerolinecolor\":\"white\"}},\"shapedefaults\":{\"line\":{\"color\":\"#2a3f5f\"}},\"ternary\":{\"aaxis\":{\"gridcolor\":\"white\",\"linecolor\":\"white\",\"ticks\":\"\"},\"baxis\":{\"gridcolor\":\"white\",\"linecolor\":\"white\",\"ticks\":\"\"},\"bgcolor\":\"#E5ECF6\",\"caxis\":{\"gridcolor\":\"white\",\"linecolor\":\"white\",\"ticks\":\"\"}},\"title\":{\"x\":0.05},\"xaxis\":{\"automargin\":true,\"gridcolor\":\"white\",\"linecolor\":\"white\",\"ticks\":\"\",\"title\":{\"standoff\":15},\"zerolinecolor\":\"white\",\"zerolinewidth\":2},\"yaxis\":{\"automargin\":true,\"gridcolor\":\"white\",\"linecolor\":\"white\",\"ticks\":\"\",\"title\":{\"standoff\":15},\"zerolinecolor\":\"white\",\"zerolinewidth\":2}}},\"title\":{\"font\":{\"color\":\"#151516\"},\"text\":\"CULTIVOS DE COCA\"},\"xaxis\":{\"gridcolor\":\"#F6F6F6\",\"showgrid\":true,\"tickfont\":{\"color\":\"#666666\"},\"title\":{\"font\":{\"color\":\"#666666\"},\"text\":\"A\\u00d1O\"},\"zerolinecolor\":\"#F6F6F6\"},\"yaxis\":{\"gridcolor\":\"#F6F6F6\",\"showgrid\":true,\"tickfont\":{\"color\":\"#666666\"},\"title\":{\"font\":{\"color\":\"#666666\"},\"text\":\"HECT\\u00c1REAS\"},\"zerolinecolor\":\"#F6F6F6\"}},                        {\"showLink\": true, \"linkText\": \"Export to plot.ly\", \"plotlyServerURL\": \"https://plot.ly\", \"responsive\": true}                    ).then(function(){\n",
       "                            \n",
       "var gd = document.getElementById('ecc509ec-219e-4a6e-9133-721a41f4b392');\n",
       "var x = new MutationObserver(function (mutations, observer) {{\n",
       "        var display = window.getComputedStyle(gd).display;\n",
       "        if (!display || display === 'none') {{\n",
       "            console.log([gd, 'removed!']);\n",
       "            Plotly.purge(gd);\n",
       "            observer.disconnect();\n",
       "        }}\n",
       "}});\n",
       "\n",
       "// Listen for the removal of the full notebook cells\n",
       "var notebookContainer = gd.closest('#notebook-container');\n",
       "if (notebookContainer) {{\n",
       "    x.observe(notebookContainer, {childList: true});\n",
       "}}\n",
       "\n",
       "// Listen for the clearing of the current output cell\n",
       "var outputEl = gd.closest('.output');\n",
       "if (outputEl) {{\n",
       "    x.observe(outputEl, {childList: true});\n",
       "}}\n",
       "\n",
       "                        })                };                });            </script>        </div>"
      ]
     },
     "metadata": {},
     "output_type": "display_data"
    }
   ],
   "source": [
    "datos1.iplot(kind='box', xTitle='AÑO', yTitle='HECTÁREAS',\n",
    "           title='CULTIVOS DE COCA')"
   ]
  },
  {
   "cell_type": "code",
   "execution_count": 27,
   "id": "c85fcadf",
   "metadata": {},
   "outputs": [
    {
     "data": {
      "application/vnd.plotly.v1+json": {
       "config": {
        "linkText": "Export to plot.ly",
        "plotlyServerURL": "https://plot.ly",
        "showLink": true
       },
       "data": [
        {
         "labels": [
          "REGIÓN AMAZÓNICA",
          "REGIÓN ANDINA",
          "REGIÓN CARIBE",
          "REGIÓN ORINOQUÍA",
          "REGIÓN PACÍFICA"
         ],
         "marker": {
          "colors": [
           "rgba(226, 74, 51, 1.0)",
           "rgba(62, 111, 176, 1.0)",
           "rgba(132, 118, 202, 1.0)",
           "rgba(101, 101, 101, 1.0)",
           "rgba(251, 193, 94, 1.0)"
          ]
         },
         "name": "",
         "type": "pie",
         "values": [
          24688.600000000002,
          102994.79999999999,
          13162.710000000001,
          0,
          1937.86
         ]
        }
       ],
       "layout": {
        "legend": {
         "bgcolor": "#FFFFFF",
         "font": {
          "color": "#666666"
         }
        },
        "paper_bgcolor": "#FFFFFF",
        "plot_bgcolor": "#E5E5E5",
        "title": "CULTIVOS DE COCA DEL AÑO 2020",
        "titlefont": {
         "color": "#151516"
        }
       }
      },
      "text/html": [
       "<div>                            <div id=\"12650e62-3246-418d-9437-50a1aa1c1362\" class=\"plotly-graph-div\" style=\"height:525px; width:100%;\"></div>            <script type=\"text/javascript\">                require([\"plotly\"], function(Plotly) {                    window.PLOTLYENV=window.PLOTLYENV || {};\n",
       "                    window.PLOTLYENV.BASE_URL='https://plot.ly';                                    if (document.getElementById(\"12650e62-3246-418d-9437-50a1aa1c1362\")) {                    Plotly.newPlot(                        \"12650e62-3246-418d-9437-50a1aa1c1362\",                        [{\"labels\":[\"REGI\\u00d3N AMAZ\\u00d3NICA\",\"REGI\\u00d3N ANDINA\",\"REGI\\u00d3N CARIBE\",\"REGI\\u00d3N ORINOQU\\u00cdA\",\"REGI\\u00d3N PAC\\u00cdFICA\"],\"marker\":{\"colors\":[\"rgba(226, 74, 51, 1.0)\",\"rgba(62, 111, 176, 1.0)\",\"rgba(132, 118, 202, 1.0)\",\"rgba(101, 101, 101, 1.0)\",\"rgba(251, 193, 94, 1.0)\"]},\"name\":\"\",\"values\":[24688.600000000002,102994.79999999999,13162.710000000001,0.0,1937.86],\"type\":\"pie\"}],                        {\"legend\":{\"bgcolor\":\"#FFFFFF\",\"font\":{\"color\":\"#666666\"}},\"paper_bgcolor\":\"#FFFFFF\",\"plot_bgcolor\":\"#E5E5E5\",\"titlefont\":{\"color\":\"#151516\"},\"title\":\"CULTIVOS DE COCA DEL A\\u00d1O 2020\"},                        {\"showLink\": true, \"linkText\": \"Export to plot.ly\", \"plotlyServerURL\": \"https://plot.ly\", \"responsive\": true}                    ).then(function(){\n",
       "                            \n",
       "var gd = document.getElementById('12650e62-3246-418d-9437-50a1aa1c1362');\n",
       "var x = new MutationObserver(function (mutations, observer) {{\n",
       "        var display = window.getComputedStyle(gd).display;\n",
       "        if (!display || display === 'none') {{\n",
       "            console.log([gd, 'removed!']);\n",
       "            Plotly.purge(gd);\n",
       "            observer.disconnect();\n",
       "        }}\n",
       "}});\n",
       "\n",
       "// Listen for the removal of the full notebook cells\n",
       "var notebookContainer = gd.closest('#notebook-container');\n",
       "if (notebookContainer) {{\n",
       "    x.observe(notebookContainer, {childList: true});\n",
       "}}\n",
       "\n",
       "// Listen for the clearing of the current output cell\n",
       "var outputEl = gd.closest('.output');\n",
       "if (outputEl) {{\n",
       "    x.observe(outputEl, {childList: true});\n",
       "}}\n",
       "\n",
       "                        })                };                });            </script>        </div>"
      ]
     },
     "metadata": {},
     "output_type": "display_data"
    }
   ],
   "source": [
    "datospie = datos1.reset_index()\n",
    "datospie.iplot(kind='pie', labels='DEPARTAMENTO', values='2020',\n",
    "               title='CULTIVOS DE COCA DEL AÑO 2020')\n"
   ]
  }
 ],
 "metadata": {
  "colab": {
   "name": "Análisis cultivos de coca (1).ipynb",
   "provenance": []
  },
  "kernelspec": {
   "display_name": "Python 3 (ipykernel)",
   "language": "python",
   "name": "python3"
  },
  "language_info": {
   "codemirror_mode": {
    "name": "ipython",
    "version": 3
   },
   "file_extension": ".py",
   "mimetype": "text/x-python",
   "name": "python",
   "nbconvert_exporter": "python",
   "pygments_lexer": "ipython3",
   "version": "3.9.7"
  }
 },
 "nbformat": 4,
 "nbformat_minor": 5
}
